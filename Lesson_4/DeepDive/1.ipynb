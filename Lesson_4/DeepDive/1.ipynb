{
 "cells": [
  {
   "metadata": {},
   "cell_type": "markdown",
   "source": "## Без коротких сессий",
   "id": "5851d747ce5bad48"
  },
  {
   "cell_type": "code",
   "id": "initial_id",
   "metadata": {
    "collapsed": true,
    "ExecuteTime": {
     "end_time": "2024-10-21T15:17:10.803860Z",
     "start_time": "2024-10-21T15:17:10.452051Z"
    }
   },
   "source": [
    "import pandas as pd\n",
    "\n",
    "FILE_PATH = \"D:/Курсы(образование)/Яндекс Специализации/BigData/Lesson_4/user_sessions_log.tsv\"\n",
    "\n",
    "\n",
    "def process(df: pd.DataFrame):\n",
    "    df['timestamp'] = pd.to_datetime(df['timestamp'], unit='s')\n",
    "    df = df.drop(['value'], axis=1)\n",
    "    \n",
    "    # df.info()\n",
    "    # df.describe()\n",
    "    \n",
    "    df = df.groupby([\"user_id\", \"session_id\"]).agg(\n",
    "        action=pd.NamedAgg(column=\"action\", aggfunc=\"first\"),\n",
    "        dt_min=pd.NamedAgg(column=\"timestamp\", aggfunc=\"min\"),\n",
    "        dt_max=pd.NamedAgg(column=\"timestamp\", aggfunc=\"max\"),\n",
    "    ).reset_index()\n",
    "    \n",
    "    df = df[df['dt_max'] != df['dt_min']]\n",
    "    df = df[['user_id', 'session_id', 'action']]\n",
    "    \n",
    "    a1 = len(df[df['action'] == \"mainpage\"])\n",
    "    a2 = len(df)\n",
    "    \n",
    "    return round(a1 / a2 * 100, 2)\n"
   ],
   "outputs": [],
   "execution_count": 1
  },
  {
   "metadata": {
    "ExecuteTime": {
     "end_time": "2024-10-21T15:17:12.600394Z",
     "start_time": "2024-10-21T15:17:10.804911Z"
    }
   },
   "cell_type": "code",
   "source": [
    "df = pd.read_csv(FILE_PATH, sep='\\t')\n",
    "df['timestamp'] = pd.to_datetime(df['timestamp'], unit='s')\n",
    "df = df.drop(['value'], axis=1)"
   ],
   "id": "1840fc53e53136db",
   "outputs": [],
   "execution_count": 2
  },
  {
   "metadata": {
    "ExecuteTime": {
     "end_time": "2024-10-21T15:17:12.764090Z",
     "start_time": "2024-10-21T15:17:12.602409Z"
    }
   },
   "cell_type": "code",
   "source": [
    "df.info()\n",
    "df.describe()"
   ],
   "id": "4c23ead8befdf42f",
   "outputs": [
    {
     "name": "stdout",
     "output_type": "stream",
     "text": [
      "<class 'pandas.core.frame.DataFrame'>\n",
      "RangeIndex: 5338917 entries, 0 to 5338916\n",
      "Data columns (total 4 columns):\n",
      " #   Column      Dtype         \n",
      "---  ------      -----         \n",
      " 0   user_id     object        \n",
      " 1   session_id  int64         \n",
      " 2   timestamp   datetime64[ns]\n",
      " 3   action      object        \n",
      "dtypes: datetime64[ns](1), int64(1), object(2)\n",
      "memory usage: 162.9+ MB\n"
     ]
    },
    {
     "data": {
      "text/plain": [
       "         session_id                      timestamp\n",
       "count  5.338917e+06                        5338917\n",
       "mean   1.011325e+02  2023-04-06 20:23:23.413941504\n",
       "min    1.000000e+00            2022-09-20 21:00:32\n",
       "25%    5.100000e+01            2022-12-29 05:32:01\n",
       "50%    1.010000e+02            2023-04-06 18:49:10\n",
       "75%    1.510000e+02            2023-07-14 08:39:24\n",
       "max    2.240000e+02            2023-10-20 21:00:11\n",
       "std    5.841469e+01                            NaN"
      ],
      "text/html": [
       "<div>\n",
       "<style scoped>\n",
       "    .dataframe tbody tr th:only-of-type {\n",
       "        vertical-align: middle;\n",
       "    }\n",
       "\n",
       "    .dataframe tbody tr th {\n",
       "        vertical-align: top;\n",
       "    }\n",
       "\n",
       "    .dataframe thead th {\n",
       "        text-align: right;\n",
       "    }\n",
       "</style>\n",
       "<table border=\"1\" class=\"dataframe\">\n",
       "  <thead>\n",
       "    <tr style=\"text-align: right;\">\n",
       "      <th></th>\n",
       "      <th>session_id</th>\n",
       "      <th>timestamp</th>\n",
       "    </tr>\n",
       "  </thead>\n",
       "  <tbody>\n",
       "    <tr>\n",
       "      <th>count</th>\n",
       "      <td>5.338917e+06</td>\n",
       "      <td>5338917</td>\n",
       "    </tr>\n",
       "    <tr>\n",
       "      <th>mean</th>\n",
       "      <td>1.011325e+02</td>\n",
       "      <td>2023-04-06 20:23:23.413941504</td>\n",
       "    </tr>\n",
       "    <tr>\n",
       "      <th>min</th>\n",
       "      <td>1.000000e+00</td>\n",
       "      <td>2022-09-20 21:00:32</td>\n",
       "    </tr>\n",
       "    <tr>\n",
       "      <th>25%</th>\n",
       "      <td>5.100000e+01</td>\n",
       "      <td>2022-12-29 05:32:01</td>\n",
       "    </tr>\n",
       "    <tr>\n",
       "      <th>50%</th>\n",
       "      <td>1.010000e+02</td>\n",
       "      <td>2023-04-06 18:49:10</td>\n",
       "    </tr>\n",
       "    <tr>\n",
       "      <th>75%</th>\n",
       "      <td>1.510000e+02</td>\n",
       "      <td>2023-07-14 08:39:24</td>\n",
       "    </tr>\n",
       "    <tr>\n",
       "      <th>max</th>\n",
       "      <td>2.240000e+02</td>\n",
       "      <td>2023-10-20 21:00:11</td>\n",
       "    </tr>\n",
       "    <tr>\n",
       "      <th>std</th>\n",
       "      <td>5.841469e+01</td>\n",
       "      <td>NaN</td>\n",
       "    </tr>\n",
       "  </tbody>\n",
       "</table>\n",
       "</div>"
      ]
     },
     "execution_count": 3,
     "metadata": {},
     "output_type": "execute_result"
    }
   ],
   "execution_count": 3
  },
  {
   "metadata": {
    "ExecuteTime": {
     "end_time": "2024-10-21T15:37:01.168694Z",
     "start_time": "2024-10-21T15:37:00.286324Z"
    }
   },
   "cell_type": "code",
   "source": [
    "df_grouped = df.groupby([\"user_id\", \"session_id\"]).agg(\n",
    "    action=pd.NamedAgg(column=\"action\", aggfunc=\"first\"),\n",
    "    dt_min=pd.NamedAgg(column=\"timestamp\", aggfunc=\"min\"),\n",
    "    dt_max=pd.NamedAgg(column=\"timestamp\", aggfunc=\"max\"),\n",
    ").reset_index()\n",
    "# print(df_grouped)\n",
    "\n",
    "df_grouped = df_grouped[df_grouped['dt_max'] != df_grouped['dt_min']]\n",
    "df_grouped = df_grouped[['user_id', 'session_id', 'action']]"
   ],
   "id": "cd3c2557b3f5aac7",
   "outputs": [
    {
     "name": "stdout",
     "output_type": "stream",
     "text": [
      "            user_id  session_id    action              dt_min  \\\n",
      "0        user_10000           1   product 2022-09-24 23:00:32   \n",
      "1        user_10000           2    search 2022-09-24 23:01:36   \n",
      "2        user_10000           3  category 2022-09-25 23:04:40   \n",
      "3        user_10000           4  mainpage 2022-09-27 23:04:52   \n",
      "4        user_10000           5  category 2022-09-30 23:06:29   \n",
      "...             ...         ...       ...                 ...   \n",
      "1004598  user_14999         195  mainpage 2023-10-11 09:07:47   \n",
      "1004599  user_14999         196    search 2023-10-14 09:12:27   \n",
      "1004600  user_14999         197   product 2023-10-14 09:13:33   \n",
      "1004601  user_14999         198    search 2023-10-16 09:14:52   \n",
      "1004602  user_14999         199   product 2023-10-19 09:16:53   \n",
      "\n",
      "                     dt_max  \n",
      "0       2022-09-24 23:01:05  \n",
      "1       2022-09-24 23:04:16  \n",
      "2       2022-09-25 23:04:46  \n",
      "3       2022-09-27 23:05:59  \n",
      "4       2022-09-30 23:08:14  \n",
      "...                     ...  \n",
      "1004598 2023-10-11 09:12:24  \n",
      "1004599 2023-10-14 09:13:26  \n",
      "1004600 2023-10-14 09:14:30  \n",
      "1004601 2023-10-16 09:16:51  \n",
      "1004602 2023-10-19 09:18:23  \n",
      "\n",
      "[814512 rows x 5 columns]\n"
     ]
    }
   ],
   "execution_count": 19
  },
  {
   "metadata": {
    "ExecuteTime": {
     "end_time": "2024-10-21T15:35:50.770625Z",
     "start_time": "2024-10-21T15:35:50.731844Z"
    }
   },
   "cell_type": "code",
   "source": [
    "# df_grouped[['user_id', 'session_id', 'action']]\n",
    "a1 = len(df_grouped[df_grouped['action'] == \"mainpage\"])\n",
    "a2 = len(df_grouped)\n",
    "res = round(a1 / a2 * 100, 2)\n",
    "print(res)"
   ],
   "id": "7e2396c1801c38a9",
   "outputs": [
    {
     "name": "stdout",
     "output_type": "stream",
     "text": [
      "173711 814512 0.21327003162629893\n"
     ]
    }
   ],
   "execution_count": 18
  }
 ],
 "metadata": {
  "kernelspec": {
   "display_name": "Python 3",
   "language": "python",
   "name": "python3"
  },
  "language_info": {
   "codemirror_mode": {
    "name": "ipython",
    "version": 2
   },
   "file_extension": ".py",
   "mimetype": "text/x-python",
   "name": "python",
   "nbconvert_exporter": "python",
   "pygments_lexer": "ipython2",
   "version": "2.7.6"
  }
 },
 "nbformat": 4,
 "nbformat_minor": 5
}
