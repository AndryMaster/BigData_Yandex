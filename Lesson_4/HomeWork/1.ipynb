{
 "cells": [
  {
   "metadata": {},
   "cell_type": "markdown",
   "source": "## Несчастливый билет",
   "id": "c78df0ed61c59772"
  },
  {
   "cell_type": "code",
   "id": "initial_id",
   "metadata": {
    "collapsed": true,
    "ExecuteTime": {
     "end_time": "2024-10-23T13:21:15.669313Z",
     "start_time": "2024-10-23T13:21:15.665233Z"
    }
   },
   "source": [
    "import pandas as pd\n",
    "\n",
    "\n",
    "def is_good_ticket(ticket: str) -> bool:\n",
    "    if not ticket.isnumeric():\n",
    "        ticket = ticket.split()[-1]\n",
    "    ticket.strip()\n",
    "    if len(ticket) % 2 == 1:\n",
    "        return False\n",
    "    return sum(map(int, ticket[:len(ticket) // 2])) == sum(map(int, ticket[len(ticket) // 2:]))\n",
    "\n",
    "\n",
    "def process(df: pd.DataFrame):\n",
    "    df = df.loc[df['Ticket'].apply(lambda s: is_good_ticket(s))]\n",
    "    return round(df.loc[df['Survived'] == 1].shape[0] / df.shape[0] * 100, 2)"
   ],
   "outputs": [],
   "execution_count": 28
  },
  {
   "metadata": {
    "ExecuteTime": {
     "end_time": "2024-10-23T13:21:18.617521Z",
     "start_time": "2024-10-23T13:21:18.599293Z"
    }
   },
   "cell_type": "code",
   "source": [
    "df = pd.read_csv(\"titanic.csv\", delimiter='\\t', index_col=0)\n",
    "\n",
    "df.info()\n",
    "df.describe()"
   ],
   "id": "1c02f0465e2c2fdd",
   "outputs": [
    {
     "name": "stdout",
     "output_type": "stream",
     "text": [
      "<class 'pandas.core.frame.DataFrame'>\n",
      "Index: 156 entries, 1 to 156\n",
      "Data columns (total 11 columns):\n",
      " #   Column    Non-Null Count  Dtype  \n",
      "---  ------    --------------  -----  \n",
      " 0   Survived  156 non-null    int64  \n",
      " 1   Pclass    156 non-null    int64  \n",
      " 2   Name      156 non-null    object \n",
      " 3   Sex       156 non-null    object \n",
      " 4   Age       126 non-null    float64\n",
      " 5   SibSp     156 non-null    int64  \n",
      " 6   Parch     156 non-null    int64  \n",
      " 7   Ticket    156 non-null    object \n",
      " 8   Fare      156 non-null    float64\n",
      " 9   Cabin     31 non-null     object \n",
      " 10  Embarked  155 non-null    object \n",
      "dtypes: float64(2), int64(4), object(5)\n",
      "memory usage: 14.6+ KB\n"
     ]
    },
    {
     "data": {
      "text/plain": [
       "         Survived      Pclass         Age       SibSp       Parch        Fare\n",
       "count  156.000000  156.000000  126.000000  156.000000  156.000000  156.000000\n",
       "mean     0.346154    2.423077   28.141508    0.615385    0.397436   28.109587\n",
       "std      0.477275    0.795459   14.613880    1.056235    0.870146   39.401047\n",
       "min      0.000000    1.000000    0.830000    0.000000    0.000000    6.750000\n",
       "25%      0.000000    2.000000   19.000000    0.000000    0.000000    8.003150\n",
       "50%      0.000000    3.000000   26.000000    0.000000    0.000000   14.454200\n",
       "75%      1.000000    3.000000   35.000000    1.000000    0.000000   30.371850\n",
       "max      1.000000    3.000000   71.000000    5.000000    5.000000  263.000000"
      ],
      "text/html": [
       "<div>\n",
       "<style scoped>\n",
       "    .dataframe tbody tr th:only-of-type {\n",
       "        vertical-align: middle;\n",
       "    }\n",
       "\n",
       "    .dataframe tbody tr th {\n",
       "        vertical-align: top;\n",
       "    }\n",
       "\n",
       "    .dataframe thead th {\n",
       "        text-align: right;\n",
       "    }\n",
       "</style>\n",
       "<table border=\"1\" class=\"dataframe\">\n",
       "  <thead>\n",
       "    <tr style=\"text-align: right;\">\n",
       "      <th></th>\n",
       "      <th>Survived</th>\n",
       "      <th>Pclass</th>\n",
       "      <th>Age</th>\n",
       "      <th>SibSp</th>\n",
       "      <th>Parch</th>\n",
       "      <th>Fare</th>\n",
       "    </tr>\n",
       "  </thead>\n",
       "  <tbody>\n",
       "    <tr>\n",
       "      <th>count</th>\n",
       "      <td>156.000000</td>\n",
       "      <td>156.000000</td>\n",
       "      <td>126.000000</td>\n",
       "      <td>156.000000</td>\n",
       "      <td>156.000000</td>\n",
       "      <td>156.000000</td>\n",
       "    </tr>\n",
       "    <tr>\n",
       "      <th>mean</th>\n",
       "      <td>0.346154</td>\n",
       "      <td>2.423077</td>\n",
       "      <td>28.141508</td>\n",
       "      <td>0.615385</td>\n",
       "      <td>0.397436</td>\n",
       "      <td>28.109587</td>\n",
       "    </tr>\n",
       "    <tr>\n",
       "      <th>std</th>\n",
       "      <td>0.477275</td>\n",
       "      <td>0.795459</td>\n",
       "      <td>14.613880</td>\n",
       "      <td>1.056235</td>\n",
       "      <td>0.870146</td>\n",
       "      <td>39.401047</td>\n",
       "    </tr>\n",
       "    <tr>\n",
       "      <th>min</th>\n",
       "      <td>0.000000</td>\n",
       "      <td>1.000000</td>\n",
       "      <td>0.830000</td>\n",
       "      <td>0.000000</td>\n",
       "      <td>0.000000</td>\n",
       "      <td>6.750000</td>\n",
       "    </tr>\n",
       "    <tr>\n",
       "      <th>25%</th>\n",
       "      <td>0.000000</td>\n",
       "      <td>2.000000</td>\n",
       "      <td>19.000000</td>\n",
       "      <td>0.000000</td>\n",
       "      <td>0.000000</td>\n",
       "      <td>8.003150</td>\n",
       "    </tr>\n",
       "    <tr>\n",
       "      <th>50%</th>\n",
       "      <td>0.000000</td>\n",
       "      <td>3.000000</td>\n",
       "      <td>26.000000</td>\n",
       "      <td>0.000000</td>\n",
       "      <td>0.000000</td>\n",
       "      <td>14.454200</td>\n",
       "    </tr>\n",
       "    <tr>\n",
       "      <th>75%</th>\n",
       "      <td>1.000000</td>\n",
       "      <td>3.000000</td>\n",
       "      <td>35.000000</td>\n",
       "      <td>1.000000</td>\n",
       "      <td>0.000000</td>\n",
       "      <td>30.371850</td>\n",
       "    </tr>\n",
       "    <tr>\n",
       "      <th>max</th>\n",
       "      <td>1.000000</td>\n",
       "      <td>3.000000</td>\n",
       "      <td>71.000000</td>\n",
       "      <td>5.000000</td>\n",
       "      <td>5.000000</td>\n",
       "      <td>263.000000</td>\n",
       "    </tr>\n",
       "  </tbody>\n",
       "</table>\n",
       "</div>"
      ]
     },
     "execution_count": 29,
     "metadata": {},
     "output_type": "execute_result"
    }
   ],
   "execution_count": 29
  },
  {
   "metadata": {
    "ExecuteTime": {
     "end_time": "2024-10-23T13:21:19.846635Z",
     "start_time": "2024-10-23T13:21:19.840955Z"
    }
   },
   "cell_type": "code",
   "source": "process(df)",
   "id": "96483f8af6a674e0",
   "outputs": [
    {
     "name": "stdout",
     "output_type": "stream",
     "text": [
      "1\n",
      "4\n"
     ]
    },
    {
     "data": {
      "text/plain": [
       "20.0"
      ]
     },
     "execution_count": 30,
     "metadata": {},
     "output_type": "execute_result"
    }
   ],
   "execution_count": 30
  },
  {
   "metadata": {},
   "cell_type": "code",
   "outputs": [],
   "execution_count": null,
   "source": "",
   "id": "b1a082c73928cbf1"
  }
 ],
 "metadata": {
  "kernelspec": {
   "display_name": "Python 3",
   "language": "python",
   "name": "python3"
  },
  "language_info": {
   "codemirror_mode": {
    "name": "ipython",
    "version": 2
   },
   "file_extension": ".py",
   "mimetype": "text/x-python",
   "name": "python",
   "nbconvert_exporter": "python",
   "pygments_lexer": "ipython2",
   "version": "2.7.6"
  }
 },
 "nbformat": 4,
 "nbformat_minor": 5
}
