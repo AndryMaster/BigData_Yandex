{
 "cells": [
  {
   "metadata": {},
   "cell_type": "markdown",
   "source": "## Apriori на минималках\n",
   "id": "c78df0ed61c59772"
  },
  {
   "metadata": {
    "ExecuteTime": {
     "end_time": "2024-10-26T09:11:01.736308Z",
     "start_time": "2024-10-26T09:11:01.605641Z"
    }
   },
   "cell_type": "code",
   "source": [
    "import apyori\n",
    "import csv\n",
    "\n",
    "operations = []\n",
    "with open('store_data.csv') as file:\n",
    "    for line in file.readlines():\n",
    "        line = line.strip().split(',')\n",
    "        operations.append(line)\n",
    "        \n",
    "res = list(\n",
    "    apyori.apriori(\n",
    "        operations,\n",
    "        min_support=0.005,\n",
    "        min_confidence=0.2,\n",
    "        min_lift=3)\n",
    ")       \n",
    "# print(res)\n",
    "\n",
    "with open('output.csv', mode='w', newline='') as file:\n",
    "    writer = csv.writer(file)\n",
    "    writer.writerow('item_base item_add support confidence lift'.split())\n",
    "    \n",
    "    for relation_record in res:\n",
    "        items = relation_record.items\n",
    "        if len(items) == 2:\n",
    "            support = relation_record.support\n",
    "            item_base = relation_record.ordered_statistics[0].items_base\n",
    "            item_add = relation_record.ordered_statistics[0].items_add\n",
    "            confidence = relation_record.ordered_statistics[0].confidence\n",
    "            lift = relation_record.ordered_statistics[0].lift\n",
    "            \n",
    "            writer.writerow([\n",
    "                ' '.join(item_base),\n",
    "                ' '.join(item_add),\n",
    "                round(support, 3),\n",
    "                round(confidence, 3),\n",
    "                round(lift, 3)\n",
    "            ])\n",
    "            # print(list(items), support, confidence, lift)"
   ],
   "id": "1ef3f68299c9b462",
   "outputs": [
    {
     "name": "stdout",
     "output_type": "stream",
     "text": [
      "[RelationRecord(items=frozenset({'escalope', 'mushroom cream sauce'}), support=0.005732568990801226, ordered_statistics=[OrderedStatistic(items_base=frozenset({'mushroom cream sauce'}), items_add=frozenset({'escalope'}), confidence=0.3006993006993007, lift=3.790832696715049)]), RelationRecord(items=frozenset({'escalope', 'pasta'}), support=0.005865884548726837, ordered_statistics=[OrderedStatistic(items_base=frozenset({'pasta'}), items_add=frozenset({'escalope'}), confidence=0.3728813559322034, lift=4.700811850163794)]), RelationRecord(items=frozenset({'ground beef', 'herb & pepper'}), support=0.015997866951073192, ordered_statistics=[OrderedStatistic(items_base=frozenset({'herb & pepper'}), items_add=frozenset({'ground beef'}), confidence=0.3234501347708895, lift=3.2919938411349285)]), RelationRecord(items=frozenset({'ground beef', 'tomato sauce'}), support=0.005332622317024397, ordered_statistics=[OrderedStatistic(items_base=frozenset({'tomato sauce'}), items_add=frozenset({'ground beef'}), confidence=0.3773584905660377, lift=3.840659481324083)]), RelationRecord(items=frozenset({'olive oil', 'whole wheat pasta'}), support=0.007998933475536596, ordered_statistics=[OrderedStatistic(items_base=frozenset({'whole wheat pasta'}), items_add=frozenset({'olive oil'}), confidence=0.2714932126696833, lift=4.122410097642296)]), RelationRecord(items=frozenset({'pasta', 'shrimp'}), support=0.005065991201173177, ordered_statistics=[OrderedStatistic(items_base=frozenset({'pasta'}), items_add=frozenset({'shrimp'}), confidence=0.3220338983050847, lift=4.506672147735896)]), RelationRecord(items=frozenset({'frozen vegetables', 'chocolate', 'shrimp'}), support=0.005332622317024397, ordered_statistics=[OrderedStatistic(items_base=frozenset({'frozen vegetables', 'chocolate'}), items_add=frozenset({'shrimp'}), confidence=0.23255813953488375, lift=3.2545123221103784), OrderedStatistic(items_base=frozenset({'chocolate', 'shrimp'}), items_add=frozenset({'frozen vegetables'}), confidence=0.29629629629629634, lift=3.1084175084175087)]), RelationRecord(items=frozenset({'frozen vegetables', 'ground beef', 'spaghetti'}), support=0.008665511265164644, ordered_statistics=[OrderedStatistic(items_base=frozenset({'frozen vegetables', 'spaghetti'}), items_add=frozenset({'ground beef'}), confidence=0.31100478468899523, lift=3.165328208890303)]), RelationRecord(items=frozenset({'frozen vegetables', 'mineral water', 'shrimp'}), support=0.007199040127982935, ordered_statistics=[OrderedStatistic(items_base=frozenset({'mineral water', 'shrimp'}), items_add=frozenset({'frozen vegetables'}), confidence=0.30508474576271183, lift=3.200616332819722)]), RelationRecord(items=frozenset({'frozen vegetables', 'olive oil', 'spaghetti'}), support=0.005732568990801226, ordered_statistics=[OrderedStatistic(items_base=frozenset({'frozen vegetables', 'spaghetti'}), items_add=frozenset({'olive oil'}), confidence=0.20574162679425836, lift=3.1240241752707125)]), RelationRecord(items=frozenset({'frozen vegetables', 'spaghetti', 'shrimp'}), support=0.005999200106652446, ordered_statistics=[OrderedStatistic(items_base=frozenset({'frozen vegetables', 'spaghetti'}), items_add=frozenset({'shrimp'}), confidence=0.21531100478468898, lift=3.0131489680782684)]), RelationRecord(items=frozenset({'frozen vegetables', 'tomatoes', 'spaghetti'}), support=0.006665777896280496, ordered_statistics=[OrderedStatistic(items_base=frozenset({'frozen vegetables', 'spaghetti'}), items_add=frozenset({'tomatoes'}), confidence=0.23923444976076558, lift=3.4980460188216425), OrderedStatistic(items_base=frozenset({'spaghetti', 'tomatoes'}), items_add=frozenset({'frozen vegetables'}), confidence=0.3184713375796179, lift=3.341053850607991)]), RelationRecord(items=frozenset({'spaghetti', 'ground beef', 'grated cheese'}), support=0.005332622317024397, ordered_statistics=[OrderedStatistic(items_base=frozenset({'spaghetti', 'grated cheese'}), items_add=frozenset({'ground beef'}), confidence=0.3225806451612903, lift=3.283144395325426)]), RelationRecord(items=frozenset({'ground beef', 'herb & pepper', 'mineral water'}), support=0.006665777896280496, ordered_statistics=[OrderedStatistic(items_base=frozenset({'herb & pepper', 'mineral water'}), items_add=frozenset({'ground beef'}), confidence=0.39062500000000006, lift=3.975682666214383)]), RelationRecord(items=frozenset({'spaghetti', 'ground beef', 'herb & pepper'}), support=0.006399146780429276, ordered_statistics=[OrderedStatistic(items_base=frozenset({'spaghetti', 'herb & pepper'}), items_add=frozenset({'ground beef'}), confidence=0.3934426229508197, lift=4.004359721511667)]), RelationRecord(items=frozenset({'spaghetti', 'ground beef', 'shrimp'}), support=0.005999200106652446, ordered_statistics=[OrderedStatistic(items_base=frozenset({'ground beef', 'shrimp'}), items_add=frozenset({'spaghetti'}), confidence=0.5232558139534884, lift=3.005315360233627)]), RelationRecord(items=frozenset({'milk', 'olive oil', 'spaghetti'}), support=0.007199040127982935, ordered_statistics=[OrderedStatistic(items_base=frozenset({'milk', 'spaghetti'}), items_add=frozenset({'olive oil'}), confidence=0.20300751879699247, lift=3.0825089038385434)]), RelationRecord(items=frozenset({'olive oil', 'soup', 'mineral water'}), support=0.005199306759098787, ordered_statistics=[OrderedStatistic(items_base=frozenset({'soup', 'mineral water'}), items_add=frozenset({'olive oil'}), confidence=0.22543352601156072, lift=3.4230301186492245)]), RelationRecord(items=frozenset({'olive oil', 'pancakes', 'spaghetti'}), support=0.005065991201173177, ordered_statistics=[OrderedStatistic(items_base=frozenset({'spaghetti', 'pancakes'}), items_add=frozenset({'olive oil'}), confidence=0.20105820105820105, lift=3.0529100529100526)])]\n",
      "['escalope', 'mushroom cream sauce'] 0.005732568990801226 0.3006993006993007 3.790832696715049\n",
      "['escalope', 'pasta'] 0.005865884548726837 0.3728813559322034 4.700811850163794\n",
      "['ground beef', 'herb & pepper'] 0.015997866951073192 0.3234501347708895 3.2919938411349285\n",
      "['ground beef', 'tomato sauce'] 0.005332622317024397 0.3773584905660377 3.840659481324083\n",
      "['olive oil', 'whole wheat pasta'] 0.007998933475536596 0.2714932126696833 4.122410097642296\n",
      "['pasta', 'shrimp'] 0.005065991201173177 0.3220338983050847 4.506672147735896\n"
     ]
    }
   ],
   "execution_count": 15
  }
 ],
 "metadata": {
  "kernelspec": {
   "display_name": "Python 3",
   "language": "python",
   "name": "python3"
  },
  "language_info": {
   "codemirror_mode": {
    "name": "ipython",
    "version": 2
   },
   "file_extension": ".py",
   "mimetype": "text/x-python",
   "name": "python",
   "nbconvert_exporter": "python",
   "pygments_lexer": "ipython2",
   "version": "2.7.6"
  }
 },
 "nbformat": 4,
 "nbformat_minor": 5
}
