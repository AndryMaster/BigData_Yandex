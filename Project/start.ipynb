{
 "cells": [
  {
   "cell_type": "code",
   "id": "initial_id",
   "metadata": {
    "collapsed": true,
    "ExecuteTime": {
     "end_time": "2024-12-02T12:22:11.958801Z",
     "start_time": "2024-12-02T12:21:51.408095Z"
    }
   },
   "source": [
    "import numpy as np\n",
    "import pandas as pd\n",
    "import matplotlib.pyplot as plt\n",
    "from IPython.display import display\n",
    "\n",
    "from config import PATH\n",
    "\n",
    "df = pd.read_csv(PATH, index_col=0)"
   ],
   "outputs": [],
   "execution_count": 1
  },
  {
   "metadata": {
    "ExecuteTime": {
     "end_time": "2024-12-02T12:22:16.385345Z",
     "start_time": "2024-12-02T12:22:11.973595Z"
    }
   },
   "cell_type": "code",
   "source": "df['timestamp'] = pd.to_datetime(df['timestamp'])",
   "id": "a7466b2016dbbc4",
   "outputs": [],
   "execution_count": 2
  },
  {
   "metadata": {
    "ExecuteTime": {
     "end_time": "2024-12-02T12:22:17.479090Z",
     "start_time": "2024-12-02T12:22:16.823528Z"
    }
   },
   "cell_type": "code",
   "source": [
    "df.info()\n",
    "display(df.describe())\n",
    "display(df.head(10))"
   ],
   "id": "e93dbeef191217d0",
   "outputs": [
    {
     "name": "stdout",
     "output_type": "stream",
     "text": [
      "<class 'pandas.core.frame.DataFrame'>\n",
      "Int64Index: 7510522 entries, 0 to 7510521\n",
      "Data columns (total 9 columns):\n",
      " #   Column     Dtype         \n",
      "---  ------     -----         \n",
      " 0   userid     object        \n",
      " 1   sessionid  int64         \n",
      " 2   timestamp  datetime64[ns]\n",
      " 3   action     object        \n",
      " 4   value      float64       \n",
      " 5   category   object        \n",
      " 6   age        int64         \n",
      " 7   gender     object        \n",
      " 8   city       object        \n",
      "dtypes: datetime64[ns](1), float64(1), int64(2), object(5)\n",
      "memory usage: 573.0+ MB\n"
     ]
    },
    {
     "data": {
      "text/plain": [
       "          sessionid         value           age\n",
       "count  7.510522e+06  7.510522e+06  7.510522e+06\n",
       "mean   2.805611e+02  2.069225e+03  3.598401e+01\n",
       "std    1.617851e+02  7.412838e+03  1.826152e+01\n",
       "min    1.000000e+00  0.000000e+00  7.000000e+00\n",
       "25%    1.410000e+02  0.000000e+00  2.100000e+01\n",
       "50%    2.810000e+02  0.000000e+00  3.400000e+01\n",
       "75%    4.200000e+02  0.000000e+00  4.800000e+01\n",
       "max    5.860000e+02  2.116800e+05  8.100000e+01"
      ],
      "text/html": [
       "<div>\n",
       "<style scoped>\n",
       "    .dataframe tbody tr th:only-of-type {\n",
       "        vertical-align: middle;\n",
       "    }\n",
       "\n",
       "    .dataframe tbody tr th {\n",
       "        vertical-align: top;\n",
       "    }\n",
       "\n",
       "    .dataframe thead th {\n",
       "        text-align: right;\n",
       "    }\n",
       "</style>\n",
       "<table border=\"1\" class=\"dataframe\">\n",
       "  <thead>\n",
       "    <tr style=\"text-align: right;\">\n",
       "      <th></th>\n",
       "      <th>sessionid</th>\n",
       "      <th>value</th>\n",
       "      <th>age</th>\n",
       "    </tr>\n",
       "  </thead>\n",
       "  <tbody>\n",
       "    <tr>\n",
       "      <th>count</th>\n",
       "      <td>7.510522e+06</td>\n",
       "      <td>7.510522e+06</td>\n",
       "      <td>7.510522e+06</td>\n",
       "    </tr>\n",
       "    <tr>\n",
       "      <th>mean</th>\n",
       "      <td>2.805611e+02</td>\n",
       "      <td>2.069225e+03</td>\n",
       "      <td>3.598401e+01</td>\n",
       "    </tr>\n",
       "    <tr>\n",
       "      <th>std</th>\n",
       "      <td>1.617851e+02</td>\n",
       "      <td>7.412838e+03</td>\n",
       "      <td>1.826152e+01</td>\n",
       "    </tr>\n",
       "    <tr>\n",
       "      <th>min</th>\n",
       "      <td>1.000000e+00</td>\n",
       "      <td>0.000000e+00</td>\n",
       "      <td>7.000000e+00</td>\n",
       "    </tr>\n",
       "    <tr>\n",
       "      <th>25%</th>\n",
       "      <td>1.410000e+02</td>\n",
       "      <td>0.000000e+00</td>\n",
       "      <td>2.100000e+01</td>\n",
       "    </tr>\n",
       "    <tr>\n",
       "      <th>50%</th>\n",
       "      <td>2.810000e+02</td>\n",
       "      <td>0.000000e+00</td>\n",
       "      <td>3.400000e+01</td>\n",
       "    </tr>\n",
       "    <tr>\n",
       "      <th>75%</th>\n",
       "      <td>4.200000e+02</td>\n",
       "      <td>0.000000e+00</td>\n",
       "      <td>4.800000e+01</td>\n",
       "    </tr>\n",
       "    <tr>\n",
       "      <th>max</th>\n",
       "      <td>5.860000e+02</td>\n",
       "      <td>2.116800e+05</td>\n",
       "      <td>8.100000e+01</td>\n",
       "    </tr>\n",
       "  </tbody>\n",
       "</table>\n",
       "</div>"
      ]
     },
     "metadata": {},
     "output_type": "display_data"
    },
    {
     "data": {
      "text/plain": [
       "       userid  sessionid           timestamp    action        value  \\\n",
       "0  user_10000          1 2021-12-30 12:28:45  category     0.000000   \n",
       "1  user_10000          1 2021-12-30 12:29:10    search     0.000000   \n",
       "2  user_10000          1 2021-12-30 12:29:25   product     0.000000   \n",
       "3  user_10000          1 2021-12-30 12:29:26    search     0.000000   \n",
       "4  user_10000          1 2021-12-30 12:29:34    search     0.000000   \n",
       "5  user_10000          1 2021-12-30 12:29:46   product     0.000000   \n",
       "6  user_10000          1 2021-12-30 12:30:14    search     0.000000   \n",
       "7  user_10000          1 2021-12-30 12:30:45  category     0.000000   \n",
       "8  user_10000          1 2021-12-30 12:30:48      cart  5735.262266   \n",
       "9  user_10000          1 2021-12-30 12:30:52  checkout  6130.000000   \n",
       "\n",
       "           category  age gender        city  \n",
       "0  Товары для детей   42      Ж  Красноярск  \n",
       "1  Товары для детей   42      Ж  Красноярск  \n",
       "2  Товары для детей   42      Ж  Красноярск  \n",
       "3  Товары для детей   42      Ж  Красноярск  \n",
       "4  Товары для детей   42      Ж  Красноярск  \n",
       "5  Товары для детей   42      Ж  Красноярск  \n",
       "6  Товары для детей   42      Ж  Красноярск  \n",
       "7  Товары для детей   42      Ж  Красноярск  \n",
       "8  Авто/мото товары   42      Ж  Красноярск  \n",
       "9              None   42      Ж  Красноярск  "
      ],
      "text/html": [
       "<div>\n",
       "<style scoped>\n",
       "    .dataframe tbody tr th:only-of-type {\n",
       "        vertical-align: middle;\n",
       "    }\n",
       "\n",
       "    .dataframe tbody tr th {\n",
       "        vertical-align: top;\n",
       "    }\n",
       "\n",
       "    .dataframe thead th {\n",
       "        text-align: right;\n",
       "    }\n",
       "</style>\n",
       "<table border=\"1\" class=\"dataframe\">\n",
       "  <thead>\n",
       "    <tr style=\"text-align: right;\">\n",
       "      <th></th>\n",
       "      <th>userid</th>\n",
       "      <th>sessionid</th>\n",
       "      <th>timestamp</th>\n",
       "      <th>action</th>\n",
       "      <th>value</th>\n",
       "      <th>category</th>\n",
       "      <th>age</th>\n",
       "      <th>gender</th>\n",
       "      <th>city</th>\n",
       "    </tr>\n",
       "  </thead>\n",
       "  <tbody>\n",
       "    <tr>\n",
       "      <th>0</th>\n",
       "      <td>user_10000</td>\n",
       "      <td>1</td>\n",
       "      <td>2021-12-30 12:28:45</td>\n",
       "      <td>category</td>\n",
       "      <td>0.000000</td>\n",
       "      <td>Товары для детей</td>\n",
       "      <td>42</td>\n",
       "      <td>Ж</td>\n",
       "      <td>Красноярск</td>\n",
       "    </tr>\n",
       "    <tr>\n",
       "      <th>1</th>\n",
       "      <td>user_10000</td>\n",
       "      <td>1</td>\n",
       "      <td>2021-12-30 12:29:10</td>\n",
       "      <td>search</td>\n",
       "      <td>0.000000</td>\n",
       "      <td>Товары для детей</td>\n",
       "      <td>42</td>\n",
       "      <td>Ж</td>\n",
       "      <td>Красноярск</td>\n",
       "    </tr>\n",
       "    <tr>\n",
       "      <th>2</th>\n",
       "      <td>user_10000</td>\n",
       "      <td>1</td>\n",
       "      <td>2021-12-30 12:29:25</td>\n",
       "      <td>product</td>\n",
       "      <td>0.000000</td>\n",
       "      <td>Товары для детей</td>\n",
       "      <td>42</td>\n",
       "      <td>Ж</td>\n",
       "      <td>Красноярск</td>\n",
       "    </tr>\n",
       "    <tr>\n",
       "      <th>3</th>\n",
       "      <td>user_10000</td>\n",
       "      <td>1</td>\n",
       "      <td>2021-12-30 12:29:26</td>\n",
       "      <td>search</td>\n",
       "      <td>0.000000</td>\n",
       "      <td>Товары для детей</td>\n",
       "      <td>42</td>\n",
       "      <td>Ж</td>\n",
       "      <td>Красноярск</td>\n",
       "    </tr>\n",
       "    <tr>\n",
       "      <th>4</th>\n",
       "      <td>user_10000</td>\n",
       "      <td>1</td>\n",
       "      <td>2021-12-30 12:29:34</td>\n",
       "      <td>search</td>\n",
       "      <td>0.000000</td>\n",
       "      <td>Товары для детей</td>\n",
       "      <td>42</td>\n",
       "      <td>Ж</td>\n",
       "      <td>Красноярск</td>\n",
       "    </tr>\n",
       "    <tr>\n",
       "      <th>5</th>\n",
       "      <td>user_10000</td>\n",
       "      <td>1</td>\n",
       "      <td>2021-12-30 12:29:46</td>\n",
       "      <td>product</td>\n",
       "      <td>0.000000</td>\n",
       "      <td>Товары для детей</td>\n",
       "      <td>42</td>\n",
       "      <td>Ж</td>\n",
       "      <td>Красноярск</td>\n",
       "    </tr>\n",
       "    <tr>\n",
       "      <th>6</th>\n",
       "      <td>user_10000</td>\n",
       "      <td>1</td>\n",
       "      <td>2021-12-30 12:30:14</td>\n",
       "      <td>search</td>\n",
       "      <td>0.000000</td>\n",
       "      <td>Товары для детей</td>\n",
       "      <td>42</td>\n",
       "      <td>Ж</td>\n",
       "      <td>Красноярск</td>\n",
       "    </tr>\n",
       "    <tr>\n",
       "      <th>7</th>\n",
       "      <td>user_10000</td>\n",
       "      <td>1</td>\n",
       "      <td>2021-12-30 12:30:45</td>\n",
       "      <td>category</td>\n",
       "      <td>0.000000</td>\n",
       "      <td>Товары для детей</td>\n",
       "      <td>42</td>\n",
       "      <td>Ж</td>\n",
       "      <td>Красноярск</td>\n",
       "    </tr>\n",
       "    <tr>\n",
       "      <th>8</th>\n",
       "      <td>user_10000</td>\n",
       "      <td>1</td>\n",
       "      <td>2021-12-30 12:30:48</td>\n",
       "      <td>cart</td>\n",
       "      <td>5735.262266</td>\n",
       "      <td>Авто/мото товары</td>\n",
       "      <td>42</td>\n",
       "      <td>Ж</td>\n",
       "      <td>Красноярск</td>\n",
       "    </tr>\n",
       "    <tr>\n",
       "      <th>9</th>\n",
       "      <td>user_10000</td>\n",
       "      <td>1</td>\n",
       "      <td>2021-12-30 12:30:52</td>\n",
       "      <td>checkout</td>\n",
       "      <td>6130.000000</td>\n",
       "      <td>None</td>\n",
       "      <td>42</td>\n",
       "      <td>Ж</td>\n",
       "      <td>Красноярск</td>\n",
       "    </tr>\n",
       "  </tbody>\n",
       "</table>\n",
       "</div>"
      ]
     },
     "metadata": {},
     "output_type": "display_data"
    }
   ],
   "execution_count": 3
  },
  {
   "metadata": {
    "ExecuteTime": {
     "end_time": "2024-12-02T12:23:50.539372Z",
     "start_time": "2024-12-02T12:23:45.756105Z"
    }
   },
   "cell_type": "code",
   "source": [
    "a = df.nunique()\n",
    "\n",
    "print(a)"
   ],
   "id": "51fd5db0f2b11b62",
   "outputs": [
    {
     "name": "stdout",
     "output_type": "stream",
     "text": [
      "userid          2500\n",
      "sessionid        586\n",
      "timestamp    7168835\n",
      "action             7\n",
      "value         170213\n",
      "category           7\n",
      "age               75\n",
      "gender             2\n",
      "city              14\n",
      "dtype: int64\n"
     ]
    }
   ],
   "execution_count": 5
  },
  {
   "metadata": {
    "ExecuteTime": {
     "end_time": "2024-12-02T13:40:13.595553Z",
     "start_time": "2024-12-02T13:40:11.944225Z"
    }
   },
   "cell_type": "code",
   "source": [
    "names = ['city', 'age', 'gender', 'category']\n",
    "\n",
    "for name in names:\n",
    "    print(df[name].value_counts())"
   ],
   "id": "1902ad840662d1e9",
   "outputs": [
    {
     "name": "stdout",
     "output_type": "stream",
     "text": [
      "Москва             2104849\n",
      "Санкт-Петербург     948642\n",
      "Новосибирск         575670\n",
      "Екатеринбург        543015\n",
      "Нижний Новгород     428970\n",
      "Казань              395626\n",
      "Красноярск          352194\n",
      "Волгоград           333001\n",
      "Ростов-на-Дону      330872\n",
      "Самара              324321\n",
      "Челябинск           297719\n",
      "Воронеж             294179\n",
      "Омск                292162\n",
      "Уфа                 289302\n",
      "Name: city, dtype: int64\n",
      "35    192778\n",
      "25    179308\n",
      "29    174444\n",
      "32    173640\n",
      "23    171297\n",
      "       ...  \n",
      "78     32809\n",
      "77     32777\n",
      "79     27145\n",
      "80     18090\n",
      "81     15053\n",
      "Name: age, Length: 75, dtype: int64\n",
      "Ж    4342998\n",
      "М    3167524\n",
      "Name: gender, dtype: int64\n",
      "Товары для детей                 1172161\n",
      "None                             1111681\n",
      "Красота и здоровье               1109183\n",
      "Одежда и обувь                   1105299\n",
      "Электроника и бытовая техника    1008813\n",
      "Авто/мото товары                 1004535\n",
      "Продовольственные товары          998850\n",
      "Name: category, dtype: int64\n"
     ]
    }
   ],
   "execution_count": 12
  },
  {
   "metadata": {
    "ExecuteTime": {
     "end_time": "2024-12-02T14:03:18.937688Z",
     "start_time": "2024-12-02T14:03:18.572308Z"
    }
   },
   "cell_type": "code",
   "source": [
    "name = 'age'  # age sessionid\n",
    "\n",
    "# bins = list(range(0, 90, 5))\n",
    "# bins = list(range(0, 700, 50))\n",
    "\n",
    "n, _ = np.histogram(df[name], bins=bins)\n",
    "labels = [f'{a} to {b}' for a, b in zip(bins, bins[1:])]\n",
    "\n",
    "plt.figure(figsize = (16, 11))\n",
    "fig, ax = plt.subplots()\n",
    "bar = ax.bar(labels, n)\n",
    "_ = ax.bar_label(bar)\n",
    "plt.show()"
   ],
   "id": "741e5c0ac0b95d68",
   "outputs": [
    {
     "data": {
      "text/plain": [
       "<Figure size 1600x1100 with 0 Axes>"
      ]
     },
     "metadata": {},
     "output_type": "display_data"
    },
    {
     "data": {
      "text/plain": [
       "<Figure size 640x480 with 1 Axes>"
      ],
      "image/png": "[encoded data removed]"
     },
     "metadata": {},
     "output_type": "display_data"
    }
   ],
   "execution_count": 31
  },
  {
   "metadata": {
    "ExecuteTime": {
     "end_time": "2024-12-02T14:18:20.828995Z",
     "start_time": "2024-12-02T14:18:20.474470Z"
    }
   },
   "cell_type": "code",
   "source": [
    "# df['days'] = df['timestamp'] - df['timestamp'].min()\n",
    "# df['days'] = df['days'].apply(lambda x: x.days)\n",
    "\n",
    "bins = list(range(0, 1150, 100))\n",
    "\n",
    "n, _ = np.histogram(df['days'], bins=bins)\n",
    "labels = [f'{a} to {b}' for a, b in zip(bins, bins[1:])]\n",
    "n -= 675000\n",
    "\n",
    "plt.figure(figsize = (16, 11))\n",
    "fig, ax = plt.subplots()\n",
    "bar = ax.bar(labels, n)\n",
    "_ = ax.bar_label(bar)\n",
    "plt.show()\n",
    "\n",
    "print(n)"
   ],
   "id": "6876a794bab6e51f",
   "outputs": [
    {
     "data": {
      "text/plain": [
       "<Figure size 1600x1100 with 0 Axes>"
      ]
     },
     "metadata": {},
     "output_type": "display_data"
    },
    {
     "data": {
      "text/plain": [
       "<Figure size 640x480 with 1 Axes>"
      ],
      "image/png": "[encoded data removed]"
     },
     "metadata": {},
     "output_type": "display_data"
    },
    {
     "name": "stdout",
     "output_type": "stream",
     "text": [
      "[ 1041  4392  4320  3877  7277  6771  7254  3758  6867  7493 12208]\n"
     ]
    }
   ],
   "execution_count": 52
  },
  {
   "metadata": {
    "ExecuteTime": {
     "end_time": "2024-12-02T14:15:53.421308Z",
     "start_time": "2024-12-02T14:15:53.414530Z"
    }
   },
   "cell_type": "code",
   "source": [
    "# df['days'] = df['timestamp'].apply(lambda x: (x - df['timestamp'].min()).dt.days)\n",
    "# (df['timestamp'][1] - df['timestamp'][6]).days\n",
    "print(df['days'])"
   ],
   "id": "be02a7c3b4ce2d4f",
   "outputs": [
    {
     "name": "stdout",
     "output_type": "stream",
     "text": [
      "0             3\n",
      "1             3\n",
      "2             3\n",
      "3             3\n",
      "4             3\n",
      "           ... \n",
      "7510517    1102\n",
      "7510518    1102\n",
      "7510519    1102\n",
      "7510520    1102\n",
      "7510521    1102\n",
      "Name: days, Length: 7510522, dtype: int64\n"
     ]
    }
   ],
   "execution_count": 48
  },
  {
   "metadata": {
    "ExecuteTime": {
     "end_time": "2024-12-02T14:25:49.269859Z",
     "start_time": "2024-12-02T14:25:39.004706Z"
    }
   },
   "cell_type": "code",
   "source": "df[df.duplicated(keep=False)]",
   "id": "6486af6bec5ace3b",
   "outputs": [
    {
     "name": "stderr",
     "output_type": "stream",
     "text": [
      "C:\\Users\\rusan\\AppData\\Local\\Temp\\ipykernel_16032\\1369383012.py:1: UserWarning: Boolean Series key will be reindexed to match DataFrame index.\n",
      "  df[df.duplicated(keep=False)][df['value'] > 0]\n"
     ]
    },
    {
     "data": {
      "text/plain": [
       "Empty DataFrame\n",
       "Columns: [userid, sessionid, timestamp, action, value, category, age, gender, city, days]\n",
       "Index: []"
      ],
      "text/html": [
       "<div>\n",
       "<style scoped>\n",
       "    .dataframe tbody tr th:only-of-type {\n",
       "        vertical-align: middle;\n",
       "    }\n",
       "\n",
       "    .dataframe tbody tr th {\n",
       "        vertical-align: top;\n",
       "    }\n",
       "\n",
       "    .dataframe thead th {\n",
       "        text-align: right;\n",
       "    }\n",
       "</style>\n",
       "<table border=\"1\" class=\"dataframe\">\n",
       "  <thead>\n",
       "    <tr style=\"text-align: right;\">\n",
       "      <th></th>\n",
       "      <th>userid</th>\n",
       "      <th>sessionid</th>\n",
       "      <th>timestamp</th>\n",
       "      <th>action</th>\n",
       "      <th>value</th>\n",
       "      <th>category</th>\n",
       "      <th>age</th>\n",
       "      <th>gender</th>\n",
       "      <th>city</th>\n",
       "      <th>days</th>\n",
       "    </tr>\n",
       "  </thead>\n",
       "  <tbody>\n",
       "  </tbody>\n",
       "</table>\n",
       "</div>"
      ]
     },
     "execution_count": 54,
     "metadata": {},
     "output_type": "execute_result"
    }
   ],
   "execution_count": 54
  }
 ],
 "metadata": {
  "kernelspec": {
   "display_name": "Python 3",
   "language": "python",
   "name": "python3"
  },
  "language_info": {
   "codemirror_mode": {
    "name": "ipython",
    "version": 2
   },
   "file_extension": ".py",
   "mimetype": "text/x-python",
   "name": "python",
   "nbconvert_exporter": "python",
   "pygments_lexer": "ipython2",
   "version": "2.7.6"
  }
 },
 "nbformat": 4,
 "nbformat_minor": 5
}
