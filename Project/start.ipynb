{
 "cells": [
  {
   "cell_type": "code",
   "id": "initial_id",
   "metadata": {
    "collapsed": true,
    "ExecuteTime": {
     "end_time": "2024-12-06T17:00:34.688318Z",
     "start_time": "2024-12-06T17:00:25.062191Z"
    }
   },
   "source": [
    "import numpy as np\n",
    "import pandas as pd\n",
    "import matplotlib.pyplot as plt\n",
    "from IPython.display import display\n",
    "\n",
    "from config import PATH\n",
    "\n",
    "df = pd.read_csv(PATH, index_col=0)"
   ],
   "outputs": [],
   "execution_count": 8
  },
  {
   "metadata": {
    "ExecuteTime": {
     "end_time": "2024-12-06T17:00:37.694242Z",
     "start_time": "2024-12-06T17:00:34.689327Z"
    }
   },
   "cell_type": "code",
   "source": "df['timestamp'] = pd.to_datetime(df['timestamp'])",
   "id": "a7466b2016dbbc4",
   "outputs": [],
   "execution_count": 9
  },
  {
   "metadata": {
    "ExecuteTime": {
     "end_time": "2024-12-06T17:00:38.152762Z",
     "start_time": "2024-12-06T17:00:37.695247Z"
    }
   },
   "cell_type": "code",
   "source": [
    "df.info()\n",
    "display(df.describe())\n",
    "display(df.head(10))"
   ],
   "id": "e93dbeef191217d0",
   "outputs": [
    {
     "name": "stdout",
     "output_type": "stream",
     "text": [
      "<class 'pandas.core.frame.DataFrame'>\n",
      "Index: 7510522 entries, 0 to 7510521\n",
      "Data columns (total 9 columns):\n",
      " #   Column     Dtype         \n",
      "---  ------     -----         \n",
      " 0   userid     object        \n",
      " 1   sessionid  int64         \n",
      " 2   timestamp  datetime64[ns]\n",
      " 3   action     object        \n",
      " 4   value      float64       \n",
      " 5   category   object        \n",
      " 6   age        int64         \n",
      " 7   gender     object        \n",
      " 8   city       object        \n",
      "dtypes: datetime64[ns](1), float64(1), int64(2), object(5)\n",
      "memory usage: 573.0+ MB\n"
     ]
    },
    {
     "data": {
      "text/plain": [
       "          sessionid                      timestamp         value           age\n",
       "count  7.510522e+06                        7510522  7.510522e+06  7.510522e+06\n",
       "mean   2.805611e+02  2023-07-02 12:12:15.128161792  2.069225e+03  3.598401e+01\n",
       "min    1.000000e+00            2021-12-26 21:00:28  0.000000e+00  7.000000e+00\n",
       "25%    1.410000e+02            2022-09-29 20:42:51  0.000000e+00  2.100000e+01\n",
       "50%    2.810000e+02            2023-07-02 17:51:00  0.000000e+00  3.400000e+01\n",
       "75%    4.200000e+02     2024-04-03 04:12:19.500000  0.000000e+00  4.800000e+01\n",
       "max    5.860000e+02            2025-01-03 20:59:30  2.116800e+05  8.100000e+01\n",
       "std    1.617851e+02                            NaN  7.412838e+03  1.826152e+01"
      ],
      "text/html": [
       "<div>\n",
       "<style scoped>\n",
       "    .dataframe tbody tr th:only-of-type {\n",
       "        vertical-align: middle;\n",
       "    }\n",
       "\n",
       "    .dataframe tbody tr th {\n",
       "        vertical-align: top;\n",
       "    }\n",
       "\n",
       "    .dataframe thead th {\n",
       "        text-align: right;\n",
       "    }\n",
       "</style>\n",
       "<table border=\"1\" class=\"dataframe\">\n",
       "  <thead>\n",
       "    <tr style=\"text-align: right;\">\n",
       "      <th></th>\n",
       "      <th>sessionid</th>\n",
       "      <th>timestamp</th>\n",
       "      <th>value</th>\n",
       "      <th>age</th>\n",
       "    </tr>\n",
       "  </thead>\n",
       "  <tbody>\n",
       "    <tr>\n",
       "      <th>count</th>\n",
       "      <td>7.510522e+06</td>\n",
       "      <td>7510522</td>\n",
       "      <td>7.510522e+06</td>\n",
       "      <td>7.510522e+06</td>\n",
       "    </tr>\n",
       "    <tr>\n",
       "      <th>mean</th>\n",
       "      <td>2.805611e+02</td>\n",
       "      <td>2023-07-02 12:12:15.128161792</td>\n",
       "      <td>2.069225e+03</td>\n",
       "      <td>3.598401e+01</td>\n",
       "    </tr>\n",
       "    <tr>\n",
       "      <th>min</th>\n",
       "      <td>1.000000e+00</td>\n",
       "      <td>2021-12-26 21:00:28</td>\n",
       "      <td>0.000000e+00</td>\n",
       "      <td>7.000000e+00</td>\n",
       "    </tr>\n",
       "    <tr>\n",
       "      <th>25%</th>\n",
       "      <td>1.410000e+02</td>\n",
       "      <td>2022-09-29 20:42:51</td>\n",
       "      <td>0.000000e+00</td>\n",
       "      <td>2.100000e+01</td>\n",
       "    </tr>\n",
       "    <tr>\n",
       "      <th>50%</th>\n",
       "      <td>2.810000e+02</td>\n",
       "      <td>2023-07-02 17:51:00</td>\n",
       "      <td>0.000000e+00</td>\n",
       "      <td>3.400000e+01</td>\n",
       "    </tr>\n",
       "    <tr>\n",
       "      <th>75%</th>\n",
       "      <td>4.200000e+02</td>\n",
       "      <td>2024-04-03 04:12:19.500000</td>\n",
       "      <td>0.000000e+00</td>\n",
       "      <td>4.800000e+01</td>\n",
       "    </tr>\n",
       "    <tr>\n",
       "      <th>max</th>\n",
       "      <td>5.860000e+02</td>\n",
       "      <td>2025-01-03 20:59:30</td>\n",
       "      <td>2.116800e+05</td>\n",
       "      <td>8.100000e+01</td>\n",
       "    </tr>\n",
       "    <tr>\n",
       "      <th>std</th>\n",
       "      <td>1.617851e+02</td>\n",
       "      <td>NaN</td>\n",
       "      <td>7.412838e+03</td>\n",
       "      <td>1.826152e+01</td>\n",
       "    </tr>\n",
       "  </tbody>\n",
       "</table>\n",
       "</div>"
      ]
     },
     "metadata": {},
     "output_type": "display_data"
    },
    {
     "data": {
      "text/plain": [
       "       userid  sessionid           timestamp    action        value  \\\n",
       "0  user_10000          1 2021-12-30 12:28:45  category     0.000000   \n",
       "1  user_10000          1 2021-12-30 12:29:10    search     0.000000   \n",
       "2  user_10000          1 2021-12-30 12:29:25   product     0.000000   \n",
       "3  user_10000          1 2021-12-30 12:29:26    search     0.000000   \n",
       "4  user_10000          1 2021-12-30 12:29:34    search     0.000000   \n",
       "5  user_10000          1 2021-12-30 12:29:46   product     0.000000   \n",
       "6  user_10000          1 2021-12-30 12:30:14    search     0.000000   \n",
       "7  user_10000          1 2021-12-30 12:30:45  category     0.000000   \n",
       "8  user_10000          1 2021-12-30 12:30:48      cart  5735.262266   \n",
       "9  user_10000          1 2021-12-30 12:30:52  checkout  6130.000000   \n",
       "\n",
       "           category  age gender        city  \n",
       "0  Товары для детей   42      Ж  Красноярск  \n",
       "1  Товары для детей   42      Ж  Красноярск  \n",
       "2  Товары для детей   42      Ж  Красноярск  \n",
       "3  Товары для детей   42      Ж  Красноярск  \n",
       "4  Товары для детей   42      Ж  Красноярск  \n",
       "5  Товары для детей   42      Ж  Красноярск  \n",
       "6  Товары для детей   42      Ж  Красноярск  \n",
       "7  Товары для детей   42      Ж  Красноярск  \n",
       "8  Авто/мото товары   42      Ж  Красноярск  \n",
       "9               NaN   42      Ж  Красноярск  "
      ],
      "text/html": [
       "<div>\n",
       "<style scoped>\n",
       "    .dataframe tbody tr th:only-of-type {\n",
       "        vertical-align: middle;\n",
       "    }\n",
       "\n",
       "    .dataframe tbody tr th {\n",
       "        vertical-align: top;\n",
       "    }\n",
       "\n",
       "    .dataframe thead th {\n",
       "        text-align: right;\n",
       "    }\n",
       "</style>\n",
       "<table border=\"1\" class=\"dataframe\">\n",
       "  <thead>\n",
       "    <tr style=\"text-align: right;\">\n",
       "      <th></th>\n",
       "      <th>userid</th>\n",
       "      <th>sessionid</th>\n",
       "      <th>timestamp</th>\n",
       "      <th>action</th>\n",
       "      <th>value</th>\n",
       "      <th>category</th>\n",
       "      <th>age</th>\n",
       "      <th>gender</th>\n",
       "      <th>city</th>\n",
       "    </tr>\n",
       "  </thead>\n",
       "  <tbody>\n",
       "    <tr>\n",
       "      <th>0</th>\n",
       "      <td>user_10000</td>\n",
       "      <td>1</td>\n",
       "      <td>2021-12-30 12:28:45</td>\n",
       "      <td>category</td>\n",
       "      <td>0.000000</td>\n",
       "      <td>Товары для детей</td>\n",
       "      <td>42</td>\n",
       "      <td>Ж</td>\n",
       "      <td>Красноярск</td>\n",
       "    </tr>\n",
       "    <tr>\n",
       "      <th>1</th>\n",
       "      <td>user_10000</td>\n",
       "      <td>1</td>\n",
       "      <td>2021-12-30 12:29:10</td>\n",
       "      <td>search</td>\n",
       "      <td>0.000000</td>\n",
       "      <td>Товары для детей</td>\n",
       "      <td>42</td>\n",
       "      <td>Ж</td>\n",
       "      <td>Красноярск</td>\n",
       "    </tr>\n",
       "    <tr>\n",
       "      <th>2</th>\n",
       "      <td>user_10000</td>\n",
       "      <td>1</td>\n",
       "      <td>2021-12-30 12:29:25</td>\n",
       "      <td>product</td>\n",
       "      <td>0.000000</td>\n",
       "      <td>Товары для детей</td>\n",
       "      <td>42</td>\n",
       "      <td>Ж</td>\n",
       "      <td>Красноярск</td>\n",
       "    </tr>\n",
       "    <tr>\n",
       "      <th>3</th>\n",
       "      <td>user_10000</td>\n",
       "      <td>1</td>\n",
       "      <td>2021-12-30 12:29:26</td>\n",
       "      <td>search</td>\n",
       "      <td>0.000000</td>\n",
       "      <td>Товары для детей</td>\n",
       "      <td>42</td>\n",
       "      <td>Ж</td>\n",
       "      <td>Красноярск</td>\n",
       "    </tr>\n",
       "    <tr>\n",
       "      <th>4</th>\n",
       "      <td>user_10000</td>\n",
       "      <td>1</td>\n",
       "      <td>2021-12-30 12:29:34</td>\n",
       "      <td>search</td>\n",
       "      <td>0.000000</td>\n",
       "      <td>Товары для детей</td>\n",
       "      <td>42</td>\n",
       "      <td>Ж</td>\n",
       "      <td>Красноярск</td>\n",
       "    </tr>\n",
       "    <tr>\n",
       "      <th>5</th>\n",
       "      <td>user_10000</td>\n",
       "      <td>1</td>\n",
       "      <td>2021-12-30 12:29:46</td>\n",
       "      <td>product</td>\n",
       "      <td>0.000000</td>\n",
       "      <td>Товары для детей</td>\n",
       "      <td>42</td>\n",
       "      <td>Ж</td>\n",
       "      <td>Красноярск</td>\n",
       "    </tr>\n",
       "    <tr>\n",
       "      <th>6</th>\n",
       "      <td>user_10000</td>\n",
       "      <td>1</td>\n",
       "      <td>2021-12-30 12:30:14</td>\n",
       "      <td>search</td>\n",
       "      <td>0.000000</td>\n",
       "      <td>Товары для детей</td>\n",
       "      <td>42</td>\n",
       "      <td>Ж</td>\n",
       "      <td>Красноярск</td>\n",
       "    </tr>\n",
       "    <tr>\n",
       "      <th>7</th>\n",
       "      <td>user_10000</td>\n",
       "      <td>1</td>\n",
       "      <td>2021-12-30 12:30:45</td>\n",
       "      <td>category</td>\n",
       "      <td>0.000000</td>\n",
       "      <td>Товары для детей</td>\n",
       "      <td>42</td>\n",
       "      <td>Ж</td>\n",
       "      <td>Красноярск</td>\n",
       "    </tr>\n",
       "    <tr>\n",
       "      <th>8</th>\n",
       "      <td>user_10000</td>\n",
       "      <td>1</td>\n",
       "      <td>2021-12-30 12:30:48</td>\n",
       "      <td>cart</td>\n",
       "      <td>5735.262266</td>\n",
       "      <td>Авто/мото товары</td>\n",
       "      <td>42</td>\n",
       "      <td>Ж</td>\n",
       "      <td>Красноярск</td>\n",
       "    </tr>\n",
       "    <tr>\n",
       "      <th>9</th>\n",
       "      <td>user_10000</td>\n",
       "      <td>1</td>\n",
       "      <td>2021-12-30 12:30:52</td>\n",
       "      <td>checkout</td>\n",
       "      <td>6130.000000</td>\n",
       "      <td>NaN</td>\n",
       "      <td>42</td>\n",
       "      <td>Ж</td>\n",
       "      <td>Красноярск</td>\n",
       "    </tr>\n",
       "  </tbody>\n",
       "</table>\n",
       "</div>"
      ]
     },
     "metadata": {},
     "output_type": "display_data"
    }
   ],
   "execution_count": 10
  },
  {
   "metadata": {
    "ExecuteTime": {
     "end_time": "2024-12-06T16:14:43.719416Z",
     "start_time": "2024-12-06T16:14:41.473574Z"
    }
   },
   "cell_type": "code",
   "source": [
    "a = df.nunique()\n",
    "print(a)"
   ],
   "id": "51fd5db0f2b11b62",
   "outputs": [
    {
     "name": "stdout",
     "output_type": "stream",
     "text": [
      "userid          2500\n",
      "sessionid        586\n",
      "timestamp    7168835\n",
      "action             7\n",
      "value         170213\n",
      "category           6\n",
      "age               75\n",
      "gender             2\n",
      "city              14\n",
      "dtype: int64\n"
     ]
    }
   ],
   "execution_count": 4
  },
  {
   "metadata": {
    "ExecuteTime": {
     "end_time": "2024-12-06T16:14:53.889293Z",
     "start_time": "2024-12-06T16:14:52.692402Z"
    }
   },
   "cell_type": "code",
   "source": [
    "for name in ['action', 'city', 'age', 'gender', 'category']:\n",
    "    print(df[name].value_counts())"
   ],
   "id": "1902ad840662d1e9",
   "outputs": [
    {
     "name": "stdout",
     "output_type": "stream",
     "text": [
      "action\n",
      "search          2094744\n",
      "product         2012382\n",
      "category        1595004\n",
      "mainpage         823706\n",
      "cart             696711\n",
      "checkout         191520\n",
      "confirmation      96455\n",
      "Name: count, dtype: int64\n",
      "city\n",
      "Москва             2104849\n",
      "Санкт-Петербург     948642\n",
      "Новосибирск         575670\n",
      "Екатеринбург        543015\n",
      "Нижний Новгород     428970\n",
      "Казань              395626\n",
      "Красноярск          352194\n",
      "Волгоград           333001\n",
      "Ростов-на-Дону      330872\n",
      "Самара              324321\n",
      "Челябинск           297719\n",
      "Воронеж             294179\n",
      "Омск                292162\n",
      "Уфа                 289302\n",
      "Name: count, dtype: int64\n",
      "age\n",
      "35    192778\n",
      "25    179308\n",
      "29    174444\n",
      "32    173640\n",
      "23    171297\n",
      "       ...  \n",
      "78     32809\n",
      "77     32777\n",
      "79     27145\n",
      "80     18090\n",
      "81     15053\n",
      "Name: count, Length: 75, dtype: int64\n",
      "gender\n",
      "Ж    4342998\n",
      "М    3167524\n",
      "Name: count, dtype: int64\n",
      "category\n",
      "Товары для детей                 1172161\n",
      "Красота и здоровье               1109183\n",
      "Одежда и обувь                   1105299\n",
      "Электроника и бытовая техника    1008813\n",
      "Авто/мото товары                 1004535\n",
      "Продовольственные товары          998850\n",
      "Name: count, dtype: int64\n"
     ]
    }
   ],
   "execution_count": 5
  },
  {
   "metadata": {
    "ExecuteTime": {
     "end_time": "2024-12-02T18:01:31.891686Z",
     "start_time": "2024-12-02T18:01:31.554639Z"
    }
   },
   "cell_type": "code",
   "source": [
    "plt.figure(figsize=(22, 4))\n",
    "fig, axs = plt.subplots(1, 2)\n",
    "\n",
    "bin_age, _ = np.histogram(df['age'], bins=(bins_size:=range(0, 90, 5)))\n",
    "labels = [f'{b}' for a, b in zip(bins_size, bins_size[1:])]  # f'{a} to {b}'\n",
    "bar = axs[0].bar(labels, bin_age)\n",
    "_ = axs[0].bar_label(bar)\n",
    "\n",
    "bin_sid, _ = np.histogram(df['sessionid'], bins=(bins_size:=range(0, 700, 50)))\n",
    "labels = [f'{b}' for a, b in zip(bins_size, bins_size[1:])]  # f'{a} to {b}'\n",
    "bar = axs[1].bar(labels, bin_sid)\n",
    "_ = axs[1].bar_label(bar)\n",
    "\n",
    "plt.show()"
   ],
   "id": "741e5c0ac0b95d68",
   "outputs": [
    {
     "data": {
      "text/plain": [
       "<Figure size 2200x400 with 0 Axes>"
      ]
     },
     "metadata": {},
     "output_type": "display_data"
    },
    {
     "data": {
      "text/plain": [
       "<Figure size 640x480 with 2 Axes>"
      ],
      "image/png": "[encoded data removed]"
     },
     "metadata": {},
     "output_type": "display_data"
    }
   ],
   "execution_count": 21
  },
  {
   "metadata": {
    "ExecuteTime": {
     "end_time": "2024-12-02T18:06:43.294735Z",
     "start_time": "2024-12-02T18:06:32.577623Z"
    }
   },
   "cell_type": "code",
   "source": [
    "df['days'] = df['timestamp'] - df['timestamp'].min()\n",
    "df['days'] = df['days'].apply(lambda x: x.days)\n",
    "\n",
    "bins_size = list(range(0, 1150, 100))\n",
    "\n",
    "bin_age, _ = np.histogram(df['days'], bins=bins_size)\n",
    "labels = [f'{a} to {b}' for a, b in zip(bins_size, bins_size[1:])]\n",
    "bin_age -= 675000\n",
    "\n",
    "plt.figure(figsize = (16, 11))\n",
    "fig, axs = plt.subplots()\n",
    "bar = axs.bar(labels, bin_age)\n",
    "_ = axs.bar_label(bar)\n",
    "plt.show()\n",
    "\n",
    "df.drop('days', axis=1, inplace=True)"
   ],
   "id": "6876a794bab6e51f",
   "outputs": [
    {
     "data": {
      "text/plain": [
       "<Figure size 1600x1100 with 0 Axes>"
      ]
     },
     "metadata": {},
     "output_type": "display_data"
    },
    {
     "data": {
      "text/plain": [
       "<Figure size 640x480 with 1 Axes>"
      ],
      "image/png": "[encoded data removed]"
     },
     "metadata": {},
     "output_type": "display_data"
    }
   ],
   "execution_count": 28
  },
  {
   "metadata": {
    "ExecuteTime": {
     "end_time": "2024-12-03T12:17:02.116034Z",
     "start_time": "2024-12-03T12:15:43.129973Z"
    }
   },
   "cell_type": "code",
   "source": [
    "# ['userid', 'sessionid', 'timestamp', 'action', 'value', 'category', 'age', 'gender', 'city']\n",
    "# df[df.duplicated(subset=['userid', 'sessionid', 'action', 'category', 'age', 'gender', 'city'],\n",
    "#                  keep=False)]\n",
    "\n",
    "h = []\n",
    "\n",
    "for i in range(15):\n",
    "    df2 = df.copy()\n",
    "    df2['timestamp'] = df2['timestamp'].dt.round(f'{i+1}s')\n",
    "\n",
    "    h.append(len(df2[df2.duplicated(keep=False)]))\n",
    "\n",
    "plt.plot(range(15), h)\n",
    "plt.show()\n",
    "\n",
    "\n",
    "# df2 = df.copy()\n",
    "# df2['timestamp'] = df2['timestamp'].dt.round(f'1s')\n",
    "# df[df.duplicated(subset=['userid', 'sessionid', 'timestamp', 'action', 'value', 'age', 'gender', 'city'],\n",
    "#                  keep=False)]"
   ],
   "id": "6486af6bec5ace3b",
   "outputs": [
    {
     "data": {
      "text/plain": [
       "<Figure size 640x480 with 1 Axes>"
      ],
      "image/png": "[encoded data removed]"
     },
     "metadata": {},
     "output_type": "display_data"
    }
   ],
   "execution_count": 45
  },
  {
   "metadata": {
    "ExecuteTime": {
     "end_time": "2024-12-03T13:05:43.548425Z",
     "start_time": "2024-12-03T13:05:43.535392Z"
    }
   },
   "cell_type": "code",
   "source": [
    "a = df[df['age'] > 90]\n",
    "# a = df[df['value'] > 200000]\n",
    "\n",
    "print(len(a))\n",
    "display(a)"
   ],
   "id": "f925a9e0a96b9230",
   "outputs": [
    {
     "name": "stdout",
     "output_type": "stream",
     "text": [
      "0\n"
     ]
    },
    {
     "data": {
      "text/plain": [
       "Empty DataFrame\n",
       "Columns: [userid, sessionid, timestamp, action, value, category, age, gender, city]\n",
       "Index: []"
      ],
      "text/html": [
       "<div>\n",
       "<style scoped>\n",
       "    .dataframe tbody tr th:only-of-type {\n",
       "        vertical-align: middle;\n",
       "    }\n",
       "\n",
       "    .dataframe tbody tr th {\n",
       "        vertical-align: top;\n",
       "    }\n",
       "\n",
       "    .dataframe thead th {\n",
       "        text-align: right;\n",
       "    }\n",
       "</style>\n",
       "<table border=\"1\" class=\"dataframe\">\n",
       "  <thead>\n",
       "    <tr style=\"text-align: right;\">\n",
       "      <th></th>\n",
       "      <th>userid</th>\n",
       "      <th>sessionid</th>\n",
       "      <th>timestamp</th>\n",
       "      <th>action</th>\n",
       "      <th>value</th>\n",
       "      <th>category</th>\n",
       "      <th>age</th>\n",
       "      <th>gender</th>\n",
       "      <th>city</th>\n",
       "    </tr>\n",
       "  </thead>\n",
       "  <tbody>\n",
       "  </tbody>\n",
       "</table>\n",
       "</div>"
      ]
     },
     "metadata": {},
     "output_type": "display_data"
    }
   ],
   "execution_count": 54
  },
  {
   "metadata": {
    "ExecuteTime": {
     "end_time": "2024-12-06T17:03:57.931281Z",
     "start_time": "2024-12-06T17:03:56.386959Z"
    }
   },
   "cell_type": "code",
   "source": [
    "for name in df:\n",
    "    print(name, len(df[df[name].isna()]))\n",
    "    \n",
    "df3 = df[df['category'].isna()].copy()\n",
    "display(df.describe())\n",
    "display(df3.describe())"
   ],
   "id": "32ccc7b8f0ef03a4",
   "outputs": [
    {
     "name": "stdout",
     "output_type": "stream",
     "text": [
      "userid 0\n",
      "sessionid 0\n",
      "timestamp 0\n",
      "action 0\n",
      "value 0\n",
      "category 1111681\n",
      "age 0\n",
      "gender 0\n",
      "city 0\n"
     ]
    },
    {
     "data": {
      "text/plain": [
       "          sessionid                      timestamp         value           age\n",
       "count  7.510522e+06                        7510522  7.510522e+06  7.510522e+06\n",
       "mean   2.805611e+02  2023-07-02 12:12:15.128161792  2.069225e+03  3.598401e+01\n",
       "min    1.000000e+00            2021-12-26 21:00:28  0.000000e+00  7.000000e+00\n",
       "25%    1.410000e+02            2022-09-29 20:42:51  0.000000e+00  2.100000e+01\n",
       "50%    2.810000e+02            2023-07-02 17:51:00  0.000000e+00  3.400000e+01\n",
       "75%    4.200000e+02     2024-04-03 04:12:19.500000  0.000000e+00  4.800000e+01\n",
       "max    5.860000e+02            2025-01-03 20:59:30  2.116800e+05  8.100000e+01\n",
       "std    1.617851e+02                            NaN  7.412838e+03  1.826152e+01"
      ],
      "text/html": [
       "<div>\n",
       "<style scoped>\n",
       "    .dataframe tbody tr th:only-of-type {\n",
       "        vertical-align: middle;\n",
       "    }\n",
       "\n",
       "    .dataframe tbody tr th {\n",
       "        vertical-align: top;\n",
       "    }\n",
       "\n",
       "    .dataframe thead th {\n",
       "        text-align: right;\n",
       "    }\n",
       "</style>\n",
       "<table border=\"1\" class=\"dataframe\">\n",
       "  <thead>\n",
       "    <tr style=\"text-align: right;\">\n",
       "      <th></th>\n",
       "      <th>sessionid</th>\n",
       "      <th>timestamp</th>\n",
       "      <th>value</th>\n",
       "      <th>age</th>\n",
       "    </tr>\n",
       "  </thead>\n",
       "  <tbody>\n",
       "    <tr>\n",
       "      <th>count</th>\n",
       "      <td>7.510522e+06</td>\n",
       "      <td>7510522</td>\n",
       "      <td>7.510522e+06</td>\n",
       "      <td>7.510522e+06</td>\n",
       "    </tr>\n",
       "    <tr>\n",
       "      <th>mean</th>\n",
       "      <td>2.805611e+02</td>\n",
       "      <td>2023-07-02 12:12:15.128161792</td>\n",
       "      <td>2.069225e+03</td>\n",
       "      <td>3.598401e+01</td>\n",
       "    </tr>\n",
       "    <tr>\n",
       "      <th>min</th>\n",
       "      <td>1.000000e+00</td>\n",
       "      <td>2021-12-26 21:00:28</td>\n",
       "      <td>0.000000e+00</td>\n",
       "      <td>7.000000e+00</td>\n",
       "    </tr>\n",
       "    <tr>\n",
       "      <th>25%</th>\n",
       "      <td>1.410000e+02</td>\n",
       "      <td>2022-09-29 20:42:51</td>\n",
       "      <td>0.000000e+00</td>\n",
       "      <td>2.100000e+01</td>\n",
       "    </tr>\n",
       "    <tr>\n",
       "      <th>50%</th>\n",
       "      <td>2.810000e+02</td>\n",
       "      <td>2023-07-02 17:51:00</td>\n",
       "      <td>0.000000e+00</td>\n",
       "      <td>3.400000e+01</td>\n",
       "    </tr>\n",
       "    <tr>\n",
       "      <th>75%</th>\n",
       "      <td>4.200000e+02</td>\n",
       "      <td>2024-04-03 04:12:19.500000</td>\n",
       "      <td>0.000000e+00</td>\n",
       "      <td>4.800000e+01</td>\n",
       "    </tr>\n",
       "    <tr>\n",
       "      <th>max</th>\n",
       "      <td>5.860000e+02</td>\n",
       "      <td>2025-01-03 20:59:30</td>\n",
       "      <td>2.116800e+05</td>\n",
       "      <td>8.100000e+01</td>\n",
       "    </tr>\n",
       "    <tr>\n",
       "      <th>std</th>\n",
       "      <td>1.617851e+02</td>\n",
       "      <td>NaN</td>\n",
       "      <td>7.412838e+03</td>\n",
       "      <td>1.826152e+01</td>\n",
       "    </tr>\n",
       "  </tbody>\n",
       "</table>\n",
       "</div>"
      ]
     },
     "metadata": {},
     "output_type": "display_data"
    },
    {
     "data": {
      "text/plain": [
       "          sessionid                      timestamp         value           age\n",
       "count  1.111681e+06                        1111681  1.111681e+06  1.111681e+06\n",
       "mean   2.806081e+02  2023-07-02 14:27:24.398341888  1.787516e+03  3.596563e+01\n",
       "min    1.000000e+00            2021-12-26 21:02:41  0.000000e+00  7.000000e+00\n",
       "25%    1.410000e+02            2022-09-29 17:47:12  0.000000e+00  2.100000e+01\n",
       "50%    2.810000e+02            2023-07-02 20:23:01  0.000000e+00  3.400000e+01\n",
       "75%    4.200000e+02            2024-04-03 07:17:27  3.360000e+02  4.800000e+01\n",
       "max    5.860000e+02            2025-01-03 20:57:41  8.940000e+04  8.100000e+01\n",
       "std    1.617647e+02                            NaN  4.555742e+03  1.825852e+01"
      ],
      "text/html": [
       "<div>\n",
       "<style scoped>\n",
       "    .dataframe tbody tr th:only-of-type {\n",
       "        vertical-align: middle;\n",
       "    }\n",
       "\n",
       "    .dataframe tbody tr th {\n",
       "        vertical-align: top;\n",
       "    }\n",
       "\n",
       "    .dataframe thead th {\n",
       "        text-align: right;\n",
       "    }\n",
       "</style>\n",
       "<table border=\"1\" class=\"dataframe\">\n",
       "  <thead>\n",
       "    <tr style=\"text-align: right;\">\n",
       "      <th></th>\n",
       "      <th>sessionid</th>\n",
       "      <th>timestamp</th>\n",
       "      <th>value</th>\n",
       "      <th>age</th>\n",
       "    </tr>\n",
       "  </thead>\n",
       "  <tbody>\n",
       "    <tr>\n",
       "      <th>count</th>\n",
       "      <td>1.111681e+06</td>\n",
       "      <td>1111681</td>\n",
       "      <td>1.111681e+06</td>\n",
       "      <td>1.111681e+06</td>\n",
       "    </tr>\n",
       "    <tr>\n",
       "      <th>mean</th>\n",
       "      <td>2.806081e+02</td>\n",
       "      <td>2023-07-02 14:27:24.398341888</td>\n",
       "      <td>1.787516e+03</td>\n",
       "      <td>3.596563e+01</td>\n",
       "    </tr>\n",
       "    <tr>\n",
       "      <th>min</th>\n",
       "      <td>1.000000e+00</td>\n",
       "      <td>2021-12-26 21:02:41</td>\n",
       "      <td>0.000000e+00</td>\n",
       "      <td>7.000000e+00</td>\n",
       "    </tr>\n",
       "    <tr>\n",
       "      <th>25%</th>\n",
       "      <td>1.410000e+02</td>\n",
       "      <td>2022-09-29 17:47:12</td>\n",
       "      <td>0.000000e+00</td>\n",
       "      <td>2.100000e+01</td>\n",
       "    </tr>\n",
       "    <tr>\n",
       "      <th>50%</th>\n",
       "      <td>2.810000e+02</td>\n",
       "      <td>2023-07-02 20:23:01</td>\n",
       "      <td>0.000000e+00</td>\n",
       "      <td>3.400000e+01</td>\n",
       "    </tr>\n",
       "    <tr>\n",
       "      <th>75%</th>\n",
       "      <td>4.200000e+02</td>\n",
       "      <td>2024-04-03 07:17:27</td>\n",
       "      <td>3.360000e+02</td>\n",
       "      <td>4.800000e+01</td>\n",
       "    </tr>\n",
       "    <tr>\n",
       "      <th>max</th>\n",
       "      <td>5.860000e+02</td>\n",
       "      <td>2025-01-03 20:57:41</td>\n",
       "      <td>8.940000e+04</td>\n",
       "      <td>8.100000e+01</td>\n",
       "    </tr>\n",
       "    <tr>\n",
       "      <th>std</th>\n",
       "      <td>1.617647e+02</td>\n",
       "      <td>NaN</td>\n",
       "      <td>4.555742e+03</td>\n",
       "      <td>1.825852e+01</td>\n",
       "    </tr>\n",
       "  </tbody>\n",
       "</table>\n",
       "</div>"
      ]
     },
     "metadata": {},
     "output_type": "display_data"
    }
   ],
   "execution_count": 15
  }
 ],
 "metadata": {
  "kernelspec": {
   "display_name": "Python 3",
   "language": "python",
   "name": "python3"
  },
  "language_info": {
   "codemirror_mode": {
    "name": "ipython",
    "version": 2
   },
   "file_extension": ".py",
   "mimetype": "text/x-python",
   "name": "python",
   "nbconvert_exporter": "python",
   "pygments_lexer": "ipython2",
   "version": "2.7.6"
  }
 },
 "nbformat": 4,
 "nbformat_minor": 5
}
