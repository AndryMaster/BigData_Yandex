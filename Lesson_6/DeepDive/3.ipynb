{
 "cells": [
  {
   "metadata": {},
   "cell_type": "markdown",
   "source": "## Нечестная монетка - 2",
   "id": "807e0c8196a30bd1"
  },
  {
   "metadata": {
    "ExecuteTime": {
     "end_time": "2024-11-03T13:06:10.830123Z",
     "start_time": "2024-11-03T13:06:10.747122Z"
    }
   },
   "cell_type": "code",
   "source": [
    "import numpy as np\n",
    "\n",
    "\n",
    "def process(coins: list) -> tuple:\n",
    "    res = []\n",
    "    for i in range(10_000):\n",
    "        sample = np.random.choice(coins, size=len(coins), replace=True)\n",
    "        res.append(sample.sum() / sample.size)\n",
    "    res.sort()\n",
    "    return res[250], res[-251]  # 95% percentile (2.5%; -97.5%)\n"
   ],
   "id": "ca23d4b944838e17",
   "outputs": [],
   "execution_count": 1
  },
  {
   "cell_type": "code",
   "id": "initial_id",
   "metadata": {
    "collapsed": true,
    "ExecuteTime": {
     "end_time": "2024-11-03T13:06:34.988491Z",
     "start_time": "2024-11-03T13:06:34.832618Z"
    }
   },
   "source": [
    "c1 = np.random.choice([0, 1], 100, p=[0.4, 0.6])\n",
    "print(c1)\n",
    "print(process(c1))"
   ],
   "outputs": [
    {
     "name": "stdout",
     "output_type": "stream",
     "text": [
      "[1 1 1 0 1 0 1 0 1 1 1 0 1 1 1 0 1 1 1 0 1 1 0 1 1 0 1 1 0 1 0 1 1 1 1 0 0\n",
      " 0 1 1 1 1 0 1 1 0 0 0 0 0 1 1 1 0 1 0 1 0 1 1 0 0 1 0 0 1 0 1 0 1 0 1 0 1\n",
      " 1 0 0 1 0 1 1 1 0 0 1 0 0 0 0 0 0 1 1 1 1 0 0 1 0 0]\n",
      "(0.45, 0.65)\n"
     ]
    }
   ],
   "execution_count": 16
  }
 ],
 "metadata": {
  "kernelspec": {
   "display_name": "Python 3",
   "language": "python",
   "name": "python3"
  },
  "language_info": {
   "codemirror_mode": {
    "name": "ipython",
    "version": 2
   },
   "file_extension": ".py",
   "mimetype": "text/x-python",
   "name": "python",
   "nbconvert_exporter": "python",
   "pygments_lexer": "ipython2",
   "version": "2.7.6"
  }
 },
 "nbformat": 4,
 "nbformat_minor": 5
}
