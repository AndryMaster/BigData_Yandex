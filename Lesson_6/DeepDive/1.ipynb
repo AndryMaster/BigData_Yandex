{
 "cells": [
  {
   "metadata": {},
   "cell_type": "markdown",
   "source": "## Оценка качества знаний",
   "id": "eb6657f87741fdd5"
  },
  {
   "cell_type": "code",
   "id": "initial_id",
   "metadata": {
    "collapsed": true,
    "ExecuteTime": {
     "end_time": "2024-11-03T12:54:52.349238Z",
     "start_time": "2024-11-03T12:54:52.345372Z"
    }
   },
   "source": [
    "import numpy as np\n",
    "\n",
    "\n",
    "def students_score(arr: np.array) -> float:\n",
    "    return np.where(arr > 3, 1, 0).sum() / arr.size\n",
    "\n",
    "\n",
    "def process(marks):\n",
    "    res = []\n",
    "    for i in range(1000):\n",
    "        sample = np.random.choice(marks, size=len(marks), replace=True)\n",
    "        res.append(students_score(sample))\n",
    "    res.sort()\n",
    "    return res[25], res[-26]\n"
   ],
   "outputs": [],
   "execution_count": 13
  },
  {
   "metadata": {
    "ExecuteTime": {
     "end_time": "2024-11-03T12:58:21.627818Z",
     "start_time": "2024-11-03T12:58:20.727406Z"
    }
   },
   "cell_type": "code",
   "source": [
    "def process_(marks, n, k):\n",
    "    res = []\n",
    "    for i in range(k):\n",
    "        sample = np.random.choice(marks, size=n, replace=True)\n",
    "        res.append(students_score(sample))\n",
    "        \n",
    "    res.sort()\n",
    "    # print(res)\n",
    "    k //= 40\n",
    "    return res[k], res[-k-1]\n",
    "\n",
    "\n",
    "marks_ = list(np.random.randint(2, 6, size=30))\n",
    "print(marks_, students_score(np.array(marks_)))\n",
    "print(process(marks_))\n",
    "\n",
    "for n in [20, 30, 50]:\n",
    "    for k in [500, 1000, 3000, 10000]:\n",
    "        print(n, k, process_(marks_, n, k))"
   ],
   "id": "780d42ed1ead130c",
   "outputs": [
    {
     "name": "stdout",
     "output_type": "stream",
     "text": [
      "[4, 4, 2, 2, 5, 3, 3, 3, 3, 4, 4, 2, 5, 3, 5, 5, 2, 3, 4, 4, 2, 5, 4, 2, 3, 5, 5, 2, 5, 3] 0.5\n",
      "(0.3333333333333333, 0.6666666666666666)\n",
      "20 500 (0.3, 0.75)\n",
      "20 1000 (0.3, 0.7)\n",
      "20 3000 (0.3, 0.7)\n",
      "20 10000 (0.3, 0.7)\n",
      "30 500 (0.3333333333333333, 0.6666666666666666)\n",
      "30 1000 (0.3333333333333333, 0.6666666666666666)\n",
      "30 3000 (0.3, 0.6666666666666666)\n",
      "30 10000 (0.3333333333333333, 0.6666666666666666)\n",
      "50 500 (0.36, 0.62)\n",
      "50 1000 (0.36, 0.64)\n",
      "50 3000 (0.36, 0.64)\n",
      "50 10000 (0.36, 0.64)\n"
     ]
    }
   ],
   "execution_count": 24
  }
 ],
 "metadata": {
  "kernelspec": {
   "display_name": "Python 3",
   "language": "python",
   "name": "python3"
  },
  "language_info": {
   "codemirror_mode": {
    "name": "ipython",
    "version": 2
   },
   "file_extension": ".py",
   "mimetype": "text/x-python",
   "name": "python",
   "nbconvert_exporter": "python",
   "pygments_lexer": "ipython2",
   "version": "2.7.6"
  }
 },
 "nbformat": 4,
 "nbformat_minor": 5
}
