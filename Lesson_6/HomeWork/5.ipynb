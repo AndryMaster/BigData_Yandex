{
 "cells": [
  {
   "metadata": {},
   "cell_type": "markdown",
   "source": "## Анализ эксперимента",
   "id": "5820c0f7219af2e2"
  },
  {
   "cell_type": "code",
   "id": "initial_id",
   "metadata": {
    "collapsed": true,
    "ExecuteTime": {
     "end_time": "2024-11-10T07:09:45.764468Z",
     "start_time": "2024-11-10T07:09:44.696526Z"
    }
   },
   "source": [
    "from IPython.display import display\n",
    "import matplotlib.pyplot as plt\n",
    "\n",
    "from scipy.stats import permutation_test\n",
    "import pandas as pd\n",
    "import numpy as np\n",
    "\n",
    "alpha = 0.05\n",
    "\n",
    "exp_testid = 34265\n",
    "control_testid = 34266\n",
    "\n",
    "seed = 177"
   ],
   "outputs": [],
   "execution_count": 1
  },
  {
   "metadata": {
    "ExecuteTime": {
     "end_time": "2024-11-10T07:38:58.365288Z",
     "start_time": "2024-11-10T07:38:58.359887Z"
    }
   },
   "cell_type": "code",
   "source": [
    "def statistic_arpu(a, b):\n",
    "    return np.mean(a) - np.mean(b)\n",
    "\n",
    "\n",
    "def statistic_arppu(a, b):\n",
    "    return np.mean(a[a != 0]) - np.mean(b[b != 0])\n",
    "\n",
    "\n",
    "def revenues_by_user(df: pd.DataFrame) -> pd.DataFrame:\n",
    "    return df.groupby([\"userid\"]).agg(\n",
    "        # userid=pd.NamedAgg(column=\"userid\", aggfunc=\"first\"),\n",
    "        val=pd.NamedAgg(column=\"value\", aggfunc=\"sum\"),\n",
    "    ).reset_index(drop=True)\n",
    "\n",
    "\n",
    "def prepare_frames(fname: str):\n",
    "    df_ = pd.read_csv(fname, delimiter=\"\\t\")\n",
    "    \n",
    "    df_[\"userid\"] = df_[\"userid\"].apply(lambda x: int(x.split(\"_\")[-1]))\n",
    "    df_[\"value\"] *= df_[\"action\"].apply(lambda x: 1 if x == \"confirmation\" else 0)\n",
    "    # df_.drop([\"timestamp\", \"action\"], axis=1, inplace=True)\n",
    "    \n",
    "    df_exp_ = df_[df_[\"testids\"].str.contains(str(exp_testid))].drop([\"testids\"], axis=1)\n",
    "    df_control_ = df_[df_[\"testids\"].str.contains(str(control_testid))].drop([\"testids\"], axis=1)\n",
    "    \n",
    "    return df_, df_exp_, df_control_"
   ],
   "id": "b8ece67be911eec5",
   "outputs": [],
   "execution_count": 44
  },
  {
   "metadata": {
    "ExecuteTime": {
     "end_time": "2024-11-10T07:15:49.153600Z",
     "start_time": "2024-11-10T07:15:48.364607Z"
    }
   },
   "cell_type": "code",
   "source": [
    "df, df_exp, df_control = prepare_frames(\"exp_arppu_problem.tsv\")\n",
    "\n",
    "df.info()\n",
    "\n",
    "df_exp.info()\n",
    "df_control.info()\n",
    "\n",
    "display(df_exp.head())\n",
    "display(df_control.head())\n",
    "\n",
    "print(set(df_exp[\"userid\"]) & set(df_control[\"userid\"]))"
   ],
   "id": "282efa6cea4e3220",
   "outputs": [
    {
     "name": "stdout",
     "output_type": "stream",
     "text": [
      "<class 'pandas.core.frame.DataFrame'>\n",
      "RangeIndex: 488766 entries, 0 to 488765\n",
      "Data columns (total 5 columns):\n",
      " #   Column     Non-Null Count   Dtype  \n",
      "---  ------     --------------   -----  \n",
      " 0   userid     488766 non-null  int64  \n",
      " 1   timestamp  488766 non-null  int64  \n",
      " 2   action     488766 non-null  object \n",
      " 3   value      488766 non-null  float64\n",
      " 4   testids    488766 non-null  object \n",
      "dtypes: float64(1), int64(2), object(2)\n",
      "memory usage: 18.6+ MB\n",
      "<class 'pandas.core.frame.DataFrame'>\n",
      "Index: 72425 entries, 0 to 488762\n",
      "Data columns (total 4 columns):\n",
      " #   Column     Non-Null Count  Dtype  \n",
      "---  ------     --------------  -----  \n",
      " 0   userid     72425 non-null  int64  \n",
      " 1   timestamp  72425 non-null  int64  \n",
      " 2   action     72425 non-null  object \n",
      " 3   value      72425 non-null  float64\n",
      "dtypes: float64(1), int64(2), object(1)\n",
      "memory usage: 2.8+ MB\n",
      "<class 'pandas.core.frame.DataFrame'>\n",
      "Index: 80368 entries, 40 to 488671\n",
      "Data columns (total 4 columns):\n",
      " #   Column     Non-Null Count  Dtype  \n",
      "---  ------     --------------  -----  \n",
      " 0   userid     80368 non-null  int64  \n",
      " 1   timestamp  80368 non-null  int64  \n",
      " 2   action     80368 non-null  object \n",
      " 3   value      80368 non-null  float64\n",
      "dtypes: float64(1), int64(2), object(1)\n",
      "memory usage: 3.1+ MB\n"
     ]
    },
    {
     "data": {
      "text/plain": [
       "   userid   timestamp        action    value\n",
       "0   10000  1659338271      mainpage      0.0\n",
       "1   10000  1659424675      category      0.0\n",
       "2   10000  1659424692          cart      0.0\n",
       "3   10000  1659424704      checkout      0.0\n",
       "4   10000  1659424709  confirmation  14400.0"
      ],
      "text/html": [
       "<div>\n",
       "<style scoped>\n",
       "    .dataframe tbody tr th:only-of-type {\n",
       "        vertical-align: middle;\n",
       "    }\n",
       "\n",
       "    .dataframe tbody tr th {\n",
       "        vertical-align: top;\n",
       "    }\n",
       "\n",
       "    .dataframe thead th {\n",
       "        text-align: right;\n",
       "    }\n",
       "</style>\n",
       "<table border=\"1\" class=\"dataframe\">\n",
       "  <thead>\n",
       "    <tr style=\"text-align: right;\">\n",
       "      <th></th>\n",
       "      <th>userid</th>\n",
       "      <th>timestamp</th>\n",
       "      <th>action</th>\n",
       "      <th>value</th>\n",
       "    </tr>\n",
       "  </thead>\n",
       "  <tbody>\n",
       "    <tr>\n",
       "      <th>0</th>\n",
       "      <td>10000</td>\n",
       "      <td>1659338271</td>\n",
       "      <td>mainpage</td>\n",
       "      <td>0.0</td>\n",
       "    </tr>\n",
       "    <tr>\n",
       "      <th>1</th>\n",
       "      <td>10000</td>\n",
       "      <td>1659424675</td>\n",
       "      <td>category</td>\n",
       "      <td>0.0</td>\n",
       "    </tr>\n",
       "    <tr>\n",
       "      <th>2</th>\n",
       "      <td>10000</td>\n",
       "      <td>1659424692</td>\n",
       "      <td>cart</td>\n",
       "      <td>0.0</td>\n",
       "    </tr>\n",
       "    <tr>\n",
       "      <th>3</th>\n",
       "      <td>10000</td>\n",
       "      <td>1659424704</td>\n",
       "      <td>checkout</td>\n",
       "      <td>0.0</td>\n",
       "    </tr>\n",
       "    <tr>\n",
       "      <th>4</th>\n",
       "      <td>10000</td>\n",
       "      <td>1659424709</td>\n",
       "      <td>confirmation</td>\n",
       "      <td>14400.0</td>\n",
       "    </tr>\n",
       "  </tbody>\n",
       "</table>\n",
       "</div>"
      ]
     },
     "metadata": {},
     "output_type": "display_data"
    },
    {
     "data": {
      "text/plain": [
       "    userid   timestamp    action  value\n",
       "40   10001  1659559451   product    0.0\n",
       "41   10001  1659732271   product    0.0\n",
       "42   10001  1659732284  mainpage    0.0\n",
       "43   10001  1659732285   product    0.0\n",
       "44   10001  1659732311    search    0.0"
      ],
      "text/html": [
       "<div>\n",
       "<style scoped>\n",
       "    .dataframe tbody tr th:only-of-type {\n",
       "        vertical-align: middle;\n",
       "    }\n",
       "\n",
       "    .dataframe tbody tr th {\n",
       "        vertical-align: top;\n",
       "    }\n",
       "\n",
       "    .dataframe thead th {\n",
       "        text-align: right;\n",
       "    }\n",
       "</style>\n",
       "<table border=\"1\" class=\"dataframe\">\n",
       "  <thead>\n",
       "    <tr style=\"text-align: right;\">\n",
       "      <th></th>\n",
       "      <th>userid</th>\n",
       "      <th>timestamp</th>\n",
       "      <th>action</th>\n",
       "      <th>value</th>\n",
       "    </tr>\n",
       "  </thead>\n",
       "  <tbody>\n",
       "    <tr>\n",
       "      <th>40</th>\n",
       "      <td>10001</td>\n",
       "      <td>1659559451</td>\n",
       "      <td>product</td>\n",
       "      <td>0.0</td>\n",
       "    </tr>\n",
       "    <tr>\n",
       "      <th>41</th>\n",
       "      <td>10001</td>\n",
       "      <td>1659732271</td>\n",
       "      <td>product</td>\n",
       "      <td>0.0</td>\n",
       "    </tr>\n",
       "    <tr>\n",
       "      <th>42</th>\n",
       "      <td>10001</td>\n",
       "      <td>1659732284</td>\n",
       "      <td>mainpage</td>\n",
       "      <td>0.0</td>\n",
       "    </tr>\n",
       "    <tr>\n",
       "      <th>43</th>\n",
       "      <td>10001</td>\n",
       "      <td>1659732285</td>\n",
       "      <td>product</td>\n",
       "      <td>0.0</td>\n",
       "    </tr>\n",
       "    <tr>\n",
       "      <th>44</th>\n",
       "      <td>10001</td>\n",
       "      <td>1659732311</td>\n",
       "      <td>search</td>\n",
       "      <td>0.0</td>\n",
       "    </tr>\n",
       "  </tbody>\n",
       "</table>\n",
       "</div>"
      ]
     },
     "metadata": {},
     "output_type": "display_data"
    },
    {
     "name": "stdout",
     "output_type": "stream",
     "text": [
      "set()\n"
     ]
    }
   ],
   "execution_count": 19
  },
  {
   "metadata": {
    "ExecuteTime": {
     "end_time": "2024-11-10T07:39:21.802297Z",
     "start_time": "2024-11-10T07:39:21.790072Z"
    }
   },
   "cell_type": "code",
   "source": [
    "df_exp_rev = revenues_by_user(df_exp)\n",
    "df_control_rev = revenues_by_user(df_control)\n",
    "\n",
    "# df_exp_rev.info()\n",
    "# df_control_rev.info()\n",
    "print(len(df_exp_rev), len(df_control_rev))\n",
    "print(len(df_exp_rev[df_exp_rev.val != 0]), len(df_control_rev[df_control_rev.val != 0]))\n",
    "print(sum(df_exp_rev.val), sum(df_control_rev.val))"
   ],
   "id": "1d73915b06835ab8",
   "outputs": [
    {
     "name": "stdout",
     "output_type": "stream",
     "text": [
      "1012 976\n",
      "465 612\n",
      "20689561.0 24620044.0\n"
     ]
    }
   ],
   "execution_count": 46
  },
  {
   "metadata": {
    "ExecuteTime": {
     "end_time": "2024-11-10T07:42:40.308364Z",
     "start_time": "2024-11-10T07:42:40.175041Z"
    }
   },
   "cell_type": "code",
   "source": [
    "plt.hist(df_exp_rev.val, bins=50, color='b', alpha=0.5)\n",
    "plt.hist(df_control_rev.val, bins=50, color='r', alpha=0.5)\n",
    "plt.xlabel(\"Per user\")\n",
    "plt.ylabel(\"Value\")\n",
    "plt.grid()\n",
    "plt.show()"
   ],
   "id": "f7a3fbadfaf3b524",
   "outputs": [
    {
     "data": {
      "text/plain": [
       "<Figure size 640x480 with 1 Axes>"
      ],
      "image/png": "[encoded data removed]"
     },
     "metadata": {},
     "output_type": "display_data"
    }
   ],
   "execution_count": 52
  },
  {
   "metadata": {},
   "cell_type": "markdown",
   "source": "ARPU",
   "id": "ac49dc46ece4713a"
  },
  {
   "metadata": {
    "ExecuteTime": {
     "end_time": "2024-11-10T07:30:12.920965Z",
     "start_time": "2024-11-10T07:30:12.093378Z"
    }
   },
   "cell_type": "code",
   "source": [
    "np.random.seed(seed)\n",
    "res_1_arpu = permutation_test((df_exp_rev[\"val\"], df_control_rev[\"val\"]), statistic_arpu, permutation_type='independent')\n",
    "\n",
    "c = \"red\" if res_1_arpu.statistic < 0 else \"green\"\n",
    "print(round(res_1_arpu.pvalue, 5), c if res_1_arpu.pvalue < alpha else \"gray\")\n",
    "\n",
    "print(res_1_arpu.pvalue < alpha, round(statistic_arpu(df_exp_rev[\"val\"], df_control_rev[\"val\"]), 2))\n",
    "\n",
    "plt.hist(res_1_arpu.null_distribution, bins=50)\n",
    "plt.axvline(res_1_arpu.statistic, color='r')\n",
    "plt.xlabel(\"Value of Statistic\")\n",
    "plt.ylabel(\"Frequency\")\n",
    "plt.grid()\n",
    "plt.show()"
   ],
   "id": "eb3953d4c58cf347",
   "outputs": [
    {
     "name": "stdout",
     "output_type": "stream",
     "text": [
      "0.0014 red\n",
      "True -4781.22\n"
     ]
    },
    {
     "data": {
      "text/plain": [
       "<Figure size 640x480 with 1 Axes>"
      ],
      "image/png": "[encoded data removed]"
     },
     "metadata": {},
     "output_type": "display_data"
    }
   ],
   "execution_count": 36
  },
  {
   "metadata": {},
   "cell_type": "markdown",
   "source": "ARPPU",
   "id": "fbe9847896bc4237"
  },
  {
   "metadata": {
    "ExecuteTime": {
     "end_time": "2024-11-10T07:30:15.797938Z",
     "start_time": "2024-11-10T07:30:14.841689Z"
    }
   },
   "cell_type": "code",
   "source": [
    "np.random.seed(seed)\n",
    "res_2_arppu = permutation_test((df_exp_rev[\"val\"], df_control_rev[\"val\"]), statistic_arppu, permutation_type='independent')\n",
    "\n",
    "c = \"red\" if res_2_arppu.statistic < 0 else \"green\"\n",
    "print(round(res_2_arppu.pvalue, 5), c if res_2_arppu.pvalue < alpha else \"gray\")\n",
    "\n",
    "print(res_2_arppu.pvalue < alpha, round(statistic_arppu(df_exp_rev[\"val\"], df_control_rev[\"val\"]), 2))\n",
    "\n",
    "plt.hist(res_2_arppu.null_distribution, bins=50)\n",
    "plt.axvline(res_2_arppu.statistic, color='r')\n",
    "plt.xlabel(\"Value of Statistic\")\n",
    "plt.ylabel(\"Frequency\")\n",
    "plt.grid()\n",
    "plt.show()"
   ],
   "id": "e76c38457cf66080",
   "outputs": [
    {
     "name": "stdout",
     "output_type": "stream",
     "text": [
      "0.042 green\n",
      "True 4264.85\n"
     ]
    },
    {
     "data": {
      "text/plain": [
       "<Figure size 640x480 with 1 Axes>"
      ],
      "image/png": "[encoded data removed]"
     },
     "metadata": {},
     "output_type": "display_data"
    }
   ],
   "execution_count": 37
  },
  {
   "metadata": {},
   "cell_type": "code",
   "outputs": [],
   "execution_count": null,
   "source": "",
   "id": "24cb49a828acae20"
  }
 ],
 "metadata": {
  "kernelspec": {
   "display_name": "Python 3",
   "language": "python",
   "name": "python3"
  },
  "language_info": {
   "codemirror_mode": {
    "name": "ipython",
    "version": 2
   },
   "file_extension": ".py",
   "mimetype": "text/x-python",
   "name": "python",
   "nbconvert_exporter": "python",
   "pygments_lexer": "ipython2",
   "version": "2.7.6"
  }
 },
 "nbformat": 4,
 "nbformat_minor": 5
}
