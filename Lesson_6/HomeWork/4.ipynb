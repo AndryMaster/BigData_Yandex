{
 "cells": [
  {
   "metadata": {},
   "cell_type": "markdown",
   "source": "## Детектор человечности",
   "id": "5820c0f7219af2e2"
  },
  {
   "cell_type": "code",
   "id": "initial_id",
   "metadata": {
    "collapsed": true,
    "ExecuteTime": {
     "end_time": "2024-11-09T08:40:55.673458Z",
     "start_time": "2024-11-09T08:40:55.669917Z"
    }
   },
   "source": [
    "import numpy as np\n",
    "\n",
    "\n",
    "def statistic(arr):\n",
    "    return np.mean(arr[1:] ^ arr[:-1])\n",
    "\n",
    "\n",
    "def is_human(arr: list):\n",
    "    arr = np.array(arr)\n",
    "    return statistic(arr) > 0.635\n"
   ],
   "outputs": [],
   "execution_count": 38
  },
  {
   "metadata": {
    "ExecuteTime": {
     "end_time": "2024-11-09T08:41:05.799731Z",
     "start_time": "2024-11-09T08:41:05.796090Z"
    }
   },
   "cell_type": "code",
   "source": "is_human(list(np.random.choice((0, 1), size=50)))",
   "id": "a2c4bd8548ece1f5",
   "outputs": [
    {
     "data": {
      "text/plain": [
       "False"
      ]
     },
     "execution_count": 76,
     "metadata": {},
     "output_type": "execute_result"
    }
   ],
   "execution_count": 76
  },
  {
   "metadata": {
    "ExecuteTime": {
     "end_time": "2024-11-09T08:30:40.698864Z",
     "start_time": "2024-11-09T08:30:40.695787Z"
    }
   },
   "cell_type": "code",
   "source": [
    "from IPython.display import display\n",
    "import matplotlib.pyplot as plt\n",
    "\n",
    "\n",
    "def show_hist(arr):\n",
    "    plt.hist(arr, bins=50, rwidth=1.5)\n",
    "    plt.xlabel(\"Value of Humanity\")\n",
    "    plt.ylabel(\"Frequency\")\n",
    "    plt.grid()\n",
    "    plt.show()"
   ],
   "id": "8126c8232211857c",
   "outputs": [],
   "execution_count": 19
  },
  {
   "metadata": {
    "ExecuteTime": {
     "end_time": "2024-11-09T08:28:40.867068Z",
     "start_time": "2024-11-09T08:28:40.863321Z"
    }
   },
   "cell_type": "code",
   "source": [
    "a = np.random.choice((0, 1), size=50)\n",
    "\n",
    "print(a)\n",
    "print(a[1:] ^ a[:-1])"
   ],
   "id": "58774614d59f71fc",
   "outputs": [
    {
     "name": "stdout",
     "output_type": "stream",
     "text": [
      "[0 0 0 1 0 1 1 0 1 0 0 0 1 1 0 0 0 0 0 0 0 1 0 0 0 1 1 1 1 1 0 0 0 1 1 0 0\n",
      " 0 0 0 0 0 1 0 0 1 1 1 1 1]\n",
      "[0 0 1 1 1 0 1 1 1 0 0 1 0 1 0 0 0 0 0 0 1 1 0 0 1 0 0 0 0 1 0 0 1 0 1 0 0\n",
      " 0 0 0 0 1 1 0 1 0 0 0 0]\n"
     ]
    }
   ],
   "execution_count": 7
  },
  {
   "metadata": {
    "ExecuteTime": {
     "end_time": "2024-11-09T08:43:26.213984Z",
     "start_time": "2024-11-09T08:43:25.095151Z"
    }
   },
   "cell_type": "code",
   "source": [
    "res = []\n",
    "for i in range(50000):\n",
    "    b = np.random.choice((0, 1), size=50)\n",
    "    res.append(statistic(b))\n"
   ],
   "id": "7a8617aadcd45a9b",
   "outputs": [],
   "execution_count": 79
  },
  {
   "metadata": {
    "ExecuteTime": {
     "end_time": "2024-11-09T08:44:05.552559Z",
     "start_time": "2024-11-09T08:44:05.536778Z"
    }
   },
   "cell_type": "code",
   "source": [
    "c_std = 1.9\n",
    "\n",
    "# show_hist(res)\n",
    "print(np.mean(res), np.std(res))\n",
    "\n",
    "# r1 = [elem for elem in res if abs(elem - 0.5) < 0.0715 * c_std]\n",
    "# show_hist(r1)\n",
    "# \n",
    "# print(len(r1) / len(res), len(res), len(r1))\n",
    "print(np.mean(res) - np.std(res) * c_std, np.mean(res) + np.std(res) * c_std)\n",
    "\n",
    "print(np.percentile(res, 97.5))"
   ],
   "id": "194aac5537b18ec3",
   "outputs": [
    {
     "name": "stdout",
     "output_type": "stream",
     "text": [
      "0.49991224489795916 0.07197488313698228\n",
      "0.3631599669376928 0.6366645228582255\n",
      "0.6326530612244898\n"
     ]
    }
   ],
   "execution_count": 89
  }
 ],
 "metadata": {
  "kernelspec": {
   "display_name": "Python 3",
   "language": "python",
   "name": "python3"
  },
  "language_info": {
   "codemirror_mode": {
    "name": "ipython",
    "version": 2
   },
   "file_extension": ".py",
   "mimetype": "text/x-python",
   "name": "python",
   "nbconvert_exporter": "python",
   "pygments_lexer": "ipython2",
   "version": "2.7.6"
  }
 },
 "nbformat": 4,
 "nbformat_minor": 5
}
