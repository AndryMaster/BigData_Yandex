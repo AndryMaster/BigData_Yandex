{
 "cells": [
  {
   "metadata": {},
   "cell_type": "markdown",
   "source": "## ARPU & ARPPU",
   "id": "5820c0f7219af2e2"
  },
  {
   "metadata": {
    "ExecuteTime": {
     "end_time": "2024-11-08T17:23:39.547887Z",
     "start_time": "2024-11-08T17:23:38.999182Z"
    }
   },
   "cell_type": "code",
   "source": [
    "from IPython.display import display\n",
    "import matplotlib.pyplot as plt"
   ],
   "id": "8126c8232211857c",
   "outputs": [],
   "execution_count": 12
  },
  {
   "cell_type": "code",
   "id": "initial_id",
   "metadata": {
    "collapsed": true,
    "ExecuteTime": {
     "end_time": "2024-11-08T20:48:31.272994Z",
     "start_time": "2024-11-08T20:48:29.716479Z"
    }
   },
   "source": [
    "from scipy.stats import permutation_test\n",
    "import pandas as pd\n",
    "import numpy as np\n",
    "\n",
    "alpha = 0.05\n",
    "\n",
    "exp_testid = 32412\n",
    "control_testid = 32413\n",
    "\n",
    "\n",
    "def revenues_by_user(df: pd.DataFrame) -> pd.DataFrame:\n",
    "    return df.groupby([\"userid\"]).agg(\n",
    "        userid=pd.NamedAgg(column=\"userid\", aggfunc=\"first\"),\n",
    "        value=pd.NamedAgg(column=\"value\", aggfunc=\"sum\"),\n",
    "    ).reset_index(drop=True)\n",
    "\n",
    "\n",
    "def statistic_arpu(a, b):\n",
    "    return np.mean(a) - np.mean(b)\n",
    "\n",
    "\n",
    "def statistic_arppu(a, b):\n",
    "    return np.mean(a[a != 0]) - np.mean(b[b != 0])\n",
    "\n",
    "\n",
    "def process(fname: str):\n",
    "    df = pd.read_csv(fname, delimiter=\"\\t\")\n",
    "\n",
    "    df[\"action\"] = df[\"action\"].apply(lambda x: 1 if x == \"confirmation\" else 0)\n",
    "    df[\"value\"] = df[\"value\"] * df[\"action\"]\n",
    "    df.drop([\"timestamp\", \"action\"], axis=1, inplace=True)\n",
    "    \n",
    "    df_exp = df[df[\"testids\"].str.contains(str(exp_testid))].drop([\"testids\"], axis=1)\n",
    "    df_control = df[df[\"testids\"].str.contains(str(control_testid))].drop([\"testids\"], axis=1)\n",
    "    \n",
    "    df_exp = revenues_by_user(df_exp)\n",
    "    df_control = revenues_by_user(df_control)\n",
    "    \n",
    "    for method in [statistic_arpu, statistic_arppu]:\n",
    "        np.random.seed(177)\n",
    "        result = permutation_test((df_exp[\"value\"], df_control[\"value\"]), method, permutation_type='independent')\n",
    "\n",
    "        c = \"red\" if result.statistic < 0 else \"green\"\n",
    "        print(round(result.pvalue, 3), c if result.pvalue < alpha else \"gray\")\n",
    "\n",
    "\n",
    "if __name__ == '__main__':\n",
    "    process(input())\n"
   ],
   "outputs": [
    {
     "name": "stdout",
     "output_type": "stream",
     "text": [
      "0.077 gray\n",
      "0.006 green\n"
     ]
    }
   ],
   "execution_count": 47
  },
  {
   "metadata": {
    "ExecuteTime": {
     "end_time": "2024-11-08T17:37:02.530650Z",
     "start_time": "2024-11-08T17:37:02.468773Z"
    }
   },
   "cell_type": "code",
   "source": [
    "df = pd.read_csv(\"exp_arppu.tsv\", delimiter=\"\\t\")\n",
    "\n",
    "# df = df[df[\"action\"] == \"confirmation\"] \n",
    "df[\"action\"] = df[\"action\"].apply(lambda x: 1 if x == \"confirmation\" else 0)\n",
    "df[\"value\"] = df[\"value\"] * df[\"action\"]\n",
    "df.drop([\"timestamp\", \"action\"], axis=1, inplace=True)\n",
    "\n",
    "df.info()\n",
    "df.head(10)"
   ],
   "id": "282efa6cea4e3220",
   "outputs": [
    {
     "name": "stdout",
     "output_type": "stream",
     "text": [
      "<class 'pandas.core.frame.DataFrame'>\n",
      "RangeIndex: 49757 entries, 0 to 49756\n",
      "Data columns (total 3 columns):\n",
      " #   Column   Non-Null Count  Dtype  \n",
      "---  ------   --------------  -----  \n",
      " 0   userid   49757 non-null  object \n",
      " 1   value    49757 non-null  float64\n",
      " 2   testids  49757 non-null  object \n",
      "dtypes: float64(1), object(2)\n",
      "memory usage: 1.1+ MB\n"
     ]
    },
    {
     "data": {
      "text/plain": [
       "       userid  value                  testids\n",
       "0  user_10000    0.0  13535;23346;23464;25661\n",
       "1  user_10000    0.0  13535;23346;23464;25661\n",
       "2  user_10000    0.0  13535;23346;23464;25661\n",
       "3  user_10000    0.0  13535;23346;23464;25661\n",
       "4  user_10000    0.0  13535;23346;23464;25661\n",
       "5  user_10000    0.0  13535;23346;23464;25661\n",
       "6  user_10000    0.0  13535;23346;23464;25661\n",
       "7  user_10000    0.0  13535;23346;23464;25661\n",
       "8  user_10000    0.0  13535;23346;23464;25661\n",
       "9  user_10000    0.0  13535;23346;23464;25661"
      ],
      "text/html": [
       "<div>\n",
       "<style scoped>\n",
       "    .dataframe tbody tr th:only-of-type {\n",
       "        vertical-align: middle;\n",
       "    }\n",
       "\n",
       "    .dataframe tbody tr th {\n",
       "        vertical-align: top;\n",
       "    }\n",
       "\n",
       "    .dataframe thead th {\n",
       "        text-align: right;\n",
       "    }\n",
       "</style>\n",
       "<table border=\"1\" class=\"dataframe\">\n",
       "  <thead>\n",
       "    <tr style=\"text-align: right;\">\n",
       "      <th></th>\n",
       "      <th>userid</th>\n",
       "      <th>value</th>\n",
       "      <th>testids</th>\n",
       "    </tr>\n",
       "  </thead>\n",
       "  <tbody>\n",
       "    <tr>\n",
       "      <th>0</th>\n",
       "      <td>user_10000</td>\n",
       "      <td>0.0</td>\n",
       "      <td>13535;23346;23464;25661</td>\n",
       "    </tr>\n",
       "    <tr>\n",
       "      <th>1</th>\n",
       "      <td>user_10000</td>\n",
       "      <td>0.0</td>\n",
       "      <td>13535;23346;23464;25661</td>\n",
       "    </tr>\n",
       "    <tr>\n",
       "      <th>2</th>\n",
       "      <td>user_10000</td>\n",
       "      <td>0.0</td>\n",
       "      <td>13535;23346;23464;25661</td>\n",
       "    </tr>\n",
       "    <tr>\n",
       "      <th>3</th>\n",
       "      <td>user_10000</td>\n",
       "      <td>0.0</td>\n",
       "      <td>13535;23346;23464;25661</td>\n",
       "    </tr>\n",
       "    <tr>\n",
       "      <th>4</th>\n",
       "      <td>user_10000</td>\n",
       "      <td>0.0</td>\n",
       "      <td>13535;23346;23464;25661</td>\n",
       "    </tr>\n",
       "    <tr>\n",
       "      <th>5</th>\n",
       "      <td>user_10000</td>\n",
       "      <td>0.0</td>\n",
       "      <td>13535;23346;23464;25661</td>\n",
       "    </tr>\n",
       "    <tr>\n",
       "      <th>6</th>\n",
       "      <td>user_10000</td>\n",
       "      <td>0.0</td>\n",
       "      <td>13535;23346;23464;25661</td>\n",
       "    </tr>\n",
       "    <tr>\n",
       "      <th>7</th>\n",
       "      <td>user_10000</td>\n",
       "      <td>0.0</td>\n",
       "      <td>13535;23346;23464;25661</td>\n",
       "    </tr>\n",
       "    <tr>\n",
       "      <th>8</th>\n",
       "      <td>user_10000</td>\n",
       "      <td>0.0</td>\n",
       "      <td>13535;23346;23464;25661</td>\n",
       "    </tr>\n",
       "    <tr>\n",
       "      <th>9</th>\n",
       "      <td>user_10000</td>\n",
       "      <td>0.0</td>\n",
       "      <td>13535;23346;23464;25661</td>\n",
       "    </tr>\n",
       "  </tbody>\n",
       "</table>\n",
       "</div>"
      ]
     },
     "execution_count": 31,
     "metadata": {},
     "output_type": "execute_result"
    }
   ],
   "execution_count": 31
  },
  {
   "metadata": {
    "ExecuteTime": {
     "end_time": "2024-11-08T17:37:55.087041Z",
     "start_time": "2024-11-08T17:37:55.053069Z"
    }
   },
   "cell_type": "code",
   "source": [
    "df_exp = df[df[\"testids\"].str.contains(str(exp_testid))].drop([\"testids\"], axis=1)\n",
    "df_control = df[df[\"testids\"].str.contains(str(control_testid))].drop([\"testids\"], axis=1)\n",
    "\n",
    "display(df_exp.head(4))\n",
    "display(df_control.head(4))"
   ],
   "id": "1d73915b06835ab8",
   "outputs": [
    {
     "data": {
      "text/plain": [
       "         userid  value\n",
       "145  user_10001    0.0\n",
       "146  user_10001    0.0\n",
       "147  user_10001    0.0\n",
       "148  user_10001    0.0"
      ],
      "text/html": [
       "<div>\n",
       "<style scoped>\n",
       "    .dataframe tbody tr th:only-of-type {\n",
       "        vertical-align: middle;\n",
       "    }\n",
       "\n",
       "    .dataframe tbody tr th {\n",
       "        vertical-align: top;\n",
       "    }\n",
       "\n",
       "    .dataframe thead th {\n",
       "        text-align: right;\n",
       "    }\n",
       "</style>\n",
       "<table border=\"1\" class=\"dataframe\">\n",
       "  <thead>\n",
       "    <tr style=\"text-align: right;\">\n",
       "      <th></th>\n",
       "      <th>userid</th>\n",
       "      <th>value</th>\n",
       "    </tr>\n",
       "  </thead>\n",
       "  <tbody>\n",
       "    <tr>\n",
       "      <th>145</th>\n",
       "      <td>user_10001</td>\n",
       "      <td>0.0</td>\n",
       "    </tr>\n",
       "    <tr>\n",
       "      <th>146</th>\n",
       "      <td>user_10001</td>\n",
       "      <td>0.0</td>\n",
       "    </tr>\n",
       "    <tr>\n",
       "      <th>147</th>\n",
       "      <td>user_10001</td>\n",
       "      <td>0.0</td>\n",
       "    </tr>\n",
       "    <tr>\n",
       "      <th>148</th>\n",
       "      <td>user_10001</td>\n",
       "      <td>0.0</td>\n",
       "    </tr>\n",
       "  </tbody>\n",
       "</table>\n",
       "</div>"
      ]
     },
     "metadata": {},
     "output_type": "display_data"
    },
    {
     "data": {
      "text/plain": [
       "         userid  value\n",
       "318  user_10003    0.0\n",
       "319  user_10003    0.0\n",
       "320  user_10003    0.0\n",
       "321  user_10003    0.0"
      ],
      "text/html": [
       "<div>\n",
       "<style scoped>\n",
       "    .dataframe tbody tr th:only-of-type {\n",
       "        vertical-align: middle;\n",
       "    }\n",
       "\n",
       "    .dataframe tbody tr th {\n",
       "        vertical-align: top;\n",
       "    }\n",
       "\n",
       "    .dataframe thead th {\n",
       "        text-align: right;\n",
       "    }\n",
       "</style>\n",
       "<table border=\"1\" class=\"dataframe\">\n",
       "  <thead>\n",
       "    <tr style=\"text-align: right;\">\n",
       "      <th></th>\n",
       "      <th>userid</th>\n",
       "      <th>value</th>\n",
       "    </tr>\n",
       "  </thead>\n",
       "  <tbody>\n",
       "    <tr>\n",
       "      <th>318</th>\n",
       "      <td>user_10003</td>\n",
       "      <td>0.0</td>\n",
       "    </tr>\n",
       "    <tr>\n",
       "      <th>319</th>\n",
       "      <td>user_10003</td>\n",
       "      <td>0.0</td>\n",
       "    </tr>\n",
       "    <tr>\n",
       "      <th>320</th>\n",
       "      <td>user_10003</td>\n",
       "      <td>0.0</td>\n",
       "    </tr>\n",
       "    <tr>\n",
       "      <th>321</th>\n",
       "      <td>user_10003</td>\n",
       "      <td>0.0</td>\n",
       "    </tr>\n",
       "  </tbody>\n",
       "</table>\n",
       "</div>"
      ]
     },
     "metadata": {},
     "output_type": "display_data"
    }
   ],
   "execution_count": 37
  },
  {
   "metadata": {
    "ExecuteTime": {
     "end_time": "2024-11-08T17:37:21.194434Z",
     "start_time": "2024-11-08T17:37:21.189609Z"
    }
   },
   "cell_type": "code",
   "source": "set(df_exp[\"userid\"]) & set(df_control[\"userid\"])",
   "id": "eb3953d4c58cf347",
   "outputs": [
    {
     "data": {
      "text/plain": [
       "set()"
      ]
     },
     "execution_count": 33,
     "metadata": {},
     "output_type": "execute_result"
    }
   ],
   "execution_count": 33
  },
  {
   "metadata": {
    "ExecuteTime": {
     "end_time": "2024-11-08T17:38:19.674822Z",
     "start_time": "2024-11-08T17:38:19.666347Z"
    }
   },
   "cell_type": "code",
   "source": [
    "df_exp = revenues_by_user(df_exp)\n",
    "df_control = revenues_by_user(df_control)\n",
    "\n",
    "df_exp.head(10)"
   ],
   "id": "e76c38457cf66080",
   "outputs": [
    {
     "data": {
      "text/plain": [
       "       userid     value\n",
       "0  user_10001   32400.0\n",
       "1  user_10005       0.0\n",
       "2  user_10012   24700.0\n",
       "3  user_10017  115900.0\n",
       "4  user_10030       0.0\n",
       "5  user_10037       0.0\n",
       "6  user_10039       0.0\n",
       "7  user_10042  142000.0\n",
       "8  user_10045       0.0\n",
       "9  user_10046       0.0"
      ],
      "text/html": [
       "<div>\n",
       "<style scoped>\n",
       "    .dataframe tbody tr th:only-of-type {\n",
       "        vertical-align: middle;\n",
       "    }\n",
       "\n",
       "    .dataframe tbody tr th {\n",
       "        vertical-align: top;\n",
       "    }\n",
       "\n",
       "    .dataframe thead th {\n",
       "        text-align: right;\n",
       "    }\n",
       "</style>\n",
       "<table border=\"1\" class=\"dataframe\">\n",
       "  <thead>\n",
       "    <tr style=\"text-align: right;\">\n",
       "      <th></th>\n",
       "      <th>userid</th>\n",
       "      <th>value</th>\n",
       "    </tr>\n",
       "  </thead>\n",
       "  <tbody>\n",
       "    <tr>\n",
       "      <th>0</th>\n",
       "      <td>user_10001</td>\n",
       "      <td>32400.0</td>\n",
       "    </tr>\n",
       "    <tr>\n",
       "      <th>1</th>\n",
       "      <td>user_10005</td>\n",
       "      <td>0.0</td>\n",
       "    </tr>\n",
       "    <tr>\n",
       "      <th>2</th>\n",
       "      <td>user_10012</td>\n",
       "      <td>24700.0</td>\n",
       "    </tr>\n",
       "    <tr>\n",
       "      <th>3</th>\n",
       "      <td>user_10017</td>\n",
       "      <td>115900.0</td>\n",
       "    </tr>\n",
       "    <tr>\n",
       "      <th>4</th>\n",
       "      <td>user_10030</td>\n",
       "      <td>0.0</td>\n",
       "    </tr>\n",
       "    <tr>\n",
       "      <th>5</th>\n",
       "      <td>user_10037</td>\n",
       "      <td>0.0</td>\n",
       "    </tr>\n",
       "    <tr>\n",
       "      <th>6</th>\n",
       "      <td>user_10039</td>\n",
       "      <td>0.0</td>\n",
       "    </tr>\n",
       "    <tr>\n",
       "      <th>7</th>\n",
       "      <td>user_10042</td>\n",
       "      <td>142000.0</td>\n",
       "    </tr>\n",
       "    <tr>\n",
       "      <th>8</th>\n",
       "      <td>user_10045</td>\n",
       "      <td>0.0</td>\n",
       "    </tr>\n",
       "    <tr>\n",
       "      <th>9</th>\n",
       "      <td>user_10046</td>\n",
       "      <td>0.0</td>\n",
       "    </tr>\n",
       "  </tbody>\n",
       "</table>\n",
       "</div>"
      ]
     },
     "execution_count": 39,
     "metadata": {},
     "output_type": "execute_result"
    }
   ],
   "execution_count": 39
  },
  {
   "metadata": {
    "ExecuteTime": {
     "end_time": "2024-11-08T17:43:38.529365Z",
     "start_time": "2024-11-08T17:43:36.354403Z"
    }
   },
   "cell_type": "code",
   "source": [
    "res_arpu = permutation_test((df_exp[\"value\"], df_control[\"value\"]), statistic_arpu, permutation_type='independent')\n",
    "\n",
    "print(res_arpu.pvalue)"
   ],
   "id": "5b65820370883dd8",
   "outputs": [
    {
     "name": "stdout",
     "output_type": "stream",
     "text": [
      "0.0002\n",
      "[-201.35104211 -360.14797199  332.43622821 ... -360.14797199 -246.31161864\n",
      " -360.14797199]\n",
      "17190.35656862525\n"
     ]
    }
   ],
   "execution_count": 41
  }
 ],
 "metadata": {
  "kernelspec": {
   "display_name": "Python 3",
   "language": "python",
   "name": "python3"
  },
  "language_info": {
   "codemirror_mode": {
    "name": "ipython",
    "version": 2
   },
   "file_extension": ".py",
   "mimetype": "text/x-python",
   "name": "python",
   "nbconvert_exporter": "python",
   "pygments_lexer": "ipython2",
   "version": "2.7.6"
  }
 },
 "nbformat": 4,
 "nbformat_minor": 5
}
