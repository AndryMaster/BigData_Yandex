{
 "cells": [
  {
   "metadata": {},
   "cell_type": "markdown",
   "source": "## Две одинаково нечестных монетки",
   "id": "5820c0f7219af2e2"
  },
  {
   "cell_type": "code",
   "id": "initial_id",
   "metadata": {
    "collapsed": true,
    "ExecuteTime": {
     "end_time": "2024-11-09T08:39:28.860951Z",
     "start_time": "2024-11-09T08:39:28.856012Z"
    }
   },
   "source": [
    "from scipy.stats import permutation_test\n",
    "import numpy as np\n",
    "\n",
    "alpha = 0.05\n",
    "\n",
    "\n",
    "def statistic(a, b):\n",
    "    return np.mean(a) - np.mean(b)\n",
    "\n",
    "\n",
    "def success_rate(n: int):\n",
    "    p = 0\n",
    "    # pv = []\n",
    "    for i in range(n):\n",
    "        n1 = np.random.choice((0, 1), size=100, p=(0.4, 0.6))\n",
    "        n2 = np.random.choice((0, 1), size=100, p=(0.4, 0.6))\n",
    "        \n",
    "        result = permutation_test((n1, n2), statistic, permutation_type='independent')\n",
    "        # print(i, result.pvalue, round(result.statistic, 4), n1[:7], n2[:7])\n",
    "        # pv.append(result.pvalue)\n",
    "        if result.pvalue <= alpha:\n",
    "            p += 1\n",
    "        \n",
    "    # show_hist(pv)\n",
    "    # print(pv)\n",
    "    return p / n\n"
   ],
   "outputs": [],
   "execution_count": 24
  },
  {
   "metadata": {
    "ExecuteTime": {
     "end_time": "2024-11-09T08:39:50.041516Z",
     "start_time": "2024-11-09T08:39:29.920459Z"
    }
   },
   "cell_type": "code",
   "source": "success_rate(100)",
   "id": "9869f6e87b5554d8",
   "outputs": [
    {
     "data": {
      "text/plain": [
       "0.02"
      ]
     },
     "execution_count": 25,
     "metadata": {},
     "output_type": "execute_result"
    }
   ],
   "execution_count": 25
  },
  {
   "metadata": {
    "ExecuteTime": {
     "end_time": "2024-11-09T08:21:03.379897Z",
     "start_time": "2024-11-09T08:21:03.375874Z"
    }
   },
   "cell_type": "code",
   "source": [
    "from IPython.display import display\n",
    "import matplotlib.pyplot as plt\n",
    "\n",
    "\n",
    "def show_hist(distr):\n",
    "    plt.hist(distr, bins=50)\n",
    "    plt.xlabel(\"Value of Statistic\")\n",
    "    plt.ylabel(\"Frequency\")\n",
    "    plt.show()"
   ],
   "id": "8126c8232211857c",
   "outputs": [],
   "execution_count": 20
  }
 ],
 "metadata": {
  "kernelspec": {
   "display_name": "Python 3",
   "language": "python",
   "name": "python3"
  },
  "language_info": {
   "codemirror_mode": {
    "name": "ipython",
    "version": 2
   },
   "file_extension": ".py",
   "mimetype": "text/x-python",
   "name": "python",
   "nbconvert_exporter": "python",
   "pygments_lexer": "ipython2",
   "version": "2.7.6"
  }
 },
 "nbformat": 4,
 "nbformat_minor": 5
}
