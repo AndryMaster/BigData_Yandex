{
 "cells": [
  {
   "metadata": {},
   "cell_type": "markdown",
   "source": "## DAU на минималках",
   "id": "b48677f5aa67d79a"
  },
  {
   "cell_type": "code",
   "id": "initial_id",
   "metadata": {
    "collapsed": true,
    "ExecuteTime": {
     "end_time": "2024-10-07T14:52:51.208854Z",
     "start_time": "2024-10-07T14:52:51.203871Z"
    }
   },
   "source": [
    "import csv\n",
    "\n",
    "with open(\"log1.tsv\", \"r\", encoding='utf-8') as f:\n",
    "    reader = csv.DictReader(f, delimiter='\\t', fieldnames=\"userid;timestamp;action;value;testids\".split(';'))\n",
    "    data = [row for row in reader][1:]\n",
    "\n",
    "# print(*data, sep='\\n')\n",
    "\n",
    "res = {}\n",
    "for row in data:\n",
    "    t = row['timestamp'].split('T')[0]\n",
    "    \n",
    "    if t not in res:\n",
    "        res[t] = {row['userid'],}\n",
    "    else:\n",
    "        res[t].add(row['userid'])\n",
    "\n",
    "for k, v in res.items():\n",
    "    print(k, len(v))\n"
   ],
   "outputs": [
    {
     "name": "stdout",
     "output_type": "stream",
     "text": [
      "2022-08-22 2\n",
      "2022-08-23 1\n",
      "2022-08-25 3\n",
      "2022-08-28 1\n",
      "2022-08-30 1\n",
      "2022-09-05 1\n"
     ]
    }
   ],
   "execution_count": 2
  },
  {
   "metadata": {},
   "cell_type": "markdown",
   "source": "## Дедупликация на минималках",
   "id": "80064ae66f7e8adf"
  },
  {
   "metadata": {
    "ExecuteTime": {
     "end_time": "2024-10-07T14:52:54.197419Z",
     "start_time": "2024-10-07T14:52:54.191426Z"
    }
   },
   "cell_type": "code",
   "source": [
    "import csv\n",
    "\n",
    "unique = set()\n",
    "\n",
    "with open(\"log.dsv\", \"r\", encoding='utf-8') as f:\n",
    "    lines = f.readlines()\n",
    "    data = []\n",
    "    for line in lines:\n",
    "        # Parse\n",
    "        row = {arg.split('=')[0]:arg.split('=')[1] for arg in line.split()}\n",
    "        # Check\n",
    "        # for old_row in data:\n",
    "        #     if old_row['userid'] == row['userid'] and old_row['timestamp'] == row['timestamp'] and \\\n",
    "        #             old_row['action'] == row['action'] and old_row['value'] == row['value'] and \\\n",
    "        #             old_row['testids'] == row['testids']:\n",
    "        #         break\n",
    "        old_len = len(unique)\n",
    "        unique.add((row['userid'], row['timestamp'], row['action'], row['value'], row['testids']))\n",
    "        if len(unique) != old_len:\n",
    "            data.append(row)\n",
    "\n",
    "print(*data, sep='\\n')\n",
    "print(len(data))\n",
    "\n",
    "\n",
    "with open(\"output.tsv\", \"w\", newline=\"\") as f:\n",
    "    w = csv.DictWriter(f, delimiter='\\t',\n",
    "                       fieldnames=\"userid;timestamp;action;value;testids\".split(';'))\n",
    "    w.writeheader()\n",
    "    w.writerows(data)\n"
   ],
   "id": "edb61cfadd4c7a10",
   "outputs": [
    {
     "name": "stdout",
     "output_type": "stream",
     "text": [
      "{'testids': '13534;23346;23464;25661', 'userid': 'user_2', 'value': '0', 'timestamp': '2022-08-22T12:10:00', 'action': 'product'}\n",
      "{'testids': '13534;23345;23463;25662', 'value': '12370.0', 'userid': 'user_1', 'action': 'checkout', 'timestamp': '2022-08-22T10:53:00'}\n",
      "{'value': '12370.0', 'timestamp': '2022-08-22T10:23:00', 'userid': 'user_1', 'testids': '13534;23345;23463;25662', 'action': 'cart'}\n",
      "{'action': 'category', 'value': '0', 'testids': '13534;23345;23463;25662', 'userid': 'user_1', 'timestamp': '2022-08-22T10:07:00'}\n",
      "{'timestamp': '2022-08-22T12:14:00', 'value': '12370.0', 'action': 'confirmation', 'testids': '13534;23345;23463;25662', 'userid': 'user_1'}\n",
      "{'value': '0', 'testids': '13534;23346;23464;25661', 'action': 'search', 'timestamp': '2022-08-22T10:45:00', 'userid': 'user_2'}\n",
      "{'action': 'product', 'value': '0', 'testids': '13534;23346;23464;25661', 'userid': 'user_2', 'timestamp': '2022-08-22T10:17:00'}\n",
      "{'action': 'category', 'timestamp': '2022-08-22T12:27:00', 'testids': '13534;23346;23464;25661', 'userid': 'user_2', 'value': '0'}\n",
      "{'value': '0', 'testids': '13534;23345;23463;25662', 'userid': 'user_1', 'action': 'product', 'timestamp': '2022-08-22T10:00:00'}\n",
      "9\n"
     ]
    }
   ],
   "execution_count": 3
  },
  {
   "metadata": {},
   "cell_type": "markdown",
   "source": "## Очистка данных на минималках",
   "id": "c0a91e42caf1778d"
  },
  {
   "metadata": {
    "ExecuteTime": {
     "end_time": "2024-10-07T14:52:56.676442Z",
     "start_time": "2024-10-07T14:52:56.182266Z"
    }
   },
   "cell_type": "code",
   "source": [
    "import csv\n",
    "\n",
    "\n",
    "def char_digit_split(s):\n",
    "    head = s.rstrip('0123456789')\n",
    "    tail = s[len(head):]\n",
    "    return head, tail\n",
    "\n",
    "\n",
    "def test(arr):\n",
    "    global users, unique, total_sales\n",
    "    user, time, act = arr\n",
    "    user = int(user.lstrip('userid='))\n",
    "    time = int(time)\n",
    "\n",
    "    if act.startswith('check') and (user, time) not in unique:\n",
    "        users.add(user)\n",
    "        unique.add((user, time))\n",
    "        total_sales += 1\n",
    "\n",
    "\n",
    "with open(\"user_activity_bad_log.tsv\", \"r\", encoding='utf-8') as f:\n",
    "    lines = f.readlines()\n",
    "    \n",
    "    users = set()\n",
    "    unique = set()\n",
    "    total_sales = 0\n",
    "    \n",
    "    for i, line in enumerate(lines):\n",
    "        line = line.strip()\n",
    "        length = len(line)\n",
    "\n",
    "        if 5 <= length <= 50:\n",
    "            test(line.split())\n",
    "                \n",
    "        elif length > 50:\n",
    "            # print(line, length)\n",
    "            tmp = []\n",
    "            for word in line.split():\n",
    "                if word.isdigit():\n",
    "                    tmp.append(word)\n",
    "                else:\n",
    "                    char, digit = char_digit_split(word)\n",
    "                    tmp.append(char)\n",
    "                    test(tmp)\n",
    "                    tmp = [digit]\n",
    "\n",
    "print(total_sales, len(users))  # 2505(2492)[+13] 434(443)[-9]\n",
    "print(round(total_sales / len(users), 5))"
   ],
   "id": "8835c9282ecd5bb0",
   "outputs": [
    {
     "name": "stdout",
     "output_type": "stream",
     "text": [
      "2638 457\n",
      "5.77243\n"
     ]
    }
   ],
   "execution_count": 4
  },
  {
   "metadata": {},
   "cell_type": "markdown",
   "source": "## Когортный анализ на минималках",
   "id": "f7f45f035d75345"
  },
  {
   "metadata": {
    "ExecuteTime": {
     "end_time": "2024-10-07T14:52:59.253586Z",
     "start_time": "2024-10-07T14:52:59.079846Z"
    }
   },
   "cell_type": "code",
   "source": [
    "import datetime\n",
    "\n",
    "cogort = {}\n",
    "users_registrate = {}\n",
    "\n",
    "with open(\"log2.tsv\", \"r\", encoding='utf-8') as f:  # userid - timestamp - action - value - testids\n",
    "    lines = f.readlines()\n",
    "    data = []\n",
    "    for i, line in enumerate(lines[1:]):\n",
    "        user_id, date_event, action, value, *_ = line.split()\n",
    "        date_event = date_event.split('T')[0]  # yyyy-mm-dd\n",
    "        value = float(value)\n",
    "        \n",
    "        # if i % 500 == 0:\n",
    "        #     print(user_id, date_log, action, value)\n",
    "\n",
    "        if user_id not in users_registrate:\n",
    "            user_date = datetime.date.fromisoformat(date_event)\n",
    "            # cogort_date = user_date.strftime(\"%Y-%M\")\n",
    "            cogort_date = date_event[:-3]\n",
    "            users_registrate[user_id] = (user_date, cogort_date)\n",
    "            if cogort_date not in cogort:\n",
    "                cogort[cogort_date] = [0, 0, 0, 0]\n",
    "            \n",
    "        if action == 'checkout':\n",
    "            date_1, cogort_date = users_registrate[user_id]\n",
    "            date_2 = datetime.date.fromisoformat(date_event)\n",
    "            \n",
    "            week = (date_2 - date_1).days // 7\n",
    "            if week < 4:\n",
    "                cogort[cogort_date][week] += value\n",
    "            \n",
    "# print(*cogort.items(), sep='\\n')\n",
    "# print(len(users_registrate))\n",
    "\n",
    "for cogort_date, value in cogort.items():\n",
    "    # value = [str(round(val / 1e6)) for val in list(value.values())[:4]]\n",
    "    value = [str(round(val / 1e6)) for val in value]\n",
    "    print('\\t'.join([cogort_date, '|', *value]))\n"
   ],
   "id": "716ac7e6b1d81f3e",
   "outputs": [
    {
     "name": "stdout",
     "output_type": "stream",
     "text": [
      "2022-02\t|\t72\t33\t25\t19\n",
      "2022-03\t|\t29\t16\t13\t13\n",
      "2022-04\t|\t23\t10\t10\t9\n",
      "2022-05\t|\t21\t8\t8\t7\n",
      "2022-06\t|\t16\t5\t5\t5\n",
      "2022-07\t|\t15\t2\t2\t0\n"
     ]
    }
   ],
   "execution_count": 5
  },
  {
   "metadata": {},
   "cell_type": "markdown",
   "source": "## Сессионизация на минималках",
   "id": "5b59bfef90dc54a2"
  },
  {
   "metadata": {
    "ExecuteTime": {
     "end_time": "2024-10-07T15:15:54.520442Z",
     "start_time": "2024-10-07T15:15:54.514231Z"
    }
   },
   "cell_type": "code",
   "source": [
    "import datetime\n",
    "import csv\n",
    "\n",
    "users_session = {}\n",
    "users_session_last_time = {}\n",
    "next_id = 1\n",
    "\n",
    "with open(\"log3.tsv\", \"r\", encoding='utf-8') as f:  \n",
    "    lines = f.readlines()\n",
    "    data = []\n",
    "    for i, line in enumerate(lines[1:]):\n",
    "        user_id, date_iso, action, value, *test_ids = line.split()\n",
    "        date_event = datetime.datetime.fromisoformat(date_iso)\n",
    "        \n",
    "        if user_id not in users_session:\n",
    "            users_session[user_id] = next_id\n",
    "            users_session_last_time[user_id] = date_event\n",
    "            next_id += 1\n",
    "        elif date_event - users_session_last_time[user_id] > datetime.timedelta(minutes=30):\n",
    "            users_session[user_id] = next_id\n",
    "            next_id += 1\n",
    "        \n",
    "        users_session_last_time[user_id] = date_event\n",
    "        data.append([user_id, date_iso, action, value, test_ids, users_session[user_id]])\n",
    "        \n",
    "        print(user_id, date_event, action, value, date_event)\n",
    "        print(date_event - users_session_last_time[user_id], datetime.timedelta(minutes=30),\n",
    "              date_event, users_session_last_time[user_id], sep='\\n')\n",
    "            \n",
    "# userid - timestamp - action - value - testids - (sessionid)\n",
    "with open(\"output.tsv\", \"w\", newline=\"\") as f:\n",
    "    w = csv.writer(f, delimiter='\\t',)\n",
    "    w.writerow(\"userid timestamp action value testids sessionid\".split())\n",
    "    w.writerows(data)\n"
   ],
   "id": "24242b76142a7c22",
   "outputs": [
    {
     "name": "stdout",
     "output_type": "stream",
     "text": [
      "user_1 2022-08-22 10:00:00 product 0 2022-08-22 10:00:00\n",
      "0:00:00\n",
      "0:30:00\n",
      "2022-08-22 10:00:00\n",
      "2022-08-22 10:00:00\n",
      "user_2 2022-08-22 10:04:00 mainpage 0 2022-08-22 10:04:00\n",
      "0:00:00\n",
      "0:30:00\n",
      "2022-08-22 10:04:00\n",
      "2022-08-22 10:04:00\n",
      "user_1 2022-08-22 10:07:00 category 0 2022-08-22 10:07:00\n",
      "0:00:00\n",
      "0:30:00\n",
      "2022-08-22 10:07:00\n",
      "2022-08-22 10:07:00\n",
      "user_2 2022-08-22 10:17:00 product 0 2022-08-22 10:17:00\n",
      "0:00:00\n",
      "0:30:00\n",
      "2022-08-22 10:17:00\n",
      "2022-08-22 10:17:00\n",
      "user_1 2022-08-22 10:23:00 cart 12370.0 2022-08-22 10:23:00\n",
      "0:00:00\n",
      "0:30:00\n",
      "2022-08-22 10:23:00\n",
      "2022-08-22 10:23:00\n",
      "user_2 2022-08-22 10:45:00 search 0 2022-08-22 10:45:00\n",
      "0:00:00\n",
      "0:30:00\n",
      "2022-08-22 10:45:00\n",
      "2022-08-22 10:45:00\n",
      "user_1 2022-08-22 10:53:00 checkout 12370.0 2022-08-22 10:53:00\n",
      "0:00:00\n",
      "0:30:00\n",
      "2022-08-22 10:53:00\n",
      "2022-08-22 10:53:00\n",
      "user_2 2022-08-22 12:10:00 product 0 2022-08-22 12:10:00\n",
      "0:00:00\n",
      "0:30:00\n",
      "2022-08-22 12:10:00\n",
      "2022-08-22 12:10:00\n",
      "user_1 2022-08-22 12:14:00 confirmation 12370.0 2022-08-22 12:14:00\n",
      "0:00:00\n",
      "0:30:00\n",
      "2022-08-22 12:14:00\n",
      "2022-08-22 12:14:00\n",
      "user_2 2022-08-22 12:27:00 category 0 2022-08-22 12:27:00\n",
      "0:00:00\n",
      "0:30:00\n",
      "2022-08-22 12:27:00\n",
      "2022-08-22 12:27:00\n"
     ]
    }
   ],
   "execution_count": 14
  },
  {
   "metadata": {},
   "cell_type": "markdown",
   "source": "## Пиковая нагрузка на минималках",
   "id": "416b7a254257eadc"
  },
  {
   "metadata": {
    "ExecuteTime": {
     "end_time": "2024-10-07T16:07:00.284097Z",
     "start_time": "2024-10-07T16:07:00.277227Z"
    }
   },
   "cell_type": "code",
   "source": [
    "import datetime\n",
    "\n",
    "sessions = []\n",
    "session_start_stop = {}\n",
    "count_online = {}\n",
    "\n",
    "with open('log4.tsv', 'r', encoding='utf-8') as f:  \n",
    "    lines = f.readlines()\n",
    "    data = []\n",
    "    for i, line in enumerate(lines[1:]):\n",
    "        user_id, date_iso, *_, session_id = line.split()\n",
    "        date_event = datetime.datetime.fromisoformat(date_iso)\n",
    "        # print(user_id, date_event, session_id, sep='\\t')\n",
    "\n",
    "        if session_id not in session_start_stop:\n",
    "            session_start_stop[session_id] = [date_event, None]\n",
    "        session_start_stop[session_id][-1] = date_event\n",
    "            \n",
    "for key in session_start_stop.keys():\n",
    "    session_start_stop[key][-1] += datetime.timedelta(minutes=30)\n",
    "    sessions.append((session_start_stop[key][0], 1))\n",
    "    sessions.append((session_start_stop[key][-1], -1))\n",
    "    \n",
    "sessions.sort(key=lambda x: (x[0], x[1]))\n",
    "\n",
    "current_count = 0\n",
    "for session in sessions:\n",
    "    current_count += session[1]\n",
    "    count_online[datetime.datetime.isoformat(session[0])] = current_count\n",
    "\n",
    "max_count = max(count_online.values())\n",
    "session_times = list(count_online.keys())\n",
    "for i, session_time in enumerate(session_times):\n",
    "    if count_online[session_time] == max_count:\n",
    "        print(session_time, session_times[i+1])\n",
    "        \n",
    "# print(*session_start_stop.items(), sep='\\n')\n",
    "# print(*sessions, sep='\\n')\n",
    "# print(*count_online.items(), sep='\\n')"
   ],
   "id": "79f82e8b47d37c2",
   "outputs": [
    {
     "name": "stdout",
     "output_type": "stream",
     "text": [
      "user_1\t2022-08-22 10:00:00\t1\n",
      "user_2\t2022-08-22 10:04:00\t3\n",
      "user_1\t2022-08-22 10:07:00\t1\n",
      "user_2\t2022-08-22 10:17:00\t3\n",
      "user_1\t2022-08-22 10:23:00\t1\n",
      "user_2\t2022-08-22 10:45:00\t3\n",
      "user_1\t2022-08-22 10:53:00\t1\n",
      "user_2\t2022-08-22 12:10:00\t4\n",
      "user_1\t2022-08-22 12:14:00\t2\n",
      "user_2\t2022-08-22 12:27:00\t4\n",
      "2022-08-22T10:04:00 2022-08-22T11:15:00\n",
      "2022-08-22T12:14:00 2022-08-22T12:44:00\n",
      "('1', [datetime.datetime(2022, 8, 22, 10, 0), datetime.datetime(2022, 8, 22, 11, 23)])\n",
      "('3', [datetime.datetime(2022, 8, 22, 10, 4), datetime.datetime(2022, 8, 22, 11, 15)])\n",
      "('4', [datetime.datetime(2022, 8, 22, 12, 10), datetime.datetime(2022, 8, 22, 12, 57)])\n",
      "('2', [datetime.datetime(2022, 8, 22, 12, 14), datetime.datetime(2022, 8, 22, 12, 44)])\n",
      "(datetime.datetime(2022, 8, 22, 10, 0), 1)\n",
      "(datetime.datetime(2022, 8, 22, 10, 4), 1)\n",
      "(datetime.datetime(2022, 8, 22, 11, 15), -1)\n",
      "(datetime.datetime(2022, 8, 22, 11, 23), -1)\n",
      "(datetime.datetime(2022, 8, 22, 12, 10), 1)\n",
      "(datetime.datetime(2022, 8, 22, 12, 14), 1)\n",
      "(datetime.datetime(2022, 8, 22, 12, 44), -1)\n",
      "(datetime.datetime(2022, 8, 22, 12, 57), -1)\n",
      "('2022-08-22T10:00:00', 1)\n",
      "('2022-08-22T10:04:00', 2)\n",
      "('2022-08-22T11:15:00', 1)\n",
      "('2022-08-22T11:23:00', 0)\n",
      "('2022-08-22T12:10:00', 1)\n",
      "('2022-08-22T12:14:00', 2)\n",
      "('2022-08-22T12:44:00', 1)\n",
      "('2022-08-22T12:57:00', 0)\n"
     ]
    }
   ],
   "execution_count": 27
  }
 ],
 "metadata": {
  "kernelspec": {
   "display_name": "Python 3",
   "language": "python",
   "name": "python3"
  },
  "language_info": {
   "codemirror_mode": {
    "name": "ipython",
    "version": 2
   },
   "file_extension": ".py",
   "mimetype": "text/x-python",
   "name": "python",
   "nbconvert_exporter": "python",
   "pygments_lexer": "ipython2",
   "version": "2.7.6"
  }
 },
 "nbformat": 4,
 "nbformat_minor": 5
}
