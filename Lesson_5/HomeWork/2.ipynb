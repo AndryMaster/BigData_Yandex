{
 "cells": [
  {
   "metadata": {},
   "cell_type": "markdown",
   "source": "## Метрики классификации",
   "id": "dd0f01a9ba57fe99"
  },
  {
   "cell_type": "code",
   "id": "initial_id",
   "metadata": {
    "collapsed": true,
    "ExecuteTime": {
     "end_time": "2024-10-31T14:58:49.908813Z",
     "start_time": "2024-10-31T14:58:48.686464Z"
    }
   },
   "source": [
    "import pandas as pd\n",
    "import numpy as np\n",
    "\n",
    "\n",
    "def process(fname):\n",
    "    df = pd.read_csv(fname)\n",
    "    df = df.astype({'target': int})\n",
    "    \n",
    "    for i in range(1, 10):\n",
    "        val = i / 10\n",
    "        df['pred'] = df['prediction'].apply(lambda x: 0 if x < val else 1)\n",
    "        \n",
    "        TP = df.loc[(df['target'] == 1) & (df['pred'] == 1)].shape[0]\n",
    "        FP = df.loc[(df['target'] == 0) & (df['pred'] == 1)].shape[0]\n",
    "        # TN = df.loc[(df['target'] == 0) & (df['pred'] == 0)].shape[0]\n",
    "        FN = df.loc[(df['target'] == 1) & (df['pred'] == 0)].shape[0]\n",
    "        \n",
    "        # print()\n",
    "        # print(start, end)\n",
    "        # print(TP, FP, TN, FN)\n",
    "        # print(df.head(10))\n",
    "        \n",
    "        if TP == 0:\n",
    "            precision = recall = f1 = 0.0\n",
    "        else:\n",
    "            precision = TP / (TP + FP)\n",
    "            recall = TP / (TP + FN)\n",
    "            f1 = 2*TP / (2*TP + FN + FP)\n",
    "        \n",
    "        print(round(precision, 4), round(recall, 4), round(f1, 4))\n",
    "\n",
    "\n",
    "if __name__ == '__main__':\n",
    "    process(input())\n",
    "    # 0.6616 0.9662 0.7854\n",
    "    # 0.7337 0.9423 0.825\n",
    "    # 0.7896 0.9231 0.8512\n",
    "    # 0.8287 0.8992 0.8625\n",
    "    # 0.8565 0.88 0.8681\n",
    "    # 0.8849 0.8514 0.8678\n",
    "    # 0.9099 0.8234 0.8645\n",
    "    # 0.9441 0.7879 0.859\n",
    "    # 0.9799 0.7378 0.8418\n",
    "    "
   ],
   "outputs": [
    {
     "name": "stdout",
     "output_type": "stream",
     "text": [
      "0.6616 0.9662 0.7854\n",
      "0.7337 0.9423 0.825\n",
      "0.7896 0.9231 0.8512\n",
      "0.8287 0.8992 0.8625\n",
      "0.8565 0.88 0.8681\n",
      "0.8849 0.8514 0.8678\n",
      "0.9099 0.8234 0.8645\n",
      "0.9441 0.7879 0.859\n",
      "0.9799 0.7378 0.8418\n"
     ]
    }
   ],
   "execution_count": 46
  },
  {
   "metadata": {
    "ExecuteTime": {
     "end_time": "2024-10-31T14:09:51.099933Z",
     "start_time": "2024-10-31T14:09:51.087969Z"
    }
   },
   "cell_type": "code",
   "source": [
    "df = pd.read_csv('classifier_prediction_1.csv')\n",
    "df['pred'] = np.round(df['prediction'])\n",
    "df.sort_values(by=['prediction'], ascending=True, inplace=True)\n",
    "df = df.astype({'target': int, 'pred': int})\n",
    "\n",
    "df.info()\n",
    "df.head(10)"
   ],
   "id": "820e389954295bb6",
   "outputs": [
    {
     "name": "stdout",
     "output_type": "stream",
     "text": [
      "<class 'pandas.core.frame.DataFrame'>\n",
      "Index: 5000 entries, 4230 to 1808\n",
      "Data columns (total 3 columns):\n",
      " #   Column      Non-Null Count  Dtype  \n",
      "---  ------      --------------  -----  \n",
      " 0   target      5000 non-null   int32  \n",
      " 1   prediction  5000 non-null   float64\n",
      " 2   pred        5000 non-null   int32  \n",
      "dtypes: float64(1), int32(2)\n",
      "memory usage: 117.2 KB\n"
     ]
    },
    {
     "data": {
      "text/plain": [
       "      target  prediction  pred\n",
       "4230       0    0.001750     0\n",
       "960        0    0.001831     0\n",
       "4206       0    0.002177     0\n",
       "4593       0    0.002408     0\n",
       "4380       0    0.002851     0\n",
       "2945       0    0.002874     0\n",
       "3336       0    0.002900     0\n",
       "2194       0    0.002915     0\n",
       "2259       0    0.002976     0\n",
       "1904       0    0.002979     0"
      ],
      "text/html": [
       "<div>\n",
       "<style scoped>\n",
       "    .dataframe tbody tr th:only-of-type {\n",
       "        vertical-align: middle;\n",
       "    }\n",
       "\n",
       "    .dataframe tbody tr th {\n",
       "        vertical-align: top;\n",
       "    }\n",
       "\n",
       "    .dataframe thead th {\n",
       "        text-align: right;\n",
       "    }\n",
       "</style>\n",
       "<table border=\"1\" class=\"dataframe\">\n",
       "  <thead>\n",
       "    <tr style=\"text-align: right;\">\n",
       "      <th></th>\n",
       "      <th>target</th>\n",
       "      <th>prediction</th>\n",
       "      <th>pred</th>\n",
       "    </tr>\n",
       "  </thead>\n",
       "  <tbody>\n",
       "    <tr>\n",
       "      <th>4230</th>\n",
       "      <td>0</td>\n",
       "      <td>0.001750</td>\n",
       "      <td>0</td>\n",
       "    </tr>\n",
       "    <tr>\n",
       "      <th>960</th>\n",
       "      <td>0</td>\n",
       "      <td>0.001831</td>\n",
       "      <td>0</td>\n",
       "    </tr>\n",
       "    <tr>\n",
       "      <th>4206</th>\n",
       "      <td>0</td>\n",
       "      <td>0.002177</td>\n",
       "      <td>0</td>\n",
       "    </tr>\n",
       "    <tr>\n",
       "      <th>4593</th>\n",
       "      <td>0</td>\n",
       "      <td>0.002408</td>\n",
       "      <td>0</td>\n",
       "    </tr>\n",
       "    <tr>\n",
       "      <th>4380</th>\n",
       "      <td>0</td>\n",
       "      <td>0.002851</td>\n",
       "      <td>0</td>\n",
       "    </tr>\n",
       "    <tr>\n",
       "      <th>2945</th>\n",
       "      <td>0</td>\n",
       "      <td>0.002874</td>\n",
       "      <td>0</td>\n",
       "    </tr>\n",
       "    <tr>\n",
       "      <th>3336</th>\n",
       "      <td>0</td>\n",
       "      <td>0.002900</td>\n",
       "      <td>0</td>\n",
       "    </tr>\n",
       "    <tr>\n",
       "      <th>2194</th>\n",
       "      <td>0</td>\n",
       "      <td>0.002915</td>\n",
       "      <td>0</td>\n",
       "    </tr>\n",
       "    <tr>\n",
       "      <th>2259</th>\n",
       "      <td>0</td>\n",
       "      <td>0.002976</td>\n",
       "      <td>0</td>\n",
       "    </tr>\n",
       "    <tr>\n",
       "      <th>1904</th>\n",
       "      <td>0</td>\n",
       "      <td>0.002979</td>\n",
       "      <td>0</td>\n",
       "    </tr>\n",
       "  </tbody>\n",
       "</table>\n",
       "</div>"
      ]
     },
     "execution_count": 29,
     "metadata": {},
     "output_type": "execute_result"
    }
   ],
   "execution_count": 29
  },
  {
   "metadata": {
    "ExecuteTime": {
     "end_time": "2024-10-31T14:46:49.537370Z",
     "start_time": "2024-10-31T14:46:49.529903Z"
    }
   },
   "cell_type": "code",
   "source": [
    "print(df.loc[df['target'] == 1].shape[0])\n",
    "print(df.loc[df['target'] == 0].shape[0])\n",
    "\n",
    "TP = df.loc[(df['target'] == 1) & (df['pred'] == 1)].shape[0]\n",
    "FP = df.loc[(df['target'] == 0) & (df['pred'] == 1)].shape[0]\n",
    "TN = df.loc[(df['target'] == 0) & (df['pred'] == 0)].shape[0]\n",
    "FN = df.loc[(df['target'] == 1) & (df['pred'] == 0)].shape[0]\n",
    "\n",
    "print(TP, FP, TN, FN)\n",
    "\n",
    "precision = TP / (TP + FP)\n",
    "recall = TP / (TP + FN)\n",
    "f1 = 2*TP / (2*TP + FN + FP)\n",
    "\n",
    "print(round(precision, 4), round(recall, 4), round(f1, 4))"
   ],
   "id": "d74fb2c2b508087a",
   "outputs": [
    {
     "name": "stdout",
     "output_type": "stream",
     "text": [
      "1716\n",
      "3284\n",
      "1510 253 3031 206\n",
      "0.8565 0.88 0.8681\n"
     ]
    }
   ],
   "execution_count": 37
  },
  {
   "metadata": {
    "ExecuteTime": {
     "end_time": "2024-10-31T14:52:19.105081Z",
     "start_time": "2024-10-31T14:52:19.016792Z"
    }
   },
   "cell_type": "code",
   "source": [
    "import matplotlib.pyplot as plt\n",
    "from sklearn import metrics\n",
    "\n",
    "\n",
    "fpr, tpr, thresholds = metrics.roc_curve(y_true=df.target, y_score=df.prediction)\n",
    "roc_auc = metrics.roc_auc_score(y_true=df.target, y_score=df.prediction)\n",
    "\n",
    "print(roc_auc)\n",
    "\n",
    "plt.figure(figsize=(10, 5))\n",
    "plt.plot(fpr, tpr)\n",
    "plt.title(\"ROC Curve\")\n",
    "plt.grid()\n",
    "plt.show()\n",
    "\n",
    "# print(fpr, tpr)\n",
    "print(len(fpr), len(tpr))\n",
    "length = len(fpr)\n",
    "\n",
    "for i in range(1, 10):\n",
    "    pos = round(length / 10 * i)\n",
    "    print(i, pos, tpr[pos], fpr[pos])"
   ],
   "id": "313b7c310a440e8c",
   "outputs": [
    {
     "name": "stdout",
     "output_type": "stream",
     "text": [
      "0.9670233086036983\n"
     ]
    },
    {
     "data": {
      "text/plain": [
       "<Figure size 1000x500 with 1 Axes>"
      ],
      "image/png": "[encoded data removed]"
     },
     "metadata": {},
     "output_type": "display_data"
    },
    {
     "name": "stdout",
     "output_type": "stream",
     "text": [
      "756 756\n",
      "1 76 0.754079254079254 0.010657734470158343\n",
      "2 151 0.796037296037296 0.02892813641900122\n",
      "3 227 0.8397435897435898 0.05115712545676005\n",
      "4 302 0.8764568764568764 0.07490864799025579\n",
      "5 378 0.9102564102564102 0.10475030450669914\n",
      "6 454 0.9358974358974359 0.16321559074299635\n",
      "7 529 0.9592074592074592 0.22838002436053592\n",
      "8 605 0.9836829836829837 0.40316686967113274\n",
      "9 680 0.9953379953379954 0.6306333739342266\n"
     ]
    }
   ],
   "execution_count": 42
  },
  {
   "metadata": {
    "ExecuteTime": {
     "end_time": "2024-10-31T14:13:56.128053Z",
     "start_time": "2024-10-31T14:13:56.111141Z"
    }
   },
   "cell_type": "code",
   "source": [
    "for i in range(9):\n",
    "    start, end = i / 10, (i + 1) / 10\n",
    "    sub_df = df.loc[(start <= df['prediction']) & (df['prediction'] <= end)]\n",
    "    \n",
    "    TP = sub_df.loc[(sub_df['target'] == 1) & (sub_df['pred'] == 1)].shape[0]\n",
    "    FP = sub_df.loc[(sub_df['target'] == 0) & (sub_df['pred'] == 1)].shape[0]\n",
    "    TN = sub_df.loc[(sub_df['target'] == 0) & (sub_df['pred'] == 0)].shape[0]\n",
    "    FN = sub_df.loc[(sub_df['target'] == 1) & (sub_df['pred'] == 0)].shape[0]\n",
    "    \n",
    "    # print(start, end)\n",
    "    # print(TP, FP, TN, FN)\n",
    "    \n",
    "    if TP == 0:\n",
    "        precision = recall = f1 = 0.0\n",
    "    else:\n",
    "        precision = TP / (TP + FP)\n",
    "        recall = TP / (TP + FN)\n",
    "        f1 = 2*TP / (2*TP + FN + FP)\n",
    "    \n",
    "    print(round(precision, 4), round(recall, 4), round(f1, 4))\n",
    "    # print(sub_df.head(10))"
   ],
   "id": "8a3a89d2640c8121",
   "outputs": [
    {
     "name": "stdout",
     "output_type": "stream",
     "text": [
      "0.0 0.1\n",
      "0 0 2436 58\n",
      "0.0 0.0 0.0\n",
      "0.1 0.2\n",
      "0 0 261 41\n",
      "0.0 0.0 0.0\n",
      "0.2 0.3\n",
      "0 0 165 33\n",
      "0.0 0.0 0.0\n",
      "0.3 0.4\n",
      "0 0 103 41\n",
      "0.0 0.0 0.0\n",
      "0.4 0.5\n",
      "0 0 66 33\n",
      "0.0 0.0 0.0\n",
      "0.5 0.6\n",
      "49 63 0 0\n",
      "0.4375 1.0 0.6087\n",
      "0.6 0.7\n",
      "48 50 0 0\n",
      "0.4898 1.0 0.6575\n",
      "0.7 0.8\n",
      "61 60 0 0\n",
      "0.5041 1.0 0.6703\n",
      "0.8 0.9\n",
      "86 54 0 0\n",
      "0.6143 1.0 0.7611\n"
     ]
    }
   ],
   "execution_count": 31
  }
 ],
 "metadata": {
  "kernelspec": {
   "display_name": "Python 3",
   "language": "python",
   "name": "python3"
  },
  "language_info": {
   "codemirror_mode": {
    "name": "ipython",
    "version": 2
   },
   "file_extension": ".py",
   "mimetype": "text/x-python",
   "name": "python",
   "nbconvert_exporter": "python",
   "pygments_lexer": "ipython2",
   "version": "2.7.6"
  }
 },
 "nbformat": 4,
 "nbformat_minor": 5
}
