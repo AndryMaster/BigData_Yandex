{
 "cells": [
  {
   "metadata": {},
   "cell_type": "markdown",
   "source": "## Качество прогноза",
   "id": "6e43d7646e7ddd23"
  },
  {
   "cell_type": "code",
   "id": "initial_id",
   "metadata": {
    "collapsed": true,
    "ExecuteTime": {
     "end_time": "2024-10-28T14:02:54.096130Z",
     "start_time": "2024-10-28T14:02:51.008965Z"
    }
   },
   "source": [
    "import matplotlib.pyplot as plt\n",
    "import pandas as pd\n",
    "import numpy as np\n",
    "\n",
    "from sklearn.neighbors import KNeighborsRegressor, NearestNeighbors\n",
    "\n",
    "pd.set_option('display.max_columns', None)\n",
    "\n",
    "\n",
    "def process(fname: str):\n",
    "    df = pd.read_csv(fname)\n",
    "    features = [col for col in df.columns if col not in ['ID', 'Value', 'is_test']]\n",
    "    \n",
    "    df_train = df[df['is_test'] == False].reset_index(drop=True)\n",
    "    df_test = df[df['is_test'] == True].reset_index(drop=True)\n",
    "    \n",
    "    res = []\n",
    "    for i in range(1, 16):\n",
    "        model = KNeighborsRegressor(n_neighbors=i)\n",
    "        model.fit(df_train[features], df_train['Value'])\n",
    "        df_test['knn_pred'] = model.predict(df_test[features])\n",
    "        \n",
    "        df_test['abs_diff'] = abs(df_test['knn_pred'] - df_test['Value'])\n",
    "        \n",
    "        MAE  = df_test['abs_diff'].mean()\n",
    "        res.append((i, MAE))\n",
    "        # print(f'Neighbours k={i}: MAE = {round(MAE)}')\n",
    "    \n",
    "    min_res = min(res, key=lambda x: x[1])\n",
    "    \n",
    "    return min_res[0], round(min_res[1])\n",
    "    \n",
    "\n",
    "if __name__ == '__main__':\n",
    "    print(*process(input()), sep='\\n')"
   ],
   "outputs": [
    {
     "name": "stdout",
     "output_type": "stream",
     "text": [
      "10\n",
      "1069018\n"
     ]
    }
   ],
   "execution_count": 6
  },
  {
   "metadata": {},
   "cell_type": "markdown",
   "source": "### Обзор датасета",
   "id": "2891a7e569847a33"
  },
  {
   "metadata": {
    "ExecuteTime": {
     "end_time": "2024-10-28T14:01:01.208381Z",
     "start_time": "2024-10-28T14:01:01.177441Z"
    }
   },
   "cell_type": "code",
   "source": [
    "df = pd.read_csv('football_players.csv')\n",
    "\n",
    "df.info()\n",
    "df.head()\n",
    "\n",
    "features = [col for col in df.columns if col not in ['ID', 'Value', 'is_test']]\n",
    "# print(features)"
   ],
   "id": "9301ae331765330c",
   "outputs": [
    {
     "name": "stdout",
     "output_type": "stream",
     "text": [
      "<class 'pandas.core.frame.DataFrame'>\n",
      "RangeIndex: 16334 entries, 0 to 16333\n",
      "Data columns (total 29 columns):\n",
      " #   Column           Non-Null Count  Dtype  \n",
      "---  ------           --------------  -----  \n",
      " 0   ID               16334 non-null  int64  \n",
      " 1   Crossing         16334 non-null  float64\n",
      " 2   Finishing        16334 non-null  float64\n",
      " 3   HeadingAccuracy  16334 non-null  float64\n",
      " 4   ShortPassing     16334 non-null  float64\n",
      " 5   Volleys          16334 non-null  float64\n",
      " 6   Dribbling        16334 non-null  float64\n",
      " 7   Curve            16334 non-null  float64\n",
      " 8   FKAccuracy       16334 non-null  float64\n",
      " 9   LongPassing      16334 non-null  float64\n",
      " 10  BallControl      16334 non-null  float64\n",
      " 11  Acceleration     16334 non-null  float64\n",
      " 12  SprintSpeed      16334 non-null  float64\n",
      " 13  Agility          16334 non-null  float64\n",
      " 14  Reactions        16334 non-null  float64\n",
      " 15  Balance          16334 non-null  float64\n",
      " 16  ShotPower        16334 non-null  float64\n",
      " 17  Jumping          16334 non-null  float64\n",
      " 18  Stamina          16334 non-null  float64\n",
      " 19  Strength         16334 non-null  float64\n",
      " 20  LongShots        16334 non-null  float64\n",
      " 21  Aggression       16334 non-null  float64\n",
      " 22  Interceptions    16334 non-null  float64\n",
      " 23  Positioning      16334 non-null  float64\n",
      " 24  Vision           16334 non-null  float64\n",
      " 25  Penalties        16334 non-null  float64\n",
      " 26  Composure        16334 non-null  float64\n",
      " 27  Value            16334 non-null  float64\n",
      " 28  is_test          16334 non-null  int64  \n",
      "dtypes: float64(27), int64(2)\n",
      "memory usage: 3.6 MB\n"
     ]
    }
   ],
   "execution_count": 2
  },
  {
   "metadata": {
    "ExecuteTime": {
     "end_time": "2024-10-28T14:01:03.041600Z",
     "start_time": "2024-10-28T14:01:03.033390Z"
    }
   },
   "cell_type": "code",
   "source": "df['Value'].describe()",
   "id": "92b145cf4c1b1332",
   "outputs": [
    {
     "data": {
      "text/plain": [
       "count    1.633400e+04\n",
       "mean     2.826067e+06\n",
       "std      5.961518e+06\n",
       "min      2.000000e+03\n",
       "25%      3.500000e+05\n",
       "50%      8.250000e+05\n",
       "75%      2.800000e+06\n",
       "max      1.055000e+08\n",
       "Name: Value, dtype: float64"
      ]
     },
     "execution_count": 3,
     "metadata": {},
     "output_type": "execute_result"
    }
   ],
   "execution_count": 3
  },
  {
   "metadata": {
    "ExecuteTime": {
     "end_time": "2024-10-28T14:01:04.988258Z",
     "start_time": "2024-10-28T14:01:04.981137Z"
    }
   },
   "cell_type": "code",
   "source": [
    "df_train = df[df['is_test'] == False].reset_index(drop=True)\n",
    "df_test = df[df['is_test'] == True].reset_index(drop=True)\n",
    "\n",
    "print(len(df_train), len(df_test))\n",
    "print(df_train.Value.mean(), df_test.Value.mean())"
   ],
   "id": "10b7c595f453df80",
   "outputs": [
    {
     "name": "stdout",
     "output_type": "stream",
     "text": [
      "8239 8095\n",
      "2889778.856657361 2761222.359481161\n"
     ]
    }
   ],
   "execution_count": 4
  },
  {
   "metadata": {},
   "cell_type": "markdown",
   "source": "### KNN - ближайший сосед",
   "id": "3fcc7b953ac253fa"
  },
  {
   "metadata": {
    "ExecuteTime": {
     "end_time": "2024-10-28T13:42:04.149645Z",
     "start_time": "2024-10-28T13:42:04.082107Z"
    }
   },
   "cell_type": "code",
   "source": [
    "model = KNeighborsRegressor(n_neighbors=3)\n",
    "model.fit(df_train[features], df_train['Value'])\n",
    "df_test['knn_pred'] = model.predict(df_test[features])"
   ],
   "id": "3d1cfb3c825baebd",
   "outputs": [],
   "execution_count": 32
  },
  {
   "metadata": {},
   "cell_type": "markdown",
   "source": "### Ошибки (MAE, RMSE, MAPE)",
   "id": "aa429eb515be1dc7"
  },
  {
   "metadata": {
    "ExecuteTime": {
     "end_time": "2024-10-28T13:46:12.629175Z",
     "start_time": "2024-10-28T13:46:12.624397Z"
    }
   },
   "cell_type": "code",
   "source": [
    "df_test['abs_diff'] = abs(df_test['knn_pred'] - df_test['Value'])\n",
    "# df_test.sort_values(by='abs_diff', ascending=True).head()\n",
    "# df_test.sort_values(by='abs_diff', ascending=False).head()\n",
    "\n",
    "df_test['abs_diff_square'] = df_test['abs_diff'] ** 2\n",
    "df_test['abs_diff_ratio'] = df_test['abs_diff'] / df_test['Value']\n",
    "\n",
    "MAE  = df_test['abs_diff'].mean()\n",
    "RMSE = df_test['abs_diff_square'].mean() ** 0.5\n",
    "MAPE = df_test['abs_diff_ratio'].mean() * 100"
   ],
   "id": "c711d199434ef8e0",
   "outputs": [],
   "execution_count": 36
  },
  {
   "metadata": {
    "ExecuteTime": {
     "end_time": "2024-10-28T13:46:13.463356Z",
     "start_time": "2024-10-28T13:46:13.460744Z"
    }
   },
   "cell_type": "code",
   "source": "print(f'MAE: {MAE}\\nRMSE: {RMSE}\\nMAPE: {MAPE}')",
   "id": "36591ef17b678517",
   "outputs": [
    {
     "name": "stdout",
     "output_type": "stream",
     "text": [
      "MAE: 1131514.7210212064\n",
      "RMSE: 2915966.1648091855\n",
      "MAPE: 66.6218307859033\n"
     ]
    }
   ],
   "execution_count": 37
  },
  {
   "metadata": {},
   "cell_type": "markdown",
   "source": "### Лучший k для KNN (1-15)",
   "id": "26c21881f53c3592"
  },
  {
   "metadata": {
    "ExecuteTime": {
     "end_time": "2024-10-28T14:01:48.825758Z",
     "start_time": "2024-10-28T14:01:47.496496Z"
    }
   },
   "cell_type": "code",
   "source": [
    "res = []\n",
    "for i in range(1, 16):\n",
    "    model = KNeighborsRegressor(n_neighbors=i)\n",
    "    model.fit(df_train[features], df_train['Value'])\n",
    "    df_test['knn_pred'] = model.predict(df_test[features])\n",
    "    \n",
    "    df_test['abs_diff'] = abs(df_test['knn_pred'] - df_test['Value'])\n",
    "    \n",
    "    MAE  = df_test['abs_diff'].mean()\n",
    "    res.append((i, MAE))\n",
    "    print(f'Neighbours k={i}: MAE = {round(MAE)}')\n",
    "\n",
    "min_res = min(res, key=lambda x: x[1])\n",
    "print(min_res[0], round(min_res[1]))"
   ],
   "id": "778b9bcdaf12169d",
   "outputs": [
    {
     "name": "stdout",
     "output_type": "stream",
     "text": [
      "Neighbours k=1: MAE = 1375377\n",
      "Neighbours k=2: MAE = 1200376\n",
      "Neighbours k=3: MAE = 1131515\n",
      "Neighbours k=4: MAE = 1112153\n",
      "Neighbours k=5: MAE = 1101601\n",
      "Neighbours k=6: MAE = 1084404\n",
      "Neighbours k=7: MAE = 1078181\n",
      "Neighbours k=8: MAE = 1076711\n",
      "Neighbours k=9: MAE = 1071628\n",
      "Neighbours k=10: MAE = 1069018\n",
      "Neighbours k=11: MAE = 1076316\n",
      "Neighbours k=12: MAE = 1074985\n",
      "Neighbours k=13: MAE = 1073339\n",
      "Neighbours k=14: MAE = 1077912\n",
      "Neighbours k=15: MAE = 1079703\n",
      "10 1069018\n"
     ]
    }
   ],
   "execution_count": 5
  }
 ],
 "metadata": {
  "kernelspec": {
   "display_name": "Python 3",
   "language": "python",
   "name": "python3"
  },
  "language_info": {
   "codemirror_mode": {
    "name": "ipython",
    "version": 2
   },
   "file_extension": ".py",
   "mimetype": "text/x-python",
   "name": "python",
   "nbconvert_exporter": "python",
   "pygments_lexer": "ipython2",
   "version": "2.7.6"
  }
 },
 "nbformat": 4,
 "nbformat_minor": 5
}
