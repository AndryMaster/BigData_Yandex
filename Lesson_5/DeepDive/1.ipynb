{
 "cells": [
  {
   "metadata": {},
   "cell_type": "markdown",
   "source": "## Качество прогноза",
   "id": "6e43d7646e7ddd23"
  },
  {
   "cell_type": "code",
   "id": "initial_id",
   "metadata": {
    "collapsed": true,
    "ExecuteTime": {
     "end_time": "2024-10-28T13:49:34.971243Z",
     "start_time": "2024-10-28T13:49:33.340302Z"
    }
   },
   "source": [
    "import matplotlib.pyplot as plt\n",
    "import pandas as pd\n",
    "import numpy as np\n",
    "\n",
    "from sklearn.neighbors import KNeighborsRegressor, NearestNeighbors\n",
    "\n",
    "pd.set_option('display.max_columns', None)\n",
    "\n",
    "\n",
    "def process(fname: str):\n",
    "    df = pd.read_csv(fname)\n",
    "    features = [col for col in df.columns if col not in ['ID', 'Value', 'is_test']]\n",
    "    \n",
    "    df_train = df[df['is_test'] == False].reset_index(drop=True)\n",
    "    df_test = df[df['is_test'] == True].reset_index(drop=True)\n",
    "    \n",
    "    model = KNeighborsRegressor(n_neighbors=3)\n",
    "    model.fit(df_train[features], df_train['Value'])\n",
    "    df_test['knn_pred'] = model.predict(df_test[features])\n",
    "    \n",
    "    df_test['abs_diff'] = abs(df_test['knn_pred'] - df_test['Value'])\n",
    "    df_test['abs_diff_square'] = df_test['abs_diff'] ** 2\n",
    "    df_test['abs_diff_ratio'] = df_test['abs_diff'] / df_test['Value']\n",
    "    \n",
    "    MAE  = df_test['abs_diff'].mean()\n",
    "    RMSE = df_test['abs_diff_square'].mean() ** 0.5\n",
    "    MAPE = df_test['abs_diff_ratio'].mean() * 100\n",
    "    \n",
    "    return round(MAE), round(RMSE), round(MAPE)\n",
    "    \n",
    "\n",
    "if __name__ == '__main__':\n",
    "    print(*process(input()), sep='\\n')"
   ],
   "outputs": [
    {
     "name": "stdout",
     "output_type": "stream",
     "text": [
      "1131515\n",
      "2915966\n",
      "67\n"
     ]
    }
   ],
   "execution_count": 41
  },
  {
   "metadata": {},
   "cell_type": "markdown",
   "source": "### Обзор датасета",
   "id": "2891a7e569847a33"
  },
  {
   "metadata": {
    "ExecuteTime": {
     "end_time": "2024-10-28T13:22:48.610331Z",
     "start_time": "2024-10-28T13:22:48.577896Z"
    }
   },
   "cell_type": "code",
   "source": [
    "df = pd.read_csv('football_players.csv')\n",
    "\n",
    "df.info()\n",
    "df.head()\n",
    "\n",
    "features = [col for col in df.columns if col not in ['ID', 'Value', 'is_test']]\n",
    "# print(features)"
   ],
   "id": "9301ae331765330c",
   "outputs": [
    {
     "name": "stdout",
     "output_type": "stream",
     "text": [
      "<class 'pandas.core.frame.DataFrame'>\n",
      "RangeIndex: 16334 entries, 0 to 16333\n",
      "Data columns (total 29 columns):\n",
      " #   Column           Non-Null Count  Dtype  \n",
      "---  ------           --------------  -----  \n",
      " 0   ID               16334 non-null  int64  \n",
      " 1   Crossing         16334 non-null  float64\n",
      " 2   Finishing        16334 non-null  float64\n",
      " 3   HeadingAccuracy  16334 non-null  float64\n",
      " 4   ShortPassing     16334 non-null  float64\n",
      " 5   Volleys          16334 non-null  float64\n",
      " 6   Dribbling        16334 non-null  float64\n",
      " 7   Curve            16334 non-null  float64\n",
      " 8   FKAccuracy       16334 non-null  float64\n",
      " 9   LongPassing      16334 non-null  float64\n",
      " 10  BallControl      16334 non-null  float64\n",
      " 11  Acceleration     16334 non-null  float64\n",
      " 12  SprintSpeed      16334 non-null  float64\n",
      " 13  Agility          16334 non-null  float64\n",
      " 14  Reactions        16334 non-null  float64\n",
      " 15  Balance          16334 non-null  float64\n",
      " 16  ShotPower        16334 non-null  float64\n",
      " 17  Jumping          16334 non-null  float64\n",
      " 18  Stamina          16334 non-null  float64\n",
      " 19  Strength         16334 non-null  float64\n",
      " 20  LongShots        16334 non-null  float64\n",
      " 21  Aggression       16334 non-null  float64\n",
      " 22  Interceptions    16334 non-null  float64\n",
      " 23  Positioning      16334 non-null  float64\n",
      " 24  Vision           16334 non-null  float64\n",
      " 25  Penalties        16334 non-null  float64\n",
      " 26  Composure        16334 non-null  float64\n",
      " 27  Value            16334 non-null  float64\n",
      " 28  is_test          16334 non-null  int64  \n",
      "dtypes: float64(27), int64(2)\n",
      "memory usage: 3.6 MB\n"
     ]
    }
   ],
   "execution_count": 11
  },
  {
   "metadata": {
    "ExecuteTime": {
     "end_time": "2024-10-28T13:24:00.488512Z",
     "start_time": "2024-10-28T13:24:00.481622Z"
    }
   },
   "cell_type": "code",
   "source": "df['Value'].describe()",
   "id": "92b145cf4c1b1332",
   "outputs": [
    {
     "data": {
      "text/plain": [
       "count    1.633400e+04\n",
       "mean     2.826067e+06\n",
       "std      5.961518e+06\n",
       "min      2.000000e+03\n",
       "25%      3.500000e+05\n",
       "50%      8.250000e+05\n",
       "75%      2.800000e+06\n",
       "max      1.055000e+08\n",
       "Name: Value, dtype: float64"
      ]
     },
     "execution_count": 12,
     "metadata": {},
     "output_type": "execute_result"
    }
   ],
   "execution_count": 12
  },
  {
   "metadata": {
    "ExecuteTime": {
     "end_time": "2024-10-28T13:27:07.503502Z",
     "start_time": "2024-10-28T13:27:07.497105Z"
    }
   },
   "cell_type": "code",
   "source": [
    "df_train = df[df['is_test'] == False].reset_index(drop=True)\n",
    "df_test = df[df['is_test'] == True].reset_index(drop=True)\n",
    "\n",
    "print(len(df_train), len(df_test))\n",
    "print(df_train.Value.mean(), df_test.Value.mean())"
   ],
   "id": "10b7c595f453df80",
   "outputs": [
    {
     "name": "stdout",
     "output_type": "stream",
     "text": [
      "8239 8095\n",
      "2889778.856657361 2761222.359481161\n"
     ]
    }
   ],
   "execution_count": 13
  },
  {
   "metadata": {},
   "cell_type": "markdown",
   "source": "### Кто сосед",
   "id": "a3ddca172daadd56"
  },
  {
   "metadata": {
    "ExecuteTime": {
     "end_time": "2024-10-28T13:38:47.015608Z",
     "start_time": "2024-10-28T13:38:47.010580Z"
    }
   },
   "cell_type": "code",
   "source": [
    "neigh = NearestNeighbors(n_neighbors=3)\n",
    "_ = neigh.fit(df_train[features])"
   ],
   "id": "ae722caa1b0e5b16",
   "outputs": [],
   "execution_count": 17
  },
  {
   "metadata": {
    "ExecuteTime": {
     "end_time": "2024-10-28T13:41:56.276145Z",
     "start_time": "2024-10-28T13:41:56.269641Z"
    }
   },
   "cell_type": "code",
   "source": [
    "ind = 88\n",
    "neigh.kneighbors([df_test[features].values[ind]], return_distance=True)"
   ],
   "id": "82da051a42544ebb",
   "outputs": [
    {
     "name": "stderr",
     "output_type": "stream",
     "text": [
      "C:\\Users\\rusan\\AppData\\Roaming\\Python\\Python311\\site-packages\\sklearn\\base.py:493: UserWarning: X does not have valid feature names, but NearestNeighbors was fitted with feature names\n",
      "  warnings.warn(\n"
     ]
    },
    {
     "data": {
      "text/plain": [
       "(array([[37.02701716, 41.06093034, 42.14261501]]),\n",
       " array([[549, 497, 232]], dtype=int64))"
      ]
     },
     "execution_count": 29,
     "metadata": {},
     "output_type": "execute_result"
    }
   ],
   "execution_count": 29
  },
  {
   "metadata": {
    "ExecuteTime": {
     "end_time": "2024-10-28T13:41:59.329529Z",
     "start_time": "2024-10-28T13:41:59.312824Z"
    }
   },
   "cell_type": "code",
   "source": "df_train[df_train.index.isin([549, 497, 232])]",
   "id": "a9a86e1fd654e706",
   "outputs": [
    {
     "data": {
      "text/plain": [
       "         ID  Crossing  Finishing  HeadingAccuracy  ShortPassing  Volleys  \\\n",
       "232  164240      60.0       40.0             81.0          80.0     61.0   \n",
       "497  212218      58.0       45.0             86.0          81.0     40.0   \n",
       "549  184344      44.0       48.0             84.0          77.0     58.0   \n",
       "\n",
       "     Dribbling  Curve  FKAccuracy  LongPassing  BallControl  Acceleration  \\\n",
       "232       67.0   62.0        61.0         80.0         80.0          60.0   \n",
       "497       63.0   61.0        69.0         80.0         77.0          61.0   \n",
       "549       69.0   56.0        61.0         85.0         75.0          60.0   \n",
       "\n",
       "     SprintSpeed  Agility  Reactions  Balance  ShotPower  Jumping  Stamina  \\\n",
       "232         64.0     67.0       82.0     67.0       71.0     90.0     71.0   \n",
       "497         66.0     59.0       87.0     60.0       68.0     76.0     76.0   \n",
       "549         64.0     61.0       84.0     55.0       74.0     85.0     68.0   \n",
       "\n",
       "     Strength  LongShots  Aggression  Interceptions  Positioning  Vision  \\\n",
       "232      81.0       65.0        76.0           90.0         59.0    70.0   \n",
       "497      85.0       47.0        79.0           87.0         54.0    65.0   \n",
       "549      79.0       65.0        82.0           90.0         38.0    74.0   \n",
       "\n",
       "     Penalties  Composure       Value  is_test  \n",
       "232       60.0       86.0  18500000.0        0  \n",
       "497       44.0       85.0  56500000.0        0  \n",
       "549       70.0       86.0  28500000.0        0  "
      ],
      "text/html": [
       "<div>\n",
       "<style scoped>\n",
       "    .dataframe tbody tr th:only-of-type {\n",
       "        vertical-align: middle;\n",
       "    }\n",
       "\n",
       "    .dataframe tbody tr th {\n",
       "        vertical-align: top;\n",
       "    }\n",
       "\n",
       "    .dataframe thead th {\n",
       "        text-align: right;\n",
       "    }\n",
       "</style>\n",
       "<table border=\"1\" class=\"dataframe\">\n",
       "  <thead>\n",
       "    <tr style=\"text-align: right;\">\n",
       "      <th></th>\n",
       "      <th>ID</th>\n",
       "      <th>Crossing</th>\n",
       "      <th>Finishing</th>\n",
       "      <th>HeadingAccuracy</th>\n",
       "      <th>ShortPassing</th>\n",
       "      <th>Volleys</th>\n",
       "      <th>Dribbling</th>\n",
       "      <th>Curve</th>\n",
       "      <th>FKAccuracy</th>\n",
       "      <th>LongPassing</th>\n",
       "      <th>BallControl</th>\n",
       "      <th>Acceleration</th>\n",
       "      <th>SprintSpeed</th>\n",
       "      <th>Agility</th>\n",
       "      <th>Reactions</th>\n",
       "      <th>Balance</th>\n",
       "      <th>ShotPower</th>\n",
       "      <th>Jumping</th>\n",
       "      <th>Stamina</th>\n",
       "      <th>Strength</th>\n",
       "      <th>LongShots</th>\n",
       "      <th>Aggression</th>\n",
       "      <th>Interceptions</th>\n",
       "      <th>Positioning</th>\n",
       "      <th>Vision</th>\n",
       "      <th>Penalties</th>\n",
       "      <th>Composure</th>\n",
       "      <th>Value</th>\n",
       "      <th>is_test</th>\n",
       "    </tr>\n",
       "  </thead>\n",
       "  <tbody>\n",
       "    <tr>\n",
       "      <th>232</th>\n",
       "      <td>164240</td>\n",
       "      <td>60.0</td>\n",
       "      <td>40.0</td>\n",
       "      <td>81.0</td>\n",
       "      <td>80.0</td>\n",
       "      <td>61.0</td>\n",
       "      <td>67.0</td>\n",
       "      <td>62.0</td>\n",
       "      <td>61.0</td>\n",
       "      <td>80.0</td>\n",
       "      <td>80.0</td>\n",
       "      <td>60.0</td>\n",
       "      <td>64.0</td>\n",
       "      <td>67.0</td>\n",
       "      <td>82.0</td>\n",
       "      <td>67.0</td>\n",
       "      <td>71.0</td>\n",
       "      <td>90.0</td>\n",
       "      <td>71.0</td>\n",
       "      <td>81.0</td>\n",
       "      <td>65.0</td>\n",
       "      <td>76.0</td>\n",
       "      <td>90.0</td>\n",
       "      <td>59.0</td>\n",
       "      <td>70.0</td>\n",
       "      <td>60.0</td>\n",
       "      <td>86.0</td>\n",
       "      <td>18500000.0</td>\n",
       "      <td>0</td>\n",
       "    </tr>\n",
       "    <tr>\n",
       "      <th>497</th>\n",
       "      <td>212218</td>\n",
       "      <td>58.0</td>\n",
       "      <td>45.0</td>\n",
       "      <td>86.0</td>\n",
       "      <td>81.0</td>\n",
       "      <td>40.0</td>\n",
       "      <td>63.0</td>\n",
       "      <td>61.0</td>\n",
       "      <td>69.0</td>\n",
       "      <td>80.0</td>\n",
       "      <td>77.0</td>\n",
       "      <td>61.0</td>\n",
       "      <td>66.0</td>\n",
       "      <td>59.0</td>\n",
       "      <td>87.0</td>\n",
       "      <td>60.0</td>\n",
       "      <td>68.0</td>\n",
       "      <td>76.0</td>\n",
       "      <td>76.0</td>\n",
       "      <td>85.0</td>\n",
       "      <td>47.0</td>\n",
       "      <td>79.0</td>\n",
       "      <td>87.0</td>\n",
       "      <td>54.0</td>\n",
       "      <td>65.0</td>\n",
       "      <td>44.0</td>\n",
       "      <td>85.0</td>\n",
       "      <td>56500000.0</td>\n",
       "      <td>0</td>\n",
       "    </tr>\n",
       "    <tr>\n",
       "      <th>549</th>\n",
       "      <td>184344</td>\n",
       "      <td>44.0</td>\n",
       "      <td>48.0</td>\n",
       "      <td>84.0</td>\n",
       "      <td>77.0</td>\n",
       "      <td>58.0</td>\n",
       "      <td>69.0</td>\n",
       "      <td>56.0</td>\n",
       "      <td>61.0</td>\n",
       "      <td>85.0</td>\n",
       "      <td>75.0</td>\n",
       "      <td>60.0</td>\n",
       "      <td>64.0</td>\n",
       "      <td>61.0</td>\n",
       "      <td>84.0</td>\n",
       "      <td>55.0</td>\n",
       "      <td>74.0</td>\n",
       "      <td>85.0</td>\n",
       "      <td>68.0</td>\n",
       "      <td>79.0</td>\n",
       "      <td>65.0</td>\n",
       "      <td>82.0</td>\n",
       "      <td>90.0</td>\n",
       "      <td>38.0</td>\n",
       "      <td>74.0</td>\n",
       "      <td>70.0</td>\n",
       "      <td>86.0</td>\n",
       "      <td>28500000.0</td>\n",
       "      <td>0</td>\n",
       "    </tr>\n",
       "  </tbody>\n",
       "</table>\n",
       "</div>"
      ]
     },
     "execution_count": 30,
     "metadata": {},
     "output_type": "execute_result"
    }
   ],
   "execution_count": 30
  },
  {
   "metadata": {
    "ExecuteTime": {
     "end_time": "2024-10-28T13:42:00.498903Z",
     "start_time": "2024-10-28T13:42:00.486035Z"
    }
   },
   "cell_type": "code",
   "source": "df_test[df_test.index == ind]",
   "id": "c92914c6ce37f610",
   "outputs": [
    {
     "data": {
      "text/plain": [
       "        ID  Crossing  Finishing  HeadingAccuracy  ShortPassing  Volleys  \\\n",
       "88  203376      53.0       52.0             87.0          79.0     45.0   \n",
       "\n",
       "    Dribbling  Curve  FKAccuracy  LongPassing  BallControl  Acceleration  \\\n",
       "88       70.0   60.0        70.0         83.0         77.0          74.0   \n",
       "\n",
       "    SprintSpeed  Agility  Reactions  Balance  ShotPower  Jumping  Stamina  \\\n",
       "88         79.0     61.0       89.0     53.0       81.0     90.0     75.0   \n",
       "\n",
       "    Strength  LongShots  Aggression  Interceptions  Positioning  Vision  \\\n",
       "88      92.0       64.0        83.0           90.0         47.0    65.0   \n",
       "\n",
       "    Penalties  Composure       Value  is_test  \n",
       "88       62.0       90.0  90000000.0        1  "
      ],
      "text/html": [
       "<div>\n",
       "<style scoped>\n",
       "    .dataframe tbody tr th:only-of-type {\n",
       "        vertical-align: middle;\n",
       "    }\n",
       "\n",
       "    .dataframe tbody tr th {\n",
       "        vertical-align: top;\n",
       "    }\n",
       "\n",
       "    .dataframe thead th {\n",
       "        text-align: right;\n",
       "    }\n",
       "</style>\n",
       "<table border=\"1\" class=\"dataframe\">\n",
       "  <thead>\n",
       "    <tr style=\"text-align: right;\">\n",
       "      <th></th>\n",
       "      <th>ID</th>\n",
       "      <th>Crossing</th>\n",
       "      <th>Finishing</th>\n",
       "      <th>HeadingAccuracy</th>\n",
       "      <th>ShortPassing</th>\n",
       "      <th>Volleys</th>\n",
       "      <th>Dribbling</th>\n",
       "      <th>Curve</th>\n",
       "      <th>FKAccuracy</th>\n",
       "      <th>LongPassing</th>\n",
       "      <th>BallControl</th>\n",
       "      <th>Acceleration</th>\n",
       "      <th>SprintSpeed</th>\n",
       "      <th>Agility</th>\n",
       "      <th>Reactions</th>\n",
       "      <th>Balance</th>\n",
       "      <th>ShotPower</th>\n",
       "      <th>Jumping</th>\n",
       "      <th>Stamina</th>\n",
       "      <th>Strength</th>\n",
       "      <th>LongShots</th>\n",
       "      <th>Aggression</th>\n",
       "      <th>Interceptions</th>\n",
       "      <th>Positioning</th>\n",
       "      <th>Vision</th>\n",
       "      <th>Penalties</th>\n",
       "      <th>Composure</th>\n",
       "      <th>Value</th>\n",
       "      <th>is_test</th>\n",
       "    </tr>\n",
       "  </thead>\n",
       "  <tbody>\n",
       "    <tr>\n",
       "      <th>88</th>\n",
       "      <td>203376</td>\n",
       "      <td>53.0</td>\n",
       "      <td>52.0</td>\n",
       "      <td>87.0</td>\n",
       "      <td>79.0</td>\n",
       "      <td>45.0</td>\n",
       "      <td>70.0</td>\n",
       "      <td>60.0</td>\n",
       "      <td>70.0</td>\n",
       "      <td>83.0</td>\n",
       "      <td>77.0</td>\n",
       "      <td>74.0</td>\n",
       "      <td>79.0</td>\n",
       "      <td>61.0</td>\n",
       "      <td>89.0</td>\n",
       "      <td>53.0</td>\n",
       "      <td>81.0</td>\n",
       "      <td>90.0</td>\n",
       "      <td>75.0</td>\n",
       "      <td>92.0</td>\n",
       "      <td>64.0</td>\n",
       "      <td>83.0</td>\n",
       "      <td>90.0</td>\n",
       "      <td>47.0</td>\n",
       "      <td>65.0</td>\n",
       "      <td>62.0</td>\n",
       "      <td>90.0</td>\n",
       "      <td>90000000.0</td>\n",
       "      <td>1</td>\n",
       "    </tr>\n",
       "  </tbody>\n",
       "</table>\n",
       "</div>"
      ]
     },
     "execution_count": 31,
     "metadata": {},
     "output_type": "execute_result"
    }
   ],
   "execution_count": 31
  },
  {
   "metadata": {},
   "cell_type": "markdown",
   "source": "### KNN - ближайший сосед",
   "id": "3fcc7b953ac253fa"
  },
  {
   "metadata": {
    "ExecuteTime": {
     "end_time": "2024-10-28T13:42:04.149645Z",
     "start_time": "2024-10-28T13:42:04.082107Z"
    }
   },
   "cell_type": "code",
   "source": [
    "model = KNeighborsRegressor(n_neighbors=3)\n",
    "model.fit(df_train[features], df_train['Value'])\n",
    "df_test['knn_pred'] = model.predict(df_test[features])"
   ],
   "id": "3d1cfb3c825baebd",
   "outputs": [],
   "execution_count": 32
  },
  {
   "metadata": {},
   "cell_type": "markdown",
   "source": "### Ошибки (MAE, RMSE, MAPE)",
   "id": "aa429eb515be1dc7"
  },
  {
   "metadata": {
    "ExecuteTime": {
     "end_time": "2024-10-28T13:46:12.629175Z",
     "start_time": "2024-10-28T13:46:12.624397Z"
    }
   },
   "cell_type": "code",
   "source": [
    "df_test['abs_diff'] = abs(df_test['knn_pred'] - df_test['Value'])\n",
    "# df_test.sort_values(by='abs_diff', ascending=True).head()\n",
    "# df_test.sort_values(by='abs_diff', ascending=False).head()\n",
    "\n",
    "df_test['abs_diff_square'] = df_test['abs_diff'] ** 2\n",
    "df_test['abs_diff_ratio'] = df_test['abs_diff'] / df_test['Value']\n",
    "\n",
    "MAE  = df_test['abs_diff'].mean()\n",
    "RMSE = df_test['abs_diff_square'].mean() ** 0.5\n",
    "MAPE = df_test['abs_diff_ratio'].mean() * 100"
   ],
   "id": "c711d199434ef8e0",
   "outputs": [],
   "execution_count": 36
  },
  {
   "metadata": {
    "ExecuteTime": {
     "end_time": "2024-10-28T13:46:13.463356Z",
     "start_time": "2024-10-28T13:46:13.460744Z"
    }
   },
   "cell_type": "code",
   "source": "print(f'MAE: {MAE}\\nRMSE: {RMSE}\\nMAPE: {MAPE}')",
   "id": "36591ef17b678517",
   "outputs": [
    {
     "name": "stdout",
     "output_type": "stream",
     "text": [
      "MAE: 1131514.7210212064\n",
      "RMSE: 2915966.1648091855\n",
      "MAPE: 66.6218307859033\n"
     ]
    }
   ],
   "execution_count": 37
  },
  {
   "metadata": {},
   "cell_type": "markdown",
   "source": "### Лучший вариант для k",
   "id": "26c21881f53c3592"
  },
  {
   "metadata": {},
   "cell_type": "code",
   "outputs": [],
   "execution_count": null,
   "source": "",
   "id": "778b9bcdaf12169d"
  }
 ],
 "metadata": {
  "kernelspec": {
   "display_name": "Python 3",
   "language": "python",
   "name": "python3"
  },
  "language_info": {
   "codemirror_mode": {
    "name": "ipython",
    "version": 2
   },
   "file_extension": ".py",
   "mimetype": "text/x-python",
   "name": "python",
   "nbconvert_exporter": "python",
   "pygments_lexer": "ipython2",
   "version": "2.7.6"
  }
 },
 "nbformat": 4,
 "nbformat_minor": 5
}
