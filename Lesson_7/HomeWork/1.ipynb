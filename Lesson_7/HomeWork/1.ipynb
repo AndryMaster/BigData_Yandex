{
 "cells": [
  {
   "metadata": {},
   "cell_type": "markdown",
   "source": [
    "## Задание 1\n",
    "На основе датасета plan_fact.csv требуется создать DataLens дашборд, сохранить его и в качестве ответа выдать ссылку на него.\n",
    "\n",
    "(Ссылка)[https://datalens.yandex/7njpbgu7jgqku]"
   ],
   "id": "9e7e67fb10f8d6a3"
  },
  {
   "metadata": {},
   "cell_type": "code",
   "outputs": [],
   "execution_count": null,
   "source": "# https://datalens.yandex/7njpbgu7jgqku",
   "id": "d26ae46bf6037b92"
  }
 ],
 "metadata": {
  "kernelspec": {
   "display_name": "Python 3",
   "language": "python",
   "name": "python3"
  },
  "language_info": {
   "codemirror_mode": {
    "name": "ipython",
    "version": 2
   },
   "file_extension": ".py",
   "mimetype": "text/x-python",
   "name": "python",
   "nbconvert_exporter": "python",
   "pygments_lexer": "ipython2",
   "version": "2.7.6"
  }
 },
 "nbformat": 4,
 "nbformat_minor": 5
}
