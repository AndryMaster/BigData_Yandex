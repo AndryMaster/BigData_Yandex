{
 "cells": [
  {
   "metadata": {},
   "cell_type": "markdown",
   "source": "## Lib for Map-Reduce",
   "id": "37650c788db431ed"
  },
  {
   "cell_type": "code",
   "id": "initial_id",
   "metadata": {
    "collapsed": true,
    "ExecuteTime": {
     "end_time": "2024-10-08T10:53:20.555567Z",
     "start_time": "2024-10-08T10:53:20.549998Z"
    }
   },
   "source": [
    "from typing import Iterable, Callable, Any\n",
    "from itertools import groupby\n",
    "\n",
    "\n",
    "def flatten(inp: Iterable[Iterable[Any]]) -> Iterable[Any]:\n",
    "    for it in inp:\n",
    "        for item in it:\n",
    "            yield item\n",
    "\n",
    "\n",
    "def run_map(mapper: Callable[[Any], Iterable[Any]], input_stream: Iterable[Any]):\n",
    "    return flatten(map(mapper, input_stream))\n",
    "\n",
    "\n",
    "def run_reduce(reducer: Callable[[Iterable[Any]], Any],\n",
    "               input_stream: Iterable[Any],\n",
    "               key: [str]) -> Iterable[Any]:\n",
    "    def key_func(item):\n",
    "        return tuple(getattr(item, k) for k in key)\n",
    "    \n",
    "    sorted_stream = sorted(input_stream, key=key_func)\n",
    "    grouped_stream = groupby(sorted_stream, key=key_func)\n",
    "    return flatten(map(lambda x: reducer(x[1]), grouped_stream))\n",
    "\n",
    "\n",
    "class SimpleMapReduce:\n",
    "    def __init__(self, stream):\n",
    "        self._stream = stream\n",
    "\n",
    "    def map(self, mapper):\n",
    "        self._stream = run_map(mapper, self._stream)\n",
    "        return self\n",
    "\n",
    "    def reduce(self, reducer, key):\n",
    "        self._stream = run_reduce(reducer, self._stream, key)\n",
    "        return self\n",
    "\n",
    "    def output(self):\n",
    "        return self._stream"
   ],
   "outputs": [],
   "execution_count": 5
  },
  {
   "metadata": {},
   "cell_type": "markdown",
   "source": "## DAU поиска с MapReduce на коленке",
   "id": "37a4a6adf29fc172"
  },
  {
   "metadata": {
    "ExecuteTime": {
     "end_time": "2024-10-08T11:25:58.177639Z",
     "start_time": "2024-10-08T11:25:58.170153Z"
    }
   },
   "cell_type": "code",
   "source": [
    "from typing import Iterable, Callable, Any\n",
    "from dataclasses import dataclass\n",
    "import datetime\n",
    "\n",
    "from simplemr import SimpleMapReduce\n",
    "\n",
    "\n",
    "@dataclass\n",
    "class UserEvent:\n",
    "    user_id: str\n",
    "    moment: datetime.datetime\n",
    "    action: str\n",
    "    value: float\n",
    "\n",
    "@dataclass\n",
    "class UserDate:\n",
    "    user_id: str\n",
    "    date: datetime.date\n",
    "\n",
    "@dataclass\n",
    "class DateDAU:\n",
    "    date: datetime.date\n",
    "    dau: int\n",
    "\n",
    "\n",
    "def parse_user_event(line: str) -> DateDAU:\n",
    "    row = line.strip().split('\\t')\n",
    "    if row[0] != 'userid':\n",
    "        yield UserEvent(\n",
    "            user_id=row[0],\n",
    "            moment=datetime.datetime.fromisoformat(row[1]),\n",
    "            action=row[2],\n",
    "            value=float(row[3]),\n",
    "        )\n",
    "        \n",
    "def filter_user_event(event: UserEvent) -> Iterable[Any]:\n",
    "    if getattr(event, 'action', None) == 'search':\n",
    "        yield event\n",
    "        \n",
    "def user_event_to_user_date(event: UserEvent) -> Iterable[UserDate]:\n",
    "    yield UserDate(\n",
    "        user_id=event.user_id,\n",
    "        date=event.moment.date(),\n",
    "    )\n",
    "    \n",
    "def passive_sort_by_key(inp: Iterable[UserDate]) -> Iterable[UserDate]:\n",
    "    for ud in inp:\n",
    "        yield ud\n",
    "        break\n",
    "        \n",
    "def count_users_by_date(inp: Iterable[UserDate]) -> Iterable[DateDAU]:\n",
    "    count = 0\n",
    "    date = None\n",
    "    for ud in inp:\n",
    "        date = ud.date\n",
    "        count += 1\n",
    "    assert date is not None\n",
    "    \n",
    "    yield DateDAU(date=date, dau=count)\n",
    "\n",
    "\n",
    "def process(mrjob: SimpleMapReduce) -> SimpleMapReduce:\n",
    "     return mrjob.map(parse_user_event) \\\n",
    "         .map(filter_user_event) \\\n",
    "         .map(user_event_to_user_date) \\\n",
    "         .reduce(passive_sort_by_key, ['user_id', 'date']) \\\n",
    "         .reduce(count_users_by_date, ['date'])"
   ],
   "id": "5242b2d8db13952",
   "outputs": [],
   "execution_count": 26
  },
  {
   "metadata": {},
   "cell_type": "markdown",
   "source": "## Testing",
   "id": "bb1c7e9c2c75634b"
  },
  {
   "metadata": {
    "ExecuteTime": {
     "end_time": "2024-10-08T11:26:00.165878Z",
     "start_time": "2024-10-08T11:26:00.161373Z"
    }
   },
   "cell_type": "code",
   "source": [
    "with open(\"log.tsv\", \"r\") as input_stream:\n",
    "    mrjob = process(SimpleMapReduce(input_stream))\n",
    "    for item in mrjob.output():\n",
    "        print(item)"
   ],
   "id": "b95367c4cfa481e3",
   "outputs": [
    {
     "name": "stdout",
     "output_type": "stream",
     "text": [
      "DateDAU(date=datetime.date(2022, 8, 22), dau=2)\n",
      "DateDAU(date=datetime.date(2022, 8, 25), dau=1)\n",
      "DateDAU(date=datetime.date(2022, 9, 5), dau=1)\n"
     ]
    }
   ],
   "execution_count": 27
  }
 ],
 "metadata": {
  "kernelspec": {
   "display_name": "Python 3",
   "language": "python",
   "name": "python3"
  },
  "language_info": {
   "codemirror_mode": {
    "name": "ipython",
    "version": 2
   },
   "file_extension": ".py",
   "mimetype": "text/x-python",
   "name": "python",
   "nbconvert_exporter": "python",
   "pygments_lexer": "ipython2",
   "version": "2.7.6"
  }
 },
 "nbformat": 4,
 "nbformat_minor": 5
}
