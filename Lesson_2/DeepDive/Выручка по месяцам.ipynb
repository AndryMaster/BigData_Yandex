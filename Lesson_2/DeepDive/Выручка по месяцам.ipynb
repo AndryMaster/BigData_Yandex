{
 "cells": [
  {
   "metadata": {},
   "cell_type": "markdown",
   "source": "## Выручка по месяцам с MapReduce на коленке",
   "id": "9356c9d2fd3d800b"
  },
  {
   "cell_type": "code",
   "id": "initial_id",
   "metadata": {
    "collapsed": true,
    "ExecuteTime": {
     "end_time": "2024-10-08T11:47:43.052905Z",
     "start_time": "2024-10-08T11:47:43.045973Z"
    }
   },
   "source": [
    "from typing import Iterable, Callable, Any\n",
    "from dataclasses import dataclass\n",
    "import datetime\n",
    "\n",
    "from simplemr import SimpleMapReduce\n",
    "\n",
    "\n",
    "@dataclass\n",
    "class UserEvent:\n",
    "    userid: str\n",
    "    moment: datetime.datetime\n",
    "    action: str\n",
    "    value: float\n",
    "\n",
    "@dataclass\n",
    "class UserMonthCheck:\n",
    "    month: str\n",
    "    value: float\n",
    "\n",
    "@dataclass\n",
    "class MonthSale:\n",
    "    month: datetime.date\n",
    "    value: float\n",
    "\n",
    "\n",
    "def parse_user_event(line: str) -> UserEvent:\n",
    "    row = line.strip().split('\\t')\n",
    "    if row[0] != 'userid':\n",
    "        yield UserEvent(\n",
    "            userid=row[0],\n",
    "            moment=datetime.datetime.fromisoformat(row[1]),\n",
    "            action=row[2],\n",
    "            value=float(row[3]),\n",
    "        )\n",
    "        \n",
    "def filter_user_checkout(event: UserEvent) -> Iterable[UserEvent]:\n",
    "    if getattr(event, 'action', None) == 'checkout':\n",
    "        yield event\n",
    "        \n",
    "def user_event_to_user_date_check(event: UserEvent) -> Iterable[UserMonthCheck]:\n",
    "    yield UserMonthCheck(\n",
    "        month=event.moment.date().strftime('%Y-%m'),\n",
    "        value=event.value,\n",
    "    )\n",
    "        \n",
    "def user_date_check_to_month_sale(inp: Iterable[UserMonthCheck]) -> Iterable[MonthSale]:\n",
    "    value = 0\n",
    "    month = None\n",
    "    for user in inp:\n",
    "        month = user.month\n",
    "        value += user.value\n",
    "    assert month is not None\n",
    "\n",
    "    yield MonthSale(month=month, value=value)\n",
    "\n",
    "\n",
    "def process(mrjob: SimpleMapReduce) -> SimpleMapReduce:\n",
    "     return mrjob.map(parse_user_event) \\\n",
    "         .map(filter_user_checkout) \\\n",
    "         .map(user_event_to_user_date_check) \\\n",
    "         .reduce(user_date_check_to_month_sale, ['month'])"
   ],
   "outputs": [],
   "execution_count": 12
  },
  {
   "metadata": {},
   "cell_type": "markdown",
   "source": "## Testing",
   "id": "98ca000c0bc97f14"
  },
  {
   "metadata": {
    "ExecuteTime": {
     "end_time": "2024-10-08T11:47:44.556860Z",
     "start_time": "2024-10-08T11:47:44.552888Z"
    }
   },
   "cell_type": "code",
   "source": [
    "with open(\"log.tsv\", \"r\") as input_stream:\n",
    "    mrjob = process(SimpleMapReduce(input_stream))\n",
    "    for item in mrjob.output():\n",
    "        print(item)"
   ],
   "id": "21b0f264274ebd0b",
   "outputs": [
    {
     "name": "stdout",
     "output_type": "stream",
     "text": [
      "MonthSale(month='2022-08', value=24740.0)\n",
      "MonthSale(month='2022-09', value=20000.0)\n"
     ]
    }
   ],
   "execution_count": 13
  }
 ],
 "metadata": {
  "kernelspec": {
   "display_name": "Python 3",
   "language": "python",
   "name": "python3"
  },
  "language_info": {
   "codemirror_mode": {
    "name": "ipython",
    "version": 2
   },
   "file_extension": ".py",
   "mimetype": "text/x-python",
   "name": "python",
   "nbconvert_exporter": "python",
   "pygments_lexer": "ipython2",
   "version": "2.7.6"
  }
 },
 "nbformat": 4,
 "nbformat_minor": 5
}
