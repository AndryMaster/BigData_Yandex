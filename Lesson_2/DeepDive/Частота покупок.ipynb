{
 "cells": [
  {
   "metadata": {},
   "cell_type": "markdown",
   "source": "## Частота покупок с MapReduce на коленке",
   "id": "60fd6ef66d38fd18"
  },
  {
   "cell_type": "code",
   "id": "initial_id",
   "metadata": {
    "collapsed": true,
    "ExecuteTime": {
     "end_time": "2024-10-08T11:34:57.249899Z",
     "start_time": "2024-10-08T11:34:57.234220Z"
    }
   },
   "source": [
    "from typing import Iterable, Callable, Any\n",
    "from dataclasses import dataclass\n",
    "import datetime\n",
    "\n",
    "from simplemr import SimpleMapReduce\n",
    "\n",
    "\n",
    "@dataclass\n",
    "class UserEvent:\n",
    "    userid: str\n",
    "    moment: datetime.datetime\n",
    "    action: str\n",
    "    value: float\n",
    "\n",
    "@dataclass\n",
    "class UserID:\n",
    "    userid: str\n",
    "\n",
    "@dataclass\n",
    "class UserFrequency:\n",
    "    userid: str\n",
    "    frequency: int\n",
    "\n",
    "\n",
    "def parse_user_event(line: str) -> UserEvent:\n",
    "    row = line.strip().split('\\t')\n",
    "    if row[0] != 'userid':\n",
    "        yield UserEvent(\n",
    "            userid=row[0],\n",
    "            moment=datetime.datetime.fromisoformat(row[1]),\n",
    "            action=row[2],\n",
    "            value=float(row[3]),\n",
    "        )\n",
    "        \n",
    "def filter_user_checkout(event: UserEvent) -> Iterable[UserEvent]:\n",
    "    if getattr(event, 'action', None) == 'checkout':\n",
    "        yield event\n",
    "        \n",
    "def user_event_to_userid(event: UserEvent) -> Iterable[UserID]:\n",
    "    yield UserID(\n",
    "        userid=event.userid,\n",
    "    )\n",
    "        \n",
    "def count_user_checkouts(inp: Iterable[UserID]) -> Iterable[UserFrequency]:\n",
    "    count = 0\n",
    "    userid = None\n",
    "    for user in inp:\n",
    "        userid = user.userid\n",
    "        count += 1\n",
    "    \n",
    "    yield UserFrequency(userid=userid, frequency=count)\n",
    "\n",
    "\n",
    "def process(mrjob: SimpleMapReduce) -> SimpleMapReduce:\n",
    "     return mrjob.map(parse_user_event) \\\n",
    "         .map(filter_user_checkout) \\\n",
    "         .map(user_event_to_userid) \\\n",
    "         .reduce(count_user_checkouts, ['userid'])"
   ],
   "outputs": [],
   "execution_count": 1
  },
  {
   "metadata": {},
   "cell_type": "markdown",
   "source": "## Testing",
   "id": "b9fa714f39c4232f"
  },
  {
   "metadata": {
    "ExecuteTime": {
     "end_time": "2024-10-08T11:34:57.458576Z",
     "start_time": "2024-10-08T11:34:57.454718Z"
    }
   },
   "cell_type": "code",
   "source": [
    "with open(\"log.tsv\", \"r\") as input_stream:\n",
    "    mrjob = process(SimpleMapReduce(input_stream))\n",
    "    for item in mrjob.output():\n",
    "        print(item)"
   ],
   "id": "ee5048fa0975d2d3",
   "outputs": [
    {
     "name": "stdout",
     "output_type": "stream",
     "text": [
      "UserFrequency(userid='user_1', frequency=1)\n",
      "UserFrequency(userid='user_3', frequency=1)\n"
     ]
    }
   ],
   "execution_count": 2
  }
 ],
 "metadata": {
  "kernelspec": {
   "display_name": "Python 3",
   "language": "python",
   "name": "python3"
  },
  "language_info": {
   "codemirror_mode": {
    "name": "ipython",
    "version": 2
   },
   "file_extension": ".py",
   "mimetype": "text/x-python",
   "name": "python",
   "nbconvert_exporter": "python",
   "pygments_lexer": "ipython2",
   "version": "2.7.6"
  }
 },
 "nbformat": 4,
 "nbformat_minor": 5
}
