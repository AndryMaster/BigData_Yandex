{
 "cells": [
  {
   "metadata": {},
   "cell_type": "markdown",
   "source": "## Lib for Map-Reduce",
   "id": "37650c788db431ed"
  },
  {
   "cell_type": "code",
   "id": "initial_id",
   "metadata": {
    "collapsed": true,
    "ExecuteTime": {
     "end_time": "2024-10-08T10:30:50.993365Z",
     "start_time": "2024-10-08T10:30:50.987751Z"
    }
   },
   "source": [
    "# from typing import Iterable, Callable\n",
    "from itertools import groupby\n",
    "from collections.abc import Iterable, Callable\n",
    "\n",
    "\n",
    "def flatten[T](inp: Iterable[Iterable[T]]) -> Iterable[T]:\n",
    "    for it in inp:\n",
    "        for item in it:\n",
    "            yield item\n",
    "\n",
    "\n",
    "def run_map[T, U](mapper: Callable[T, Iterable[U]], input_stream: Iterable[T]):\n",
    "    return flatten(map(mapper, input_stream))\n",
    "\n",
    "\n",
    "def run_reduce[T, U](reducer: Callable[Iterable[T], U],\n",
    "                     input_stream: Iterable[T], \n",
    "                     key: [str]) -> Iterable[U]:\n",
    "    def key_func(item):\n",
    "        return tuple(getattr(item, k) for k in key)\n",
    "    \n",
    "    sorted_stream = sorted(input_stream, key=key_func)\n",
    "    grouped_stream = groupby(sorted_stream, key=key_func)\n",
    "    return flatten(map(lambda x: reducer(x[1]), grouped_stream))\n",
    "\n",
    "\n",
    "class SimpleMapReduce:\n",
    "    def __init__(self, stream):\n",
    "        self._stream = stream\n",
    "\n",
    "    def map(self, mapper):\n",
    "        self._stream = run_map(mapper, self._stream)\n",
    "        return self\n",
    "\n",
    "    def reduce(self, reducer, key):\n",
    "        self._stream = run_reduce(reducer, self._stream, key)\n",
    "        return self\n",
    "\n",
    "    def output(self):\n",
    "        return self._stream"
   ],
   "outputs": [
    {
     "ename": "SyntaxError",
     "evalue": "expected '(' (1646027934.py, line 5)",
     "output_type": "error",
     "traceback": [
      "\u001B[1;36m  Cell \u001B[1;32mIn[3], line 5\u001B[1;36m\u001B[0m\n\u001B[1;33m    def flatten[T](inp: Iterable[Iterable[T]]) -> Iterable[T]:\u001B[0m\n\u001B[1;37m               ^\u001B[0m\n\u001B[1;31mSyntaxError\u001B[0m\u001B[1;31m:\u001B[0m expected '('\n"
     ]
    }
   ],
   "execution_count": 3
  },
  {
   "metadata": {},
   "cell_type": "code",
   "outputs": [],
   "execution_count": null,
   "source": [
    "from dataclasses import dataclass\n",
    "import datetime"
   ],
   "id": "dfebebe40fb5e7dc"
  },
  {
   "metadata": {},
   "cell_type": "markdown",
   "source": "## DAU поиска с MapReduce на коленке",
   "id": "37a4a6adf29fc172"
  },
  {
   "metadata": {
    "ExecuteTime": {
     "end_time": "2024-10-08T10:30:43.999076Z",
     "start_time": "2024-10-08T10:30:43.746033Z"
    }
   },
   "cell_type": "code",
   "source": [
    "@dataclass\n",
    "class UserEvent:\n",
    "    user_id: str\n",
    "    moment: datetime.datetime\n",
    "    action: str\n",
    "    value: float\n",
    "\n",
    "@dataclass\n",
    "class UserDate:\n",
    "    user_id: str\n",
    "    date: datetime.date\n",
    "\n",
    "@dataclass\n",
    "class DateDAU:\n",
    "    date: datetime.date\n",
    "    dau: int\n",
    "\n",
    "def parse_user_event(line: str) -> DateDAU:\n",
    "    row = line.strip().split('\\t')\n",
    "    if row[0] != 'userid':\n",
    "        yield UserEvent(\n",
    "            user_id=row[0],\n",
    "            moment=datetime.datetime.fromisoformat(row[1]),\n",
    "            action=row[2],\n",
    "            value=float(row[3]),\n",
    "        )\n",
    "        \n",
    "def user_event_to_user_date(event: UserEvent) -> Iterable[UserDate]:\n",
    "    yield UserDate(\n",
    "        user_id=event.user_id,\n",
    "        date=event.moment.date(),\n",
    "    )\n",
    "    \n",
    "def passive_sort_by_key(inp: Iterable[UserDate]) -> Iterable[UserDate]:\n",
    "    for ud in inp:\n",
    "        yield ud\n",
    "        break\n",
    "        \n",
    "def count_users_by_date(inp: Iterable[UserDate]) -> Iterable[DateDAU]:\n",
    "    count = 0\n",
    "    date = None\n",
    "    for ud in inp:\n",
    "        date = ud.date\n",
    "        count += 1\n",
    "    assert date is not None\n",
    "    \n",
    "    yield DateDAU(date=date, dau=count)\n",
    "\n",
    "\n",
    "def process(mrjob: SimpleMapReduce) -> SimpleMapReduce:\n",
    "     return mrjob.map(parse_user_event)"
   ],
   "id": "5242b2d8db13952",
   "outputs": [
    {
     "ename": "NameError",
     "evalue": "name 'dataclass' is not defined",
     "output_type": "error",
     "traceback": [
      "\u001B[1;31m---------------------------------------------------------------------------\u001B[0m",
      "\u001B[1;31mNameError\u001B[0m                                 Traceback (most recent call last)",
      "Cell \u001B[1;32mIn[1], line 1\u001B[0m\n\u001B[1;32m----> 1\u001B[0m \u001B[38;5;129m@dataclass\u001B[39m\n\u001B[0;32m      2\u001B[0m \u001B[38;5;28;01mclass\u001B[39;00m \u001B[38;5;21;01mUserEvent\u001B[39;00m:\n\u001B[0;32m      3\u001B[0m     user_id: \u001B[38;5;28mstr\u001B[39m\n\u001B[0;32m      4\u001B[0m     moment: datetime\u001B[38;5;241m.\u001B[39mdatetime\n",
      "\u001B[1;31mNameError\u001B[0m: name 'dataclass' is not defined"
     ]
    }
   ],
   "execution_count": 1
  },
  {
   "metadata": {},
   "cell_type": "code",
   "outputs": [],
   "execution_count": null,
   "source": "print()",
   "id": "1d81b7865e5f99b1"
  },
  {
   "metadata": {},
   "cell_type": "markdown",
   "source": "## Testing",
   "id": "bb1c7e9c2c75634b"
  },
  {
   "metadata": {},
   "cell_type": "code",
   "outputs": [],
   "execution_count": null,
   "source": [
    "with open(\"log.tsv\", \"r\") as input_stream:\n",
    "    mrjob = process(SimpleMapReduce(input_stream))\n",
    "    for item in mrjob.output():\n",
    "        print(item.month, item.dau)"
   ],
   "id": "b95367c4cfa481e3"
  }
 ],
 "metadata": {
  "kernelspec": {
   "display_name": "Python 3",
   "language": "python",
   "name": "python3"
  },
  "language_info": {
   "codemirror_mode": {
    "name": "ipython",
    "version": 2
   },
   "file_extension": ".py",
   "mimetype": "text/x-python",
   "name": "python",
   "nbconvert_exporter": "python",
   "pygments_lexer": "ipython2",
   "version": "2.7.6"
  }
 },
 "nbformat": 4,
 "nbformat_minor": 5
}
