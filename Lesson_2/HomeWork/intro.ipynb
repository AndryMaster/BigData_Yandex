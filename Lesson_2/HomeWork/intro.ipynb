{
 "cells": [
  {
   "metadata": {},
   "cell_type": "markdown",
   "source": [
    "# Внимание\n",
    "\n",
    "Работа над `.py` скриптами велась в **_Visual Studio Code (SSH)_**\n",
    "поэтому работа была затруднена + в файлах могут находиться \n",
    "не актуальные решения"
   ],
   "id": "e13760cf03540f29"
  },
  {
   "cell_type": "code",
   "id": "initial_id",
   "metadata": {
    "collapsed": true,
    "ExecuteTime": {
     "end_time": "2024-10-15T14:53:04.250570Z",
     "start_time": "2024-10-15T14:53:04.243212Z"
    }
   },
   "source": [
    "import os\n",
    "\n",
    "print(os.environ)"
   ],
   "outputs": [
    {
     "name": "stdout",
     "output_type": "stream",
     "text": [
      "environ({'ALEXANDRIA_PORT_APP': '3000', 'ALEXANDRIA_PORT_LOOKUP': '3001', 'ALEXANDRIA_PORT_VIEWER': '3002', 'ALLUSERSPROFILE': 'C:\\\\ProgramData', 'AMDRMPATH': 'C:\\\\Program Files\\\\AMD\\\\RyzenMaster\\\\', 'APPCODE_VM_OPTIONS': 'C:\\\\Programs\\\\Activation\\\\ja-netfilter-all\\\\vmoptions\\\\appcode.vmoptions', 'APPDATA': 'C:\\\\Users\\\\rusan\\\\AppData\\\\Roaming', 'CLION': 'C:\\\\Program Files\\\\JetBrains\\\\CLion 2023.1\\\\bin;', 'CLION_VM_OPTIONS': 'C:\\\\Programs\\\\Activation\\\\ja-netfilter-all\\\\vmoptions\\\\clion.vmoptions', 'COMMONPROGRAMFILES': 'C:\\\\Program Files\\\\Common Files', 'COMMONPROGRAMFILES(X86)': 'C:\\\\Program Files (x86)\\\\Common Files', 'COMMONPROGRAMW6432': 'C:\\\\Program Files\\\\Common Files', 'COMPUTERNAME': 'KIDS', 'COMSPEC': 'C:\\\\Windows\\\\system32\\\\cmd.exe', 'CONDA_DEFAULT_ENV': 'YaBigData', 'CONDA_PREFIX': 'C:\\\\Programs\\\\Anaconda3\\\\envs\\\\YaBigData', 'CONDA_PROMPT_MODIFIER': '(YaBigData) ', 'CONDA_SHLVL': '1', 'CUDA_PATH': 'C:\\\\Program Files\\\\NVIDIA GPU Computing Toolkit\\\\CUDA\\\\v11.4', 'CUDA_PATH_V11_4': 'C:\\\\Program Files\\\\NVIDIA GPU Computing Toolkit\\\\CUDA\\\\v11.4', 'DATAGRIP_VM_OPTIONS': 'C:\\\\Programs\\\\Activation\\\\ja-netfilter-all\\\\vmoptions\\\\datagrip.vmoptions', 'DATASPELL_VM_OPTIONS': 'C:\\\\Programs\\\\Activation\\\\ja-netfilter-all\\\\vmoptions\\\\dataspell.vmoptions', 'DEVECOSTUDIO_VM_OPTIONS': 'C:\\\\Programs\\\\Activation\\\\ja-netfilter-all\\\\vmoptions\\\\devecostudio.vmoptions', 'DRIVERDATA': 'C:\\\\Windows\\\\System32\\\\Drivers\\\\DriverData', 'EFC_10612': '1', 'GATEWAY_VM_OPTIONS': 'C:\\\\Programs\\\\Activation\\\\ja-netfilter-all\\\\vmoptions\\\\gateway.vmoptions', 'GOLAND_VM_OPTIONS': 'C:\\\\Programs\\\\Activation\\\\ja-netfilter-all\\\\vmoptions\\\\goland.vmoptions', 'HOMEDRIVE': 'C:', 'HOMEPATH': '\\\\Users\\\\rusan', 'IDEA_INITIAL_DIRECTORY': 'C:\\\\Program Files\\\\JetBrains\\\\PyCharm 2023.1\\\\bin', 'IDEA_VM_OPTIONS': 'C:\\\\Programs\\\\Activation\\\\ja-netfilter-all\\\\vmoptions\\\\idea.vmoptions', 'INTEL_DEV_REDIST': 'C:\\\\Program Files (x86)\\\\Common Files\\\\Intel\\\\Shared Libraries\\\\', 'IPY_INTERRUPT_EVENT': '4612', 'JETBRAINS RIDER': 'C:\\\\Program Files\\\\JetBrains\\\\JetBrains Rider 2023.1\\\\bin;', 'JETBRAINSCLIENT_VM_OPTIONS': 'C:\\\\Programs\\\\Activation\\\\ja-netfilter-all\\\\vmoptions\\\\jetbrainsclient.vmoptions', 'JETBRAINS_CLIENT_VM_OPTIONS': 'C:\\\\Programs\\\\Activation\\\\ja-netfilter-all\\\\vmoptions\\\\jetbrains_client.vmoptions', 'JPY_INTERRUPT_EVENT': '4612', 'JPY_PARENT_PID': '4604', 'JPY_SESSION_NAME': 'Lesson_2/HomeWork/intro.ipynb', 'KMP_DUPLICATE_LIB_OK': 'True', 'KMP_INIT_AT_FORK': 'FALSE', 'LANG': 'en_US.UTF-8', 'LANGUAGE': '', 'LC_ALL': 'en_US.UTF-8', 'LOCALAPPDATA': 'C:\\\\Users\\\\rusan\\\\AppData\\\\Local', 'LOGONSERVER': '\\\\\\\\KIDS', 'MIC_LD_LIBRARY_PATH': 'C:\\\\Program Files (x86)\\\\Common Files\\\\Intel\\\\Shared Libraries\\\\compiler\\\\lib\\\\mic', 'NUMBER_OF_PROCESSORS': '16', 'NVCUDASAMPLES11_4_ROOT': 'C:\\\\ProgramData\\\\NVIDIA Corporation\\\\CUDA Samples\\\\v11.4', 'NVCUDASAMPLES_ROOT': 'C:\\\\ProgramData\\\\NVIDIA Corporation\\\\CUDA Samples\\\\v11.4', 'NVTOOLSEXT_PATH': 'C:\\\\Program Files\\\\NVIDIA Corporation\\\\NvToolsExt\\\\', 'ONEDRIVE': 'C:\\\\Users\\\\rusan\\\\OneDrive', 'ONEDRIVECONSUMER': 'C:\\\\Users\\\\rusan\\\\OneDrive', 'OS': 'Windows_NT', 'PATH': 'C:\\\\Programs\\\\Anaconda3\\\\envs\\\\YaBigData;C:\\\\Programs\\\\Anaconda3\\\\envs\\\\YaBigData\\\\Library\\\\mingw-w64\\\\bin;C:\\\\Programs\\\\Anaconda3\\\\envs\\\\YaBigData\\\\Library\\\\usr\\\\bin;C:\\\\Programs\\\\Anaconda3\\\\envs\\\\YaBigData\\\\Library\\\\bin;C:\\\\Programs\\\\Anaconda3\\\\envs\\\\YaBigData\\\\Scripts;C:\\\\Programs\\\\Anaconda3\\\\envs\\\\YaBigData\\\\bin;C:\\\\Programs\\\\Anaconda3\\\\condabin;C:\\\\Program Files (x86)\\\\VMware\\\\VMware Player\\\\bin;C:\\\\Program Files (x86)\\\\Common Files\\\\Intel\\\\Shared Libraries\\\\redist\\\\intel64\\\\compiler;C:\\\\Program Files\\\\NVIDIA GPU Computing Toolkit\\\\CUDA\\\\v11.4\\\\bin;C:\\\\Program Files\\\\NVIDIA GPU Computing Toolkit\\\\CUDA\\\\v11.4\\\\libnvvp;C:\\\\Program Files\\\\Python311\\\\Scripts;C:\\\\Program Files\\\\Python311;C:\\\\Windows\\\\system32;C:\\\\Windows;C:\\\\Windows\\\\System32\\\\Wbem;C:\\\\Windows\\\\System32\\\\WindowsPowerShell\\\\v1.0;C:\\\\Windows\\\\System32\\\\OpenSSH;C:\\\\Program Files\\\\Microsoft SQL Server\\\\150\\\\Tools\\\\Binn;C:\\\\Program Files\\\\Microsoft SQL Server\\\\Client SDK\\\\ODBC\\\\170\\\\Tools\\\\Binn;C:\\\\Program Files (x86)\\\\NVIDIA Corporation\\\\PhysX\\\\Common;C:\\\\Program Files\\\\WireGuard;C:\\\\Program Files (x86)\\\\Windows Kits\\\\10\\\\Windows Performance Toolkit;C:\\\\Program Files\\\\NVIDIA Corporation\\\\NVIDIA app\\\\NvDLISR;C:\\\\Program Files\\\\dotnet;C:\\\\Program Files\\\\Git\\\\cmd;C:\\\\Program Files\\\\PowerShell\\\\7;C:\\\\Programs\\\\Anaconda3\\\\Scripts;C:\\\\Program Files\\\\PuTTY;C:\\\\Users\\\\rusan\\\\AppData\\\\Local\\\\Microsoft\\\\WindowsApps;.;C:\\\\Program Files\\\\JetBrains\\\\PyCharm Community Edition 2023.2.3\\\\bin;.;C:\\\\Programs\\\\Microsoft VS Code\\\\bin;C:\\\\Program Files\\\\JetBrains\\\\PyCharm 2023.1\\\\bin;.;C:\\\\Program Files\\\\JetBrains\\\\JetBrains Rider 2023.1\\\\bin;.;C:\\\\Program Files\\\\JetBrains\\\\CLion 2023.1\\\\bin;.;C:\\\\Users\\\\rusan\\\\.dotnet\\\\tools;C:\\\\Programs\\\\Anaconda3\\\\Library\\\\Bin', 'PATHEXT': '.COM;.EXE;.BAT;.CMD;.VBS;.VBE;.JS;.JSE;.WSF;.WSH;.MSC;.PY;.PYW', 'PHPSTORM_VM_OPTIONS': 'C:\\\\Programs\\\\Activation\\\\ja-netfilter-all\\\\vmoptions\\\\phpstorm.vmoptions', 'POWERSHELL_DISTRIBUTION_CHANNEL': 'MSI:Windows 10 Pro', 'PROCESSOR_ARCHITECTURE': 'AMD64', 'PROCESSOR_IDENTIFIER': 'AMD64 Family 25 Model 33 Stepping 2, AuthenticAMD', 'PROCESSOR_LEVEL': '25', 'PROCESSOR_REVISION': '2102', 'PROGRAMDATA': 'C:\\\\ProgramData', 'PROGRAMFILES': 'C:\\\\Program Files', 'PROGRAMFILES(X86)': 'C:\\\\Program Files (x86)', 'PROGRAMW6432': 'C:\\\\Program Files', 'PROMPT': '(YaBigData) $P$G', 'PSMODULEPATH': 'C:\\\\Program Files\\\\WindowsPowerShell\\\\Modules;C:\\\\Windows\\\\system32\\\\WindowsPowerShell\\\\v1.0\\\\Modules', 'PUBLIC': 'C:\\\\Users\\\\Public', 'PYCHARM': 'C:\\\\Program Files\\\\JetBrains\\\\PyCharm 2023.1\\\\bin;', 'PYCHARM COMMUNITY EDITION': 'C:\\\\Program Files\\\\JetBrains\\\\PyCharm Community Edition 2023.2.3\\\\bin;', 'PYCHARM_VM_OPTIONS': 'C:\\\\Programs\\\\Activation\\\\ja-netfilter-all\\\\vmoptions\\\\pycharm.vmoptions', 'PYDEVD_USE_FRAME_EVAL': 'NO', 'PYTHONPATH': 'C:\\\\Projects\\\\PycharmProjects\\\\BigData_Yandex', 'QSYS_ROOTDIR': 'C:\\\\Intel_Quartus\\\\23.1\\\\quartus\\\\sopc_builder\\\\bin', 'QUARTUS_ROOTDIR': 'C:\\\\Intel_Quartus\\\\23.1\\\\quartus', 'RIDER_VM_OPTIONS': 'C:\\\\Programs\\\\Activation\\\\ja-netfilter-all\\\\vmoptions\\\\rider.vmoptions', 'RUBYMINE_VM_OPTIONS': 'C:\\\\Programs\\\\Activation\\\\ja-netfilter-all\\\\vmoptions\\\\rubymine.vmoptions', 'SESSIONNAME': 'Console', 'SOPC_KIT_NIOS2': 'C:\\\\Intel_Quartus\\\\23.1\\\\nios2eds', 'STUDIO_VM_OPTIONS': 'C:\\\\Programs\\\\Activation\\\\ja-netfilter-all\\\\vmoptions\\\\studio.vmoptions', 'SYSTEMDRIVE': 'C:', 'SYSTEMROOT': 'C:\\\\Windows', 'TEMP': 'C:\\\\Users\\\\rusan\\\\AppData\\\\Local\\\\Temp', 'TMP': 'C:\\\\Users\\\\rusan\\\\AppData\\\\Local\\\\Temp', 'USERDOMAIN': 'KIDS', 'USERDOMAIN_ROAMINGPROFILE': 'KIDS', 'USERNAME': 'rusan', 'USERPROFILE': 'C:\\\\Users\\\\rusan', 'VBOX_MSI_INSTALL_PATH': 'C:\\\\Program Files\\\\Oracle\\\\VirtualBox\\\\', 'WEBIDE_VM_OPTIONS': 'C:\\\\Programs\\\\Activation\\\\ja-netfilter-all\\\\vmoptions\\\\webide.vmoptions', 'WEBSTORM_VM_OPTIONS': 'C:\\\\Programs\\\\Activation\\\\ja-netfilter-all\\\\vmoptions\\\\webstorm.vmoptions', 'WINDIR': 'C:\\\\Windows', 'TERM': 'xterm-color', 'CLICOLOR': '1', 'FORCE_COLOR': '1', 'CLICOLOR_FORCE': '1', 'PAGER': 'cat', 'GIT_PAGER': 'cat', 'MPLBACKEND': 'module://matplotlib_inline.backend_inline'})\n"
     ]
    }
   ],
   "execution_count": 1
  },
  {
   "metadata": {
    "ExecuteTime": {
     "end_time": "2024-10-16T12:23:37.731210Z",
     "start_time": "2024-10-16T12:23:37.727140Z"
    }
   },
   "cell_type": "code",
   "source": [
    "import datetime\n",
    "import time\n",
    "\n",
    "d1 = datetime.datetime.now()\n",
    "d2 = datetime.date(d1.year, d1.month, d1.day)\n",
    "print(d1, d2, d1.timestamp())\n",
    "\n",
    "t1 = time.time()\n",
    "d3 = datetime.datetime.fromtimestamp(t1)\n",
    "print(t1, d3)\n",
    "print(type(t1))"
   ],
   "id": "8bca381814c6eea5",
   "outputs": [
    {
     "name": "stdout",
     "output_type": "stream",
     "text": [
      "2024-10-16 15:23:37.729141 2024-10-16 1729081417.729141\n",
      "1729081417.729142 2024-10-16 15:23:37.729142\n",
      "<class 'float'>\n"
     ]
    }
   ],
   "execution_count": 7
  }
 ],
 "metadata": {
  "kernelspec": {
   "display_name": "Python 3",
   "language": "python",
   "name": "python3"
  },
  "language_info": {
   "codemirror_mode": {
    "name": "ipython",
    "version": 2
   },
   "file_extension": ".py",
   "mimetype": "text/x-python",
   "name": "python",
   "nbconvert_exporter": "python",
   "pygments_lexer": "ipython2",
   "version": "2.7.6"
  }
 },
 "nbformat": 4,
 "nbformat_minor": 5
}
